{
 "cells": [
  {
   "cell_type": "markdown",
   "metadata": {},
   "source": [
    "# Comparison between VBR and SSN 4th order SG models in the EMT domain"
   ]
  },
  {
   "cell_type": "markdown",
   "metadata": {},
   "source": [
    "## Run C++ examples"
   ]
  },
  {
   "cell_type": "code",
   "execution_count": 2,
   "metadata": {},
   "outputs": [
    {
     "name": "stdout",
     "output_type": "stream",
     "text": [
      "SGModel=4\n",
      "[17:18:37.571057 EMT_SMIB_ReducedOrderSG_LoadStep_PF info] Initialize simulation: EMT_SMIB_ReducedOrderSG_LoadStep_PF\n",
      "[17:18:37.571349 EMT_SMIB_ReducedOrderSG_LoadStep_PF info] Scheduling tasks.\n",
      "[17:18:37.571507 EMT_SMIB_ReducedOrderSG_LoadStep_PF info] Scheduling done.\n",
      "[17:18:37.571517 EMT_SMIB_ReducedOrderSG_LoadStep_PF info] Opening interfaces.\n",
      "[17:18:37.571519 EMT_SMIB_ReducedOrderSG_LoadStep_PF info] Start synchronization with remotes on interfaces\n",
      "[17:18:37.571520 EMT_SMIB_ReducedOrderSG_LoadStep_PF info] Synchronized simulation start with remotes\n",
      "[17:18:37.571523 EMT_SMIB_ReducedOrderSG_LoadStep_PF info] Start simulation: EMT_SMIB_ReducedOrderSG_LoadStep_PF\n",
      "[17:18:37.571527 EMT_SMIB_ReducedOrderSG_LoadStep_PF info] Time step: 1.000000e-01\n",
      "[17:18:37.571533 EMT_SMIB_ReducedOrderSG_LoadStep_PF info] Final time: 1.000000e-01\n",
      "[17:18:37.572132 EMT_SMIB_ReducedOrderSG_LoadStep_PF info] Simulation calculation time: 0.000592\n",
      "[17:18:37.572172 EMT_SMIB_ReducedOrderSG_LoadStep_PF info] Simulation finished.\n",
      "[17:18:37.573027 EMT_SMIB_ReducedOrderSG_LoadStep info] Initialize simulation: EMT_SMIB_ReducedOrderSG_LoadStep\n",
      "[17:18:37.573118 MnaSolverFactory info] creating KLUAdapter solver implementation\n",
      "[17:18:37.576084 EMT_SMIB_ReducedOrderSG_LoadStep info] Scheduling tasks.\n",
      "[17:18:37.576388 EMT_SMIB_ReducedOrderSG_LoadStep info] Scheduling done.\n",
      "[17:18:37.576397 EMT_SMIB_ReducedOrderSG_LoadStep info] Opening interfaces.\n",
      "[17:18:37.576398 EMT_SMIB_ReducedOrderSG_LoadStep info] Start synchronization with remotes on interfaces\n",
      "[17:18:37.576400 EMT_SMIB_ReducedOrderSG_LoadStep info] Synchronized simulation start with remotes\n",
      "[17:18:37.576404 EMT_SMIB_ReducedOrderSG_LoadStep info] Start simulation: EMT_SMIB_ReducedOrderSG_LoadStep\n",
      "[17:18:37.576409 EMT_SMIB_ReducedOrderSG_LoadStep info] Time step: 1.000000e-03\n",
      "[17:18:37.576411 EMT_SMIB_ReducedOrderSG_LoadStep info] Final time: 1.000000e+00\n",
      "[17:18:37.742257 EMT_SMIB_ReducedOrderSG_LoadStep info] Simulation calculation time: 0.165820\n",
      "[17:18:37.743083 EMT_SMIB_ReducedOrderSG_LoadStep info] Simulation finished.\n",
      "test\n",
      "/home/mto/dpsim/build/dpsim/examples/cxx/EMT_SMIB_ReducedOrderSG_LoadStep\n",
      "SGModel=4\n",
      "[17:18:37.758429 EMT_SMIB_4OrderSG_SSN_LoadStep_PF info] Initialize simulation: EMT_SMIB_4OrderSG_SSN_LoadStep_PF\n",
      "[17:18:37.758735 EMT_SMIB_4OrderSG_SSN_LoadStep_PF info] Scheduling tasks.\n",
      "[17:18:37.758888 EMT_SMIB_4OrderSG_SSN_LoadStep_PF info] Scheduling done.\n",
      "[17:18:37.758897 EMT_SMIB_4OrderSG_SSN_LoadStep_PF info] Opening interfaces.\n",
      "[17:18:37.758899 EMT_SMIB_4OrderSG_SSN_LoadStep_PF info] Start synchronization with remotes on interfaces\n",
      "[17:18:37.758900 EMT_SMIB_4OrderSG_SSN_LoadStep_PF info] Synchronized simulation start with remotes\n",
      "[17:18:37.758902 EMT_SMIB_4OrderSG_SSN_LoadStep_PF info] Start simulation: EMT_SMIB_4OrderSG_SSN_LoadStep_PF\n",
      "[17:18:37.758906 EMT_SMIB_4OrderSG_SSN_LoadStep_PF info] Time step: 1.000000e-01\n",
      "[17:18:37.758911 EMT_SMIB_4OrderSG_SSN_LoadStep_PF info] Final time: 1.000000e-01\n",
      "[17:18:37.759481 EMT_SMIB_4OrderSG_SSN_LoadStep_PF info] Simulation calculation time: 0.000565\n",
      "[17:18:37.759519 EMT_SMIB_4OrderSG_SSN_LoadStep_PF info] Simulation finished.\n",
      "[17:18:37.761225 EMT_SMIB_4OrderSG_SSN_LoadStep info] Initialize simulation: EMT_SMIB_4OrderSG_SSN_LoadStep\n",
      "[17:18:37.763006 EMT_SMIB_4OrderSG_SSN_LoadStep_Solver warning] Linear solver configuration is not used!\n",
      "[17:18:37.764681 EMT_SMIB_4OrderSG_SSN_LoadStep info] Scheduling tasks.\n",
      "[17:18:37.765004 EMT_SMIB_4OrderSG_SSN_LoadStep info] Scheduling done.\n",
      "[17:18:37.765014 EMT_SMIB_4OrderSG_SSN_LoadStep info] Opening interfaces.\n",
      "[17:18:37.765015 EMT_SMIB_4OrderSG_SSN_LoadStep info] Start synchronization with remotes on interfaces\n",
      "[17:18:37.765016 EMT_SMIB_4OrderSG_SSN_LoadStep info] Synchronized simulation start with remotes\n",
      "[17:18:37.765019 EMT_SMIB_4OrderSG_SSN_LoadStep info] Start simulation: EMT_SMIB_4OrderSG_SSN_LoadStep\n",
      "[17:18:37.765023 EMT_SMIB_4OrderSG_SSN_LoadStep info] Time step: 1.000000e-05\n",
      "[17:18:37.765027 EMT_SMIB_4OrderSG_SSN_LoadStep info] Final time: 3.500000e+01\n",
      "EMT_SMIB_4OrderSG_SSN_LoadStep: /usr/include/eigen3/Eigen/src/SparseLU/SparseLU.h:220: bool Eigen::SparseLU<_MatrixType, _OrderingType>::_solve_impl(const Eigen::MatrixBase<OtherDerived>&, Eigen::MatrixBase<OtherDerived>&) const [with Rhs = Eigen::Matrix<double, -1, -1>; Dest = Eigen::Matrix<double, -1, -1>; _MatrixType = Eigen::SparseMatrix<double, 1>; _OrderingType = Eigen::COLAMDOrdering<int>]: Assertion `m_factorizationIsOk && \"The matrix should be factorized first\"' failed.\n",
      "\n",
      "/home/mto/dpsim/build/dpsim/examples/cxx/EMT_SMIB_4OrderSG_SSN_LoadStep\n"
     ]
    }
   ],
   "source": [
    "import os\n",
    "import subprocess\n",
    "\n",
    "#%matplotlib widget\n",
    "#'EMT_ReducedOrderSG_VBR_Load_Fault'\n",
    "\n",
    "name = ['EMT_SMIB_ReducedOrderSG_LoadStep','EMT_SMIB_4OrderSG_SSN_LoadStep']\n",
    "options = ['SGModel=4']\n",
    "\n",
    "dpsim_path = subprocess.Popen(['git', 'rev-parse', '--show-toplevel'], stdout=subprocess.PIPE).communicate()[0].rstrip().decode('utf-8')\n",
    "\n",
    "path_exec = dpsim_path + '/build/dpsim/examples/cxx/'\n",
    "for i in range(len(name)):\n",
    "    for j in range (len(options)):\n",
    "        print(options[j])\n",
    "        sim = subprocess.Popen([path_exec + name[i], '-o', options[j]], stdout=subprocess.PIPE, stderr=subprocess.STDOUT)\n",
    "        print(sim.communicate()[0].decode())\n",
    "        print(path_exec + name[i])"
   ]
  },
  {
   "cell_type": "markdown",
   "metadata": {},
   "source": [
    "### Load Results"
   ]
  },
  {
   "cell_type": "code",
   "execution_count": null,
   "metadata": {},
   "outputs": [],
   "source": [
    "from villas.dataprocessing.readtools import *\n",
    "from villas.dataprocessing.timeseries import *\n",
    "from villas.dataprocessing.timeseries import TimeSeries as ts\n",
    "import matplotlib.pyplot as plt\n",
    "import re\n",
    "import numpy as np\n",
    "import math\n",
    "import os\n",
    "\n",
    "work_dir = os.getcwd() + \"/logs/\"\n",
    "file_name_VBR = 'SynGen4Order_VBR_Load_Fault'\n",
    "file_name_SSN = 'SynGen44Order_SSN_Load_Fault'\n",
    "\n",
    "path_logfile_VBR = work_dir + \"EMT_SMIB_ReducedOrderSG_LoadStep\" + \"/\" + \"EMT_SMIB_ReducedOrderSG_LoadStep\" + \".csv\"\n",
    "path_logfile_SSN = work_dir + \"EMT_SMIB_4OrderSG_SSN_LoadStep\" + \"/\" + \"EMT_SMIB_4OrderSG_SSN_LoadStep\" + \".csv\"\n",
    "\n",
    "ts_dpsim_VBR = read_timeseries_dpsim(path_logfile_VBR)\n",
    "ts_dpsim_SSN = read_timeseries_dpsim(path_logfile_SSN)"
   ]
  },
  {
   "cell_type": "markdown",
   "metadata": {},
   "source": [
    "### Declare plot function"
   ]
  },
  {
   "cell_type": "code",
   "execution_count": null,
   "metadata": {},
   "outputs": [],
   "source": [
    "def plot_phase_voltage(phase):\n",
    "\n",
    "    width = 16\n",
    "    height = 4\n",
    "    color_EMT = 'black'\n",
    "    linestyle_EMT = '-'\n",
    "\n",
    "    plt.close('all')\n",
    "    fig1 = plt.figure()\n",
    "\n",
    "    plt.plot(ts_dpsim_VBR['n1EMT.V_0'].time, ts_dpsim_VBR['n1EMT.V_1'].values - ts_dpsim_VBR['n1EMT.V_0'].values, \"r-\", label='V_VBR_A')\n",
    "    plt.plot(ts_dpsim_SSN['n1EMT.V_0'].time, ts_dpsim_SSN['n1EMT.V_1'].values - ts_dpsim_SSN['n1EMT.V_0'].values, \"b-\", label='V_SSN_A')\n",
    "\n",
    "    plt.legend(loc = 4)\n",
    "    #plt.legend(bbox_to_anchor=(1,1))\n",
    "\n",
    "    plt.title('Phase A SG voltage')\n",
    "    plt.xlabel('t [s]')\n",
    "    plt.ylabel('Phase voltage [V]')\n",
    "\n",
    "    fig1.show()\n",
    "\n",
    "    return\n",
    "\n",
    "\n",
    "\n",
    "\n"
   ]
  },
  {
   "cell_type": "markdown",
   "metadata": {},
   "source": [
    "### Phase A Voltages"
   ]
  },
  {
   "cell_type": "code",
   "execution_count": null,
   "metadata": {},
   "outputs": [],
   "source": [
    "plot_phase_voltage('A')"
   ]
  },
  {
   "cell_type": "code",
   "execution_count": null,
   "metadata": {},
   "outputs": [],
   "source": []
  }
 ],
 "metadata": {
  "kernelspec": {
   "display_name": "Python 3 (ipykernel)",
   "language": "python",
   "name": "python3"
  },
  "language_info": {
   "codemirror_mode": {
    "name": "ipython",
    "version": 3
   },
   "file_extension": ".py",
   "mimetype": "text/x-python",
   "name": "python",
   "nbconvert_exporter": "python",
   "pygments_lexer": "ipython3",
   "version": "3.9.13"
  },
  "tests": {
   "skip": false
  },
  "vscode": {
   "interpreter": {
    "hash": "e7370f93d1d0cde622a1f8e1c04877d8463912d04d973331ad4851f04de6915a"
   }
  }
 },
 "nbformat": 4,
 "nbformat_minor": 4
}
