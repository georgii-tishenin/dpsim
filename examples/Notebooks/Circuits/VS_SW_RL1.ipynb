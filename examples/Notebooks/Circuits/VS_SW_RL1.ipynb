{
 "cells": [
  {
   "cell_type": "markdown",
   "metadata": {},
   "source": [
    "# Circuit VS_SW_RL1"
   ]
  },
  {
   "cell_type": "code",
   "execution_count": null,
   "metadata": {
    "tags": []
   },
   "outputs": [],
   "source": [
    "import math\n",
    "import villas.dataprocessing.readtools as rt\n",
    "import villas.dataprocessing.plottools as pt\n",
    "from villas.dataprocessing.timeseries import TimeSeries as ts\n",
    "import matplotlib.pyplot as plt\n",
    "import numpy as np\n",
    "import dpsimpy\n",
    "\n",
    "# %matplotlib widget"
   ]
  },
  {
   "cell_type": "markdown",
   "metadata": {
    "tags": []
   },
   "source": [
    "## SP for Initialization"
   ]
  },
  {
   "cell_type": "code",
   "execution_count": null,
   "metadata": {},
   "outputs": [],
   "source": [
    "sim_name_pf = 'SP_1Ph_VS_SW_RL1_Init'\n",
    "dpsimpy.Logger.set_log_dir(\"logs/\" + sim_name_pf)\n",
    "\n",
    "# Nodes\n",
    "gnd_pf = dpsimpy.sp.SimNode.gnd\n",
    "n1_pf  = dpsimpy.sp.SimNode('n1_pf')\n",
    "n2_pf  = dpsimpy.sp.SimNode('n2_pf')\n",
    "n3_pf  = dpsimpy.sp.SimNode('n2_pf')\n",
    "\n",
    "resistance = 5\n",
    "inductance = 0.02\n",
    "open_resistance = 1e6\n",
    "closed_resistance = 0.001\n",
    "\n",
    "# Components\n",
    "vs_pf = dpsimpy.sp.ph1.VoltageSource('vs')\n",
    "vs_pf.set_parameters(V_ref=complex(10,0), f_src=50) # Vref is phase-to-phase RMS\n",
    "sw_pf = dpsimpy.sp.ph1.Resistor('r1_pf')\n",
    "sw_pf.set_parameters(closed_resistance)\n",
    "r1_pf = dpsimpy.sp.ph1.Resistor('r1_pf')\n",
    "r1_pf.set_parameters(resistance)\n",
    "l1_pf = dpsimpy.sp.ph1.Inductor('l1_pf')\n",
    "l1_pf.set_parameters(inductance)\n",
    "\n",
    "\n",
    "# Connections\n",
    "vs_pf.connect([gnd_pf, n1_pf])\n",
    "sw_pf.connect([n1_pf, n2_pf])\n",
    "r1_pf.connect([n2_pf, n3_pf])\n",
    "l1_pf.connect([gnd_pf, n3_pf])\n",
    "\n",
    "# Define system topology\n",
    "system_pf = dpsimpy.SystemTopology(50, [n1_pf, n2_pf, n3_pf], [vs_pf, sw_pf, r1_pf, l1_pf])\n",
    "\n",
    "# Logging\n",
    "logger_pf = dpsimpy.Logger(sim_name_pf)\n",
    "logger_pf.log_attribute('n1.v', 'v', n1_pf)\n",
    "logger_pf.log_attribute('n2.v', 'v', n2_pf)\n",
    "logger_pf.log_attribute('n2.v', 'v', n3_pf)\n",
    "\n",
    "sim_pf = dpsimpy.Simulation(sim_name_pf, dpsimpy.LogLevel.debug)\n",
    "sim_pf.set_system(system_pf)\n",
    "sim_pf.set_domain(dpsimpy.Domain.SP)\n",
    "sim_pf.set_time_step(0.1)\n",
    "sim_pf.set_final_time(0.5)\n",
    "sim_pf.add_logger(logger_pf)\n",
    "sim_pf.run()"
   ]
  },
  {
   "cell_type": "markdown",
   "metadata": {
    "tags": []
   },
   "source": [
    "## EMT 1Ph"
   ]
  },
  {
   "cell_type": "code",
   "execution_count": null,
   "metadata": {
    "tags": []
   },
   "outputs": [],
   "source": [
    "time_step = 0.00001\n",
    "final_time = 1\n",
    "sim_name = 'EMT_1Ph_VS_SW_RL1'\n",
    "dpsimpy.Logger.set_log_dir('logs/' + sim_name)\n",
    "\n",
    "gnd = dpsimpy.emt.SimNode.gnd\n",
    "n1 = dpsimpy.emt.SimNode('n1')\n",
    "n1.set_initial_voltage(sim_pf.get_idobj_attr(n1_pf.name(), 'v').get()[0][0])\n",
    "n2 = dpsimpy.emt.SimNode('n2')\n",
    "n2.set_initial_voltage(sim_pf.get_idobj_attr(n2_pf.name(), 'v').get()[0][0])\n",
    "n3 = dpsimpy.emt.SimNode('n3')\n",
    "n3.set_initial_voltage(sim_pf.get_idobj_attr(n3_pf.name(), 'v').get()[0][0])\n",
    "\n",
    "resistance = 5\n",
    "inductance = 0.02\n",
    "open_resistance = 1e6\n",
    "closed_resistance = 0.001\n",
    "\n",
    "vs = dpsimpy.emt.ph1.VoltageSource('vs')\n",
    "vs.set_parameters(complex(10, 0)* math.sqrt(2/3), 50) # still using deprecated class that is initialised with Vref phase-to-ground peak voltage\n",
    "res = dpsimpy.emt.ph1.Resistor('Resistor')\n",
    "res.set_parameters(resistance)\n",
    "ind = dpsimpy.emt.ph1.Inductor('Inductance')\n",
    "ind.set_parameters(inductance)\n",
    "sw = dpsimpy.emt.ph1.Switch('Switch')\n",
    "sw.set_parameters(open_resistance, closed_resistance, True)\n",
    "\n",
    "vs.connect([gnd, n1])\n",
    "sw.connect([n1, n2])\n",
    "res.connect([n2, n3])\n",
    "ind.connect([n3, gnd])\n",
    "\n",
    "sys = dpsimpy.SystemTopology(50, [n1, n2, n3], [vs, sw, res, ind])\n",
    "\n",
    "logger = dpsimpy.Logger(sim_name)\n",
    "logger.log_attribute('n1.v', 'v', n1)\n",
    "logger.log_attribute('n2.v', 'v', n2)\n",
    "logger.log_attribute('n3.v', 'v', n3)\n",
    "logger.log_attribute('r1.i_intf', 'i_intf', res)\n",
    "\n",
    "sim = dpsimpy.Simulation(sim_name)\n",
    "sim.set_domain(dpsimpy.Domain.EMT)\n",
    "sim.set_solver(dpsimpy.Solver.MNA)\n",
    "sim.set_system(sys)\n",
    "sim.set_time_step(time_step)\n",
    "sim.set_final_time(final_time)\n",
    "sim.add_logger(logger)\n",
    "\n",
    "event_sw = dpsimpy.event.SwitchEvent(0.5, sw, False)\n",
    "sim.add_event(event_sw)\n",
    "\n",
    "sim.run()"
   ]
  },
  {
   "cell_type": "markdown",
   "metadata": {
    "tags": []
   },
   "source": [
    "## DP 1Ph"
   ]
  },
  {
   "cell_type": "code",
   "execution_count": null,
   "metadata": {},
   "outputs": [],
   "source": [
    "time_step = 0.00001\n",
    "final_time = 1\n",
    "sim_name = 'DP_1Ph_VS_SW_RL1'\n",
    "dpsimpy.Logger.set_log_dir(\"logs/\" + sim_name)\n",
    "\n",
    "# Nodes\n",
    "gnd = dpsimpy.dp.SimNode.gnd\n",
    "n1 =  dpsimpy.dp.SimNode('n1')\n",
    "n1.set_initial_voltage(sim_pf.get_idobj_attr(n1_pf.name(), 'v').get()[0][0])\n",
    "n2 =  dpsimpy.dp.SimNode('n2')\n",
    "n2.set_initial_voltage(sim_pf.get_idobj_attr(n2_pf.name(), 'v').get()[0][0])\n",
    "n3 =  dpsimpy.dp.SimNode('n3')\n",
    "n3.set_initial_voltage(sim_pf.get_idobj_attr(n3_pf.name(), 'v').get()[0][0])\n",
    "\n",
    "resistance = 5\n",
    "inductance = 0.02\n",
    "open_resistance = 1e6\n",
    "closed_resistance = 0.001\n",
    "\n",
    "# Components\n",
    "vs = dpsimpy.dp.ph1.VoltageSource('vs')\n",
    "vs.set_parameters(V_ref=complex(10,0), f_src=50)\n",
    "res = dpsimpy.dp.ph1.Resistor('r1')\n",
    "res.set_parameters(resistance)\n",
    "ind = dpsimpy.dp.ph1.Inductor('l1')\n",
    "ind.set_parameters(inductance)\n",
    "sw = dpsimpy.dp.ph1.Switch('Switch')\n",
    "sw.set_parameters(open_resistance, closed_resistance, True)\n",
    "\n",
    "vs.connect([gnd, n1])\n",
    "sw.connect([n1, n2])\n",
    "res.connect([n2, n3])\n",
    "ind.connect([n3, gnd])\n",
    "\n",
    "sys = dpsimpy.SystemTopology(50, [gnd, n1, n2, n3], [vs, sw, ind, res])\n",
    "\n",
    "logger = dpsimpy.Logger(sim_name)\n",
    "logger.log_attribute('n1.v', 'v', n1);\n",
    "logger.log_attribute('n2.v', 'v', n2);\n",
    "logger.log_attribute('n3.v', 'v', n3);\n",
    "logger.log_attribute('r1.i_intf', 'i_intf', res);\n",
    "\n",
    "sim = dpsimpy.Simulation(sim_name)\n",
    "sim.set_domain(dpsimpy.Domain.DP)\n",
    "sim.set_solver(dpsimpy.Solver.MNA)\n",
    "sim.set_system(sys)\n",
    "sim.set_time_step(time_step)\n",
    "sim.set_final_time(final_time)\n",
    "sim.add_logger(logger)\n",
    "\n",
    "event_sw = dpsimpy.event.SwitchEvent(0.5, sw, False)\n",
    "sim.add_event(event_sw)\n",
    "\n",
    "sim.run()"
   ]
  },
  {
   "cell_type": "markdown",
   "metadata": {
    "tags": []
   },
   "source": [
    "## SP 1Ph"
   ]
  },
  {
   "cell_type": "code",
   "execution_count": null,
   "metadata": {},
   "outputs": [],
   "source": [
    "time_step = 0.00001\n",
    "final_time = 1\n",
    "sim_name = 'SP_1Ph_VS_SW_RL1'\n",
    "dpsimpy.Logger.set_log_dir(\"logs/\" + sim_name)\n",
    "\n",
    "# Nodes\n",
    "gnd = dpsimpy.sp.SimNode.gnd\n",
    "n1 =  dpsimpy.sp.SimNode('n1')\n",
    "n1.set_initial_voltage(sim_pf.get_idobj_attr(n1_pf.name(), 'v').get()[0][0])\n",
    "n2 =  dpsimpy.sp.SimNode('n2')\n",
    "n2.set_initial_voltage(sim_pf.get_idobj_attr(n2_pf.name(), 'v').get()[0][0])\n",
    "n3 =  dpsimpy.sp.SimNode('n3')\n",
    "n3.set_initial_voltage(sim_pf.get_idobj_attr(n3_pf.name(), 'v').get()[0][0])\n",
    "\n",
    "resistance = 5\n",
    "inductance = 0.02\n",
    "open_resistance = 1e6\n",
    "closed_resistance = 0.001\n",
    "\n",
    "# Components\n",
    "vs = dpsimpy.sp.ph1.VoltageSource('vs')\n",
    "vs.set_parameters(V_ref=complex(10,0), f_src=50)\n",
    "res = dpsimpy.sp.ph1.Resistor('r1')\n",
    "res.set_parameters(resistance)\n",
    "ind = dpsimpy.sp.ph1.Inductor('l1')\n",
    "ind.set_parameters(inductance)\n",
    "sw = dpsimpy.sp.ph1.Switch('Switch')\n",
    "sw.set_parameters(open_resistance, closed_resistance, True)\n",
    "\n",
    "vs.connect([gnd, n1])\n",
    "sw.connect([n1, n2])\n",
    "res.connect([n2, n3])\n",
    "ind.connect([n3, gnd])\n",
    "\n",
    "sys = dpsimpy.SystemTopology(50, [gnd, n1, n2, n3], [vs, sw, ind, res])\n",
    "\n",
    "logger = dpsimpy.Logger(sim_name)\n",
    "logger.log_attribute('n1.v', 'v', n1);\n",
    "logger.log_attribute('n2.v', 'v', n2);\n",
    "logger.log_attribute('n3.v', 'v', n3);\n",
    "logger.log_attribute('r1.i_intf', 'i_intf', res);\n",
    "\n",
    "sim = dpsimpy.Simulation(sim_name)\n",
    "sim.set_domain(dpsimpy.Domain.SP)\n",
    "sim.set_solver(dpsimpy.Solver.MNA)\n",
    "sim.set_system(sys)\n",
    "sim.set_time_step(time_step)\n",
    "sim.set_final_time(final_time)\n",
    "sim.add_logger(logger)\n",
    "\n",
    "event_sw = dpsimpy.event.SwitchEvent(0.5, sw, False)\n",
    "sim.add_event(event_sw)\n",
    "\n",
    "sim.run()"
   ]
  },
  {
   "cell_type": "markdown",
   "metadata": {},
   "source": [
    "## EMT 3Ph"
   ]
  },
  {
   "cell_type": "code",
   "execution_count": null,
   "metadata": {},
   "outputs": [],
   "source": [
    "time_step = 0.00001\n",
    "final_time = 1\n",
    "sim_name = 'EMT_3Ph_VS_SW_RL1'\n",
    "dpsimpy.Logger.set_log_dir('logs/' + sim_name)\n",
    "\n",
    "gnd = dpsimpy.emt.SimNode.gnd\n",
    "n1 = dpsimpy.emt.SimNode('n1', dpsimpy.PhaseType.ABC)\n",
    "n1.set_initial_voltage(sim_pf.get_idobj_attr(n1_pf.name(), 'v').get()[0][0])\n",
    "n2 = dpsimpy.emt.SimNode('n2', dpsimpy.PhaseType.ABC)\n",
    "n2.set_initial_voltage(sim_pf.get_idobj_attr(n2_pf.name(), 'v').get()[0][0])\n",
    "n3 = dpsimpy.emt.SimNode('n3', dpsimpy.PhaseType.ABC)\n",
    "n3.set_initial_voltage(sim_pf.get_idobj_attr(n3_pf.name(), 'v').get()[0][0])\n",
    "\n",
    "resistance = 5\n",
    "inductance = 0.02\n",
    "open_resistance = 1e6\n",
    "closed_resistance = 0.001\n",
    "\n",
    "vs = dpsimpy.emt.ph3.VoltageSource('vs')\n",
    "vs.set_parameters(V_ref=dpsimpy.Math.single_phase_variable_to_three_phase(complex(10, 0)), f_src=50)\n",
    "res = dpsimpy.emt.ph3.Resistor('Resistor')\n",
    "res.set_parameters(dpsimpy.Math.single_phase_parameter_to_three_phase(resistance))\n",
    "ind = dpsimpy.emt.ph3.Inductor('Inductance')\n",
    "ind.set_parameters(dpsimpy.Math.single_phase_parameter_to_three_phase(inductance))\n",
    "sw = dpsimpy.emt.ph3.Switch('Switch')\n",
    "sw.set_parameters(dpsimpy.Math.single_phase_parameter_to_three_phase(open_resistance), dpsimpy.Math.single_phase_parameter_to_three_phase(closed_resistance), True)\n",
    "sw.close()\n",
    "\n",
    "vs.connect([gnd, n1])\n",
    "sw.connect([n1, n2])\n",
    "res.connect([n2, n3])\n",
    "ind.connect([n3, gnd])\n",
    "\n",
    "sys = dpsimpy.SystemTopology(50, [gnd, n1, n2, n3], [vs, sw, res, ind])\n",
    "\n",
    "logger = dpsimpy.Logger(sim_name)\n",
    "logger.log_attribute('n1.v', 'v', n1);\n",
    "logger.log_attribute('n2.v', 'v', n2);\n",
    "logger.log_attribute('n3.v', 'v', n3);\n",
    "logger.log_attribute('r1.i_intf', 'i_intf', res)\n",
    "\n",
    "sim = dpsimpy.Simulation(sim_name)\n",
    "sim.set_domain(dpsimpy.Domain.EMT)\n",
    "sim.set_solver(dpsimpy.Solver.MNA)\n",
    "sim.set_system(sys)\n",
    "sim.set_time_step(time_step)\n",
    "sim.set_final_time(final_time)\n",
    "sim.add_logger(logger)\n",
    "\n",
    "event_sw = dpsimpy.event.SwitchEvent3Ph(0.5, sw, False)\n",
    "sim.add_event(event_sw)\n",
    "\n",
    "sim.run()"
   ]
  },
  {
   "cell_type": "markdown",
   "metadata": {},
   "source": [
    "# Read results"
   ]
  },
  {
   "cell_type": "markdown",
   "metadata": {
    "jp-MarkdownHeadingCollapsed": true,
    "tags": []
   },
   "source": [
    "## EMT 3Ph results"
   ]
  },
  {
   "cell_type": "code",
   "execution_count": null,
   "metadata": {},
   "outputs": [],
   "source": [
    "# read \n",
    "work_dir = 'logs/EMT_3Ph_VS_SW_RL1/'\n",
    "log_name = 'EMT_3Ph_VS_SW_RL1'\n",
    "print(work_dir + log_name + '.csv')\n",
    "\n",
    "ts_dpsim_emt_3ph = rt.read_timeseries_dpsim(work_dir + log_name + '.csv')"
   ]
  },
  {
   "cell_type": "markdown",
   "metadata": {
    "tags": []
   },
   "source": [
    "## EMT 1Ph results"
   ]
  },
  {
   "cell_type": "code",
   "execution_count": null,
   "metadata": {},
   "outputs": [],
   "source": [
    "work_dir = 'logs/EMT_1Ph_VS_SW_RL1/'\n",
    "log_name = 'EMT_1Ph_VS_SW_RL1'\n",
    "print(work_dir + log_name + '.csv')\n",
    "\n",
    "ts_dpsim_emt_1ph = rt.read_timeseries_dpsim(work_dir + log_name + '.csv')"
   ]
  },
  {
   "cell_type": "markdown",
   "metadata": {
    "tags": []
   },
   "source": [
    "## DP 1Ph results"
   ]
  },
  {
   "cell_type": "code",
   "execution_count": null,
   "metadata": {},
   "outputs": [],
   "source": [
    "work_dir = 'logs/DP_1Ph_VS_SW_RL1/'\n",
    "log_name = 'DP_1Ph_VS_SW_RL1'\n",
    "print(work_dir + log_name + '.csv')\n",
    "\n",
    "ts_dpsim_dp_1ph = rt.read_timeseries_dpsim(work_dir + log_name + '.csv')\n",
    "\n",
    "# shifted\n",
    "ts_dpsim_dp_1ph_shift = ts.frequency_shift_list(ts_dpsim_dp_1ph, 50)\n",
    "\n",
    "# phase-to-phase RMS to phase-to-ground Peak\n",
    "for name, ts in ts_dpsim_dp_1ph_shift.items():\n",
    "    ts.values = ts.values * math.sqrt(2/3)"
   ]
  },
  {
   "cell_type": "markdown",
   "metadata": {
    "jp-MarkdownHeadingCollapsed": true,
    "tags": []
   },
   "source": [
    "## SP 1Ph results"
   ]
  },
  {
   "cell_type": "code",
   "execution_count": null,
   "metadata": {},
   "outputs": [],
   "source": [
    "work_dir = 'logs/SP_1Ph_VS_SW_RL1/'\n",
    "log_name = 'SP_1Ph_VS_SW_RL1'\n",
    "print(work_dir + log_name + '.csv')\n",
    "\n",
    "ts_dpsim_sp_1ph = rt.read_timeseries_dpsim(work_dir + log_name + '.csv')\n",
    "\n",
    "# shifted\n",
    "ts_dpsim_sp_1ph_shift = ts.frequency_shift_list(ts_dpsim_sp_1ph, 50)\n",
    "\n",
    "# phase-to-phase RMS to phase-to-ground Peak\n",
    "for name, ts in ts_dpsim_sp_1ph_shift.items():\n",
    "    ts.values = ts.values * math.sqrt(2/3)"
   ]
  },
  {
   "cell_type": "markdown",
   "metadata": {
    "tags": []
   },
   "source": [
    "# Plot results"
   ]
  },
  {
   "cell_type": "code",
   "execution_count": null,
   "metadata": {
    "tags": []
   },
   "outputs": [],
   "source": [
    "plt.close('all')\n",
    "\n",
    "# EMT 3Ph\n",
    "ts_dpsim_emt_3ph['n1.v_0'].label = 'v1 EMT 3Ph'\n",
    "ts_dpsim_emt_3ph['n2.v_0'].label = 'v2 EMT 3Ph'\n",
    "ts_dpsim_emt_3ph['n3.v_0'].label = 'v3 EMT 3Ph'\n",
    "ts_dpsim_emt_3ph['r1.i_intf_0'].label = 'i12 EMT 3Ph'\n",
    "pt.plot_timeseries(1, ts_dpsim_emt_3ph['n1.v_0'], plt_linestyle=':')\n",
    "pt.plot_timeseries(2, ts_dpsim_emt_3ph['n2.v_0'], plt_linestyle=':')\n",
    "pt.plot_timeseries(3, ts_dpsim_emt_3ph['n3.v_0'], plt_linestyle=':')\n",
    "pt.plot_timeseries(4, ts_dpsim_emt_3ph['r1.i_intf_0'], plt_linestyle=':')\n",
    "\n",
    "# EMT 1Ph\n",
    "ts_dpsim_emt_1ph['n1.v'].label = 'v1 EMT 1Ph'\n",
    "ts_dpsim_emt_1ph['n2.v'].label = 'v2 EMT 1Ph'\n",
    "ts_dpsim_emt_1ph['n3.v'].label = 'v3 EMT 1Ph'\n",
    "ts_dpsim_emt_1ph['r1.i_intf'].label = 'i12 EMT 1Ph'\n",
    "pt.plot_timeseries(1, ts_dpsim_emt_1ph['n1.v'], plt_linestyle='-')\n",
    "pt.plot_timeseries(2, ts_dpsim_emt_1ph['n2.v'], plt_linestyle='-')\n",
    "pt.plot_timeseries(3, ts_dpsim_emt_1ph['n3.v'], plt_linestyle='-')\n",
    "pt.plot_timeseries(4, ts_dpsim_emt_1ph['r1.i_intf'], plt_linestyle='-')\n",
    "\n",
    "# DP 1Ph shifted\n",
    "ts_dpsim_dp_1ph_shift['n1.v_shift'].label = 'v1 DP 1Ph'\n",
    "ts_dpsim_dp_1ph_shift['n2.v_shift'].label = 'v2 DP 1Ph'\n",
    "ts_dpsim_dp_1ph_shift['n3.v_shift'].label = 'v3 DP 1Ph'\n",
    "ts_dpsim_dp_1ph_shift['r1.i_intf_shift'].label = 'i12 DP 1Ph'\n",
    "pt.plot_timeseries(1, ts_dpsim_dp_1ph_shift['n1.v_shift'], plt_linestyle='-')\n",
    "pt.plot_timeseries(2, ts_dpsim_dp_1ph_shift['n2.v_shift'], plt_linestyle='-')\n",
    "pt.plot_timeseries(3, ts_dpsim_dp_1ph_shift['n3.v_shift'], plt_linestyle='-')\n",
    "pt.plot_timeseries(4, ts_dpsim_dp_1ph_shift['r1.i_intf_shift'], plt_linestyle='-')\n",
    "\n",
    "# SP 1Ph shifted\n",
    "ts_dpsim_sp_1ph_shift['n1.v_shift'].label = 'v1 SP 1Ph'\n",
    "ts_dpsim_sp_1ph_shift['n2.v_shift'].label = 'v2 SP 1Ph'\n",
    "ts_dpsim_sp_1ph_shift['n3.v_shift'].label = 'v3 SP 1Ph'\n",
    "ts_dpsim_sp_1ph_shift['r1.i_intf_shift'].label = 'i12 SP 1Ph'\n",
    "pt.plot_timeseries(1, ts_dpsim_sp_1ph_shift['n1.v_shift'], plt_linestyle=':')\n",
    "pt.plot_timeseries(2, ts_dpsim_sp_1ph_shift['n2.v_shift'], plt_linestyle=':')\n",
    "pt.plot_timeseries(3, ts_dpsim_sp_1ph_shift['n3.v_shift'], plt_linestyle=':')\n",
    "pt.plot_timeseries(4, ts_dpsim_sp_1ph_shift['r1.i_intf_shift'], plt_linestyle=':')"
   ]
  },
  {
   "cell_type": "markdown",
   "metadata": {},
   "source": [
    "# Assertions"
   ]
  }
 ],
 "metadata": {
  "kernelspec": {
   "display_name": "Python 3 (ipykernel)",
   "language": "python",
   "name": "python3"
  },
  "language_info": {
   "codemirror_mode": {
    "name": "ipython",
    "version": 3
   },
   "file_extension": ".py",
   "mimetype": "text/x-python",
   "name": "python",
   "nbconvert_exporter": "python",
   "pygments_lexer": "ipython3",
   "version": "3.9.13"
  }
 },
 "nbformat": 4,
 "nbformat_minor": 4
}
