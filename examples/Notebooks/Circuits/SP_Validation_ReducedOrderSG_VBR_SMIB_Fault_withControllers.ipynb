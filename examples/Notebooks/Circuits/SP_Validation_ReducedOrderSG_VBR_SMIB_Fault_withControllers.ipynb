{
 "cells": [
  {
   "attachments": {},
   "cell_type": "markdown",
   "id": "olympic-travel",
   "metadata": {},
   "source": [
    "# Controller Validation (Exciter, PSS and Turbine Governor) with 4th Order SG"
   ]
  },
  {
   "attachments": {},
   "cell_type": "markdown",
   "id": "efee9d79",
   "metadata": {},
   "source": [
    "## Import Libraries"
   ]
  },
  {
   "cell_type": "code",
   "execution_count": 1,
   "id": "250a0914",
   "metadata": {},
   "outputs": [],
   "source": [
    "import sys\n",
    "import os\n",
    "import urllib.request\n",
    "from villas.dataprocessing.readtools import *\n",
    "from villas.dataprocessing.timeseries import *\n",
    "import dpsimpy"
   ]
  },
  {
   "attachments": {},
   "cell_type": "markdown",
   "id": "conscious-influence",
   "metadata": {},
   "source": [
    "## Def. function to calculate $V_d$, $V_q$, $I_d$ and $I_q$ in PSAT"
   ]
  },
  {
   "cell_type": "code",
   "execution_count": 2,
   "id": "consistent-multimedia",
   "metadata": {},
   "outputs": [],
   "source": [
    "def calculate_variables_psat(ts_psat_4Order):\n",
    "    #calculate vd and vq\n",
    "    angle = ts_psat_4Order['delta'].values - ts_psat_4Order['theta_bus1'].values\n",
    "    V_bus1 = ts_psat_4Order['V_Bus1'].values\n",
    "    vd = V_bus1 * np.sin(angle)\n",
    "    ts_psat_4Order['vd'] = TimeSeries('vd', ts_psat_4Order['V_Bus1'].time, vd)\n",
    "    vq = V_bus1 * np.cos(angle)\n",
    "    ts_psat_4Order['vq'] = TimeSeries('vq', ts_psat_4Order['V_Bus1'].time, vq)\n",
    "        \n",
    "    #calculate id and iq in PSAT\n",
    "    Xd = 0.299900\n",
    "    Xq = 0.650000\n",
    "    i_d = (ts_psat_4Order['eq_t'].values - ts_psat_4Order['vq'].values) / Xd\n",
    "    ts_psat_4Order['id'] = TimeSeries('id', ts_psat_4Order['eq_t'].time, i_d)\n",
    "    i_q = -(ts_psat_4Order['ed_t'].values - ts_psat_4Order['vd'].values) / Xq\n",
    "    ts_psat_4Order['iq'] = TimeSeries('iq', ts_psat_4Order['ed_t'].time, i_q)\n",
    "    \n",
    "    return ts_psat_4Order"
   ]
  },
  {
   "attachments": {},
   "cell_type": "markdown",
   "id": "several-nevada",
   "metadata": {},
   "source": [
    "## Nominal values"
   ]
  },
  {
   "cell_type": "code",
   "execution_count": 3,
   "id": "integrated-implement",
   "metadata": {
    "tags": []
   },
   "outputs": [],
   "source": [
    "#nominal values (per unit)\n",
    "nominal_values = {}\n",
    "nominal_values['Te'] = 0.540541\n",
    "nominal_values['Tm'] = 0.540541\n",
    "nominal_values['Edq0_0'] = 0.403062     \n",
    "nominal_values['Edq0_1'] = 0.944802     \n",
    "nominal_values['Vdq0_0'] = 0.639089\n",
    "nominal_values['Vdq0_1'] = 0.833106\n",
    "nominal_values['Idq0_0'] = 0.372443\n",
    "nominal_values['Idq0_1'] = 0.363119\n",
    "nominal_values['delta'] = 0.909230\n",
    "nominal_values['w_r'] = 1.0\n",
    "nominal_values['Ef'] = 1.507191\n",
    "nominal_grid_voltage = 24e3\n",
    "\n",
    "#\n",
    "titles = {}\n",
    "titles['Te'] = 'Electrical Torque'\n",
    "titles['Tm'] = 'Mechanical Torque'\n",
    "titles['Edq0_0'] = 'd-component of the voltage behind the transient reactance'\n",
    "titles['Edq0_1'] = 'q-component of the voltage behind the transient reactance'\n",
    "titles['Vdq0_0'] = 'd-component of the terminal voltage'\n",
    "titles['Vdq0_1'] = 'q-component of the terminal voltage'\n",
    "titles['Idq0_0'] = 'd-component of the terminal current'\n",
    "titles['Idq0_1'] = 'q-component of the terminal current'\n",
    "titles['delta'] = 'Delta'\n",
    "titles['w_r'] = 'Mechanical Omega'\n",
    "titles['Ef'] = 'Exiter output'\n",
    "\n",
    "#\n",
    "ylabels = {}\n",
    "ylabels['Te'] = 'Torque (p.u.)'\n",
    "ylabels['Tm'] = 'Torque (p.u.)'\n",
    "ylabels['Edq0_0'] = 'Ed_t (p.u.)'\n",
    "ylabels['Edq0_1'] = 'Eq_t (p.u.)'\n",
    "ylabels['Edq0_t_0'] = 'Ed_t (p.u.)'\n",
    "ylabels['Edq0_t_1'] = 'Eq_t (p.u.)'\n",
    "ylabels['Edq0_s_0'] = 'Ed_s (p.u.)'\n",
    "ylabels['Edq0_s_1'] = 'Eq_s (p.u.)'\n",
    "ylabels['Vdq0_0'] = 'Vd (p.u.)'\n",
    "ylabels['Vdq0_1'] = 'Vq (p.u.)'\n",
    "ylabels['Idq0_0'] = 'Id (p.u.)'\n",
    "ylabels['Idq0_1'] = 'Iq (p.u.)'\n",
    "ylabels['delta'] = 'Delta (rad)'\n",
    "ylabels['w_r'] = 'w_r (p.u.)'\n",
    "ylabels['Ef'] = 'Ef (p.u.)'"
   ]
  },
  {
   "attachments": {},
   "cell_type": "markdown",
   "id": "innovative-porter",
   "metadata": {},
   "source": [
    "## Declare plot function"
   ]
  },
  {
   "cell_type": "code",
   "execution_count": 4,
   "id": "respected-guinea",
   "metadata": {},
   "outputs": [],
   "source": [
    "import matplotlib.pyplot as plt\n",
    "\n",
    "timestep_common = 10e-6\n",
    "t_begin = 0\n",
    "t_end = 10\n",
    "begin_idx = int(t_begin/timestep_common)\n",
    "end_idx= int(t_end/timestep_common)\n",
    "time = np.linspace(t_begin, t_end, num=end_idx-begin_idx)\n",
    "\n",
    "#plot parameters\n",
    "width = 12\n",
    "height = 4\n",
    "\n",
    "def plot_variable(title, varname_dpsim, varname_psat, ts_dpsim, ts_psat, nominal_values, ylabels):\n",
    "    fig1 = plt.figure(figsize=(width, height))\n",
    "    dpsim_values = ts_dpsim[varname_dpsim].interpolate(timestep_common).values[begin_idx:end_idx]\n",
    "    psat_values = ts_psat[varname_psat].interpolate(timestep_common).values[begin_idx:end_idx]\n",
    "    plt.plot(time, dpsim_values, label='DPSim')\n",
    "    plt.plot(time, psat_values, '--', label='PSAT')\n",
    "    plt.legend(loc='lower right')\n",
    "    plt.xlabel('time (s)')\n",
    "    plt.ylabel(ylabels[varname_dpsim])\n",
    "    plt.grid()\n",
    "    plt.xlim([t_begin, t_end])\n",
    "    plt.show\n",
    "    \n",
    "    #calculate RMSE\n",
    "    nom_value = nominal_values[varname_dpsim]\n",
    "    rmse = np.sqrt(((dpsim_values - psat_values) ** 2).mean())\n",
    "    print('RMSE {:s}  = {:.6f} (pu), which is {:.3f}% of the nominal value = {:.3f} (pu) '.format(varname_dpsim, rmse, rmse/nom_value*100, nom_value))\n",
    "        \n",
    "    return rmse/nom_value*100\n",
    "\n",
    "def plot_node_volt_abs(varname_dpsim, varname_psat, ts_dpsim, ts_psat, nominal_voltage, ylabels):\n",
    "    \n",
    "    #convert dpsim voltage to magnitude value and per-unit for comparison with psat\n",
    "    dpsim_values_abs_pu = ts_dpsim[varname_dpsim].interpolate(timestep_common).abs().values[begin_idx:end_idx]/nominal_voltage\n",
    "    psat_values = ts_psat[varname_psat].interpolate(timestep_common).values[begin_idx:end_idx]\n",
    "    \n",
    "    fig1 = plt.figure(figsize=(width, height))\n",
    "    plt.plot(time, dpsim_values_abs_pu, label='DPSim')\n",
    "    plt.plot(time, psat_values, '--', label='PSAT')\n",
    "    plt.legend(loc='lower right')\n",
    "    plt.xlabel('time (s)')\n",
    "    plt.show\n",
    "      \n",
    "     #calculate RMSE\n",
    "    rmse = np.sqrt(((dpsim_values_abs_pu - psat_values) ** 2).mean())\n",
    "    print('RMSE {:s}  = {:.6f} (pu), which is {:.3f}% of the nominal value = {:.3f} (pu) '.format(varname_dpsim, rmse, rmse/1.0*100, 1.0))\n",
    "        \n",
    "    return rmse/1.0*100\n",
    "\n",
    "\n",
    "def plot_node_volt_angle(varname_dpsim, varname_psat, ts_dpsim, ts_psat, nominal_voltage, ylabels):\n",
    "    #limit rmse to post-fault evaluation\n",
    "    t_post_begin=1.1\n",
    "    t_post_end=t_end\n",
    "    begin_post_idx = int(t_post_begin/timestep_common)\n",
    "    end_post_idx= int(t_post_end/timestep_common)\n",
    "    time_post = np.linspace(begin_post_idx, end_post_idx, num=end_post_idx-begin_post_idx)\n",
    "    \n",
    "    dpsim_values = ts_dpsim[varname_dpsim].interpolate(timestep_common).phase().values[begin_idx:end_idx]\n",
    "    dpsim_values_post = dpsim_values[begin_post_idx:end_post_idx]\n",
    "    psat_values = ts_psat[varname_psat].interpolate(timestep_common).values[begin_idx:end_idx]/np.pi*180\n",
    "    psat_values_post = psat_values[begin_post_idx:end_post_idx]\n",
    "    \n",
    "    fig2 = plt.figure(figsize=(width, height))\n",
    "    plt.plot(time, dpsim_values, label='DPSim')\n",
    "    plt.plot(time, psat_values, '--', label='PSAT')\n",
    "    plt.legend(loc='lower right')\n",
    "    plt.xlabel('time (s)')\n",
    "    plt.show\n",
    "    \n",
    "     #calculate RMSE\n",
    "    rmse = np.sqrt(((dpsim_values_post - psat_values_post) ** 2).mean())\n",
    "    print('RMSE Post-Fault {:s}  = {:.6f} (deg)'.format(varname_dpsim, rmse))\n",
    "        \n",
    "    return rmse"
   ]
  },
  {
   "attachments": {},
   "cell_type": "markdown",
   "id": "978a3f22",
   "metadata": {},
   "source": [
    "## Parametrization"
   ]
  },
  {
   "cell_type": "code",
   "execution_count": 5,
   "id": "3a601164",
   "metadata": {},
   "outputs": [],
   "source": [
    "from math import sqrt, pi\n",
    "\n",
    "### Power System\n",
    "nominal_voltage_hv = 230e3\n",
    "nominal_voltage_mv = 24e3\n",
    "ratio = nominal_voltage_mv/nominal_voltage_hv\n",
    "frequency = 60\n",
    "omega = 2 * pi * frequency\n",
    "\n",
    "### Generator\n",
    "nom_power = 555e6\n",
    "set_point_active_power = 300e6\n",
    "set_point_voltage = 1.05*nominal_voltage_mv\n",
    "H = 3.7\n",
    "Td0_t = 8.0669\n",
    "Td0_s = 0.0300\n",
    "Td_t = 1.3368\n",
    "Td_s = 0.0230\n",
    "Ld_t = 0.2999\n",
    "Ld_s = 0.2299\n",
    "Tq0_t = 0.9991\n",
    "Tq0_s = 0.0700\n",
    "Lq_t = 0.6500\n",
    "Lq_s = 0.2500\n",
    "Ld = 1.8099\n",
    "Lq = 1.7600\n",
    "L0 = 0.15\n",
    "Taa = 0\n",
    "\n",
    "### Excitation system\n",
    "exciter_parameters = dpsimpy.signal.ExciterDC1SimpParameters()\n",
    "exciter_parameters.Ka = 46\n",
    "exciter_parameters.Ta = 0.06\n",
    "exciter_parameters.Kef = -0.0435\n",
    "exciter_parameters.Tef = 0.46\n",
    "exciter_parameters.Kf = 0.1\n",
    "exciter_parameters.Tf = 1\n",
    "exciter_parameters.Tr = 0.02\n",
    "exciter_parameters.Aef = 0.33\n",
    "exciter_parameters.Bef = 0.1\n",
    "exciter_parameters.MaxVa = 1.0\n",
    "exciter_parameters.MinVa = -0.9\n",
    "#exciter_parameters.Tb = 10\n",
    "#exciter_parameters.Tc = 1.0\n",
    "\n",
    "### PSS\n",
    "PSS = {}\n",
    "PSS[\"Kp\"] = 0\n",
    "PSS[\"Kv\"] = 0\n",
    "PSS[\"Kw\"] = 15\n",
    "PSS[\"T1\"] = 0.1\n",
    "PSS[\"T2\"] = 0.01\n",
    "PSS[\"T3\"] = 0.12\n",
    "PSS[\"T4\"] = 0.01\n",
    "PSS[\"Vs_max\"] = 0.1\n",
    "PSS[\"Vs_min\"] = -0.1\n",
    "PSS[\"Tw\"] = 10\n",
    "\n",
    "### Turbine Governor Type 1\n",
    "governor_parameters = dpsimpy.signal.TurbineGovernorType1Parameters()\n",
    "governor_parameters.OmRef = 1.0\n",
    "governor_parameters.R = 0.02\n",
    "governor_parameters.Pmax = 1.2\n",
    "governor_parameters.Pmin = 0.3\n",
    "governor_parameters.Ts = 0.1\n",
    "governor_parameters.Tc = 0.45\n",
    "governor_parameters.T3 = 0.0\n",
    "governor_parameters.T4 = 12.0\n",
    "governor_parameters.T5 = 50.0\n",
    "        \n",
    "### PiLine parameters calculated from CIGRE Benchmark system\n",
    "line_length = 100\n",
    "line_resistance = 1.27e-4 * 529 * line_length * pow(ratio,2)\n",
    "line_inductance = 9.05e-4 * 529 / omega * line_length * pow(ratio,2)\n",
    "line_capacitance = (1.81e-3 / 529) / omega * line_length / pow(ratio,2)\n",
    "line_conductance = 0\n",
    "\n",
    "### Switch\n",
    "switch_closed = 0.001 * (24*24/555)\n",
    "switch_open = 1e6"
   ]
  },
  {
   "attachments": {},
   "cell_type": "markdown",
   "id": "7dd50b84",
   "metadata": {},
   "source": [
    "## Run powerflow for Initialization"
   ]
  },
  {
   "cell_type": "code",
   "execution_count": 6,
   "id": "12bc0a0b",
   "metadata": {},
   "outputs": [
    {
     "name": "stderr",
     "output_type": "stream",
     "text": [
      "[08:44:57.844171 Pi_Line_pf warning] Zero value for Conductance, setting default value of G=1e-06 [S]\n",
      "[08:44:57.846437 SP_ReducedOrderSG_SMIB_PF_ info] Initialize simulation: SP_ReducedOrderSG_SMIB_PF_\n",
      "[08:44:57.848176 SP_ReducedOrderSG_SMIB_PF_ info] Scheduling tasks.\n",
      "[08:44:57.848451 SP_ReducedOrderSG_SMIB_PF_ info] Scheduling done.\n",
      "[08:44:57.848456 SP_ReducedOrderSG_SMIB_PF_ info] Opening interfaces.\n",
      "[08:44:57.848458 SP_ReducedOrderSG_SMIB_PF_ info] Start synchronization with remotes on interfaces\n",
      "[08:44:57.848460 SP_ReducedOrderSG_SMIB_PF_ info] Synchronized simulation start with remotes\n",
      "[08:44:57.848464 SP_ReducedOrderSG_SMIB_PF_ info] Start simulation: SP_ReducedOrderSG_SMIB_PF_\n",
      "[08:44:57.848470 SP_ReducedOrderSG_SMIB_PF_ info] Time step: 1.000000e-01\n",
      "[08:44:57.848474 SP_ReducedOrderSG_SMIB_PF_ info] Final time: 5.000000e-01\n",
      "[08:44:57.850316 SP_ReducedOrderSG_SMIB_PF_ info] Simulation calculation time: 0.001836\n",
      "[08:44:57.850367 SP_ReducedOrderSG_SMIB_PF_ info] Simulation finished.\n"
     ]
    }
   ],
   "source": [
    "sim_name_pf = \"SP_ReducedOrderSG_SMIB_\" + \"PF_\"\n",
    "dpsimpy.Logger.set_log_dir(\"logs/\" + sim_name_pf)\n",
    "\n",
    "### Nodes\n",
    "gnd_pf = dpsimpy.sp.SimNode.gnd\n",
    "n1_pf  = dpsimpy.sp.SimNode('n1_pf', dpsimpy.PhaseType.Single)\n",
    "n2_pf  = dpsimpy.sp.SimNode('n2_pf', dpsimpy.PhaseType.Single)\n",
    "\n",
    "### Components\n",
    "\n",
    "# syncrhon generator\n",
    "gen_pf = dpsimpy.sp.ph1.SynchronGenerator('gen_pf', dpsimpy.LogLevel.debug)\n",
    "gen_pf.set_parameters(rated_apparent_power=nom_power, rated_voltage=nominal_voltage_mv, \n",
    "                      set_point_active_power=set_point_active_power, set_point_voltage=set_point_voltage, \n",
    "                      powerflow_bus_type=dpsimpy.PowerflowBusType.PV)\n",
    "gen_pf.set_base_voltage(nominal_voltage_mv)\n",
    "gen_pf.modify_power_flow_bus_type(dpsimpy.PowerflowBusType.PV)\n",
    "\n",
    "# Grid bus as Slack\n",
    "extnet_pf = dpsimpy.sp.ph1.NetworkInjection(\"Slack\", dpsimpy.LogLevel.debug)\n",
    "extnet_pf.set_parameters(nominal_voltage_mv)\n",
    "extnet_pf.set_base_voltage(nominal_voltage_mv)\n",
    "extnet_pf.modify_power_flow_bus_type(dpsimpy.PowerflowBusType.VD)\n",
    "\n",
    "# PiLine\n",
    "pi_line_pf = dpsimpy.sp.ph1.PiLine('Pi_Line_pf', dpsimpy.LogLevel.debug)\n",
    "pi_line_pf.set_parameters(R=line_resistance, L=line_inductance, C=line_capacitance, G=line_conductance)\n",
    "pi_line_pf.set_base_voltage(nominal_voltage_mv)\n",
    "\n",
    "### Connections\n",
    "gen_pf.connect([n1_pf])\n",
    "pi_line_pf.connect([n2_pf, n1_pf])\n",
    "extnet_pf.connect([n2_pf])\n",
    "\n",
    "### Define system topology\n",
    "system_pf = dpsimpy.SystemTopology(frequency, [n1_pf, n2_pf], [gen_pf, pi_line_pf, extnet_pf])\n",
    "\n",
    "# Logging\n",
    "logger_pf = dpsimpy.Logger(sim_name_pf)\n",
    "logger_pf.log_attribute('n1.v', 'v', n1_pf)\n",
    "logger_pf.log_attribute('n2.v', 'v', n2_pf)\n",
    "logger_pf.log_attribute('p_inj', 'p_inj', extnet_pf)\n",
    "logger_pf.log_attribute('q_inj', 'q_inj', extnet_pf)\n",
    "\n",
    "sim_pf = dpsimpy.Simulation(sim_name_pf, dpsimpy.LogLevel.debug)\n",
    "sim_pf.set_system(system_pf)\n",
    "sim_pf.set_domain(dpsimpy.Domain.SP)\n",
    "sim_pf.set_solver(dpsimpy.Solver.NRP)\n",
    "sim_pf.set_solver_component_behaviour(dpsimpy.SolverBehaviour.Initialization)\n",
    "sim_pf.set_time_step(0.1)\n",
    "sim_pf.set_final_time(0.5)\n",
    "sim_pf.add_logger(logger_pf)\n",
    "sim_pf.run()"
   ]
  },
  {
   "attachments": {},
   "cell_type": "markdown",
   "id": "13d622ad",
   "metadata": {},
   "source": [
    "## Declare DPSim Topology for time domain simulations"
   ]
  },
  {
   "cell_type": "code",
   "execution_count": 9,
   "id": "1f99a80b",
   "metadata": {},
   "outputs": [],
   "source": [
    "def sp_reducedOrderSG_SMIB_fault(sim_pf, gen_pf, gen_model, with_exciter=False, with_pss=False, with_governor=False, final_time=10, time_step=0.001):\n",
    "    \n",
    "    # ## Extract relevant powerflow results\n",
    "    init_electrical_power = gen_pf.get_apparent_power()\n",
    "    init_mechanical_power = gen_pf.get_apparent_power().real\n",
    "\n",
    "    ### DPsim SP simulation\n",
    "    name = \"SP_ReducedOrderSG_SMIB_\" + gen_model\n",
    "    dpsimpy.Logger.set_log_dir(\"logs/\" + name)\n",
    "\n",
    "    ### Nodes\n",
    "    gnd = dpsimpy.sp.SimNode.gnd\n",
    "    n1 = dpsimpy.sp.SimNode('n1', dpsimpy.PhaseType.Single) \n",
    "    n1.set_initial_voltage(sim_pf.get_idobj_attr(n1_pf.name(), 'v').get()[0])\n",
    "\n",
    "    n2 = dpsimpy.sp.SimNode('n2', dpsimpy.PhaseType.Single)\n",
    "    n2.set_initial_voltage(sim_pf.get_idobj_attr(n2_pf.name(), 'v').get()[0])\n",
    "\n",
    "\n",
    "    ### Components\n",
    "\n",
    "    # syncrhon generator\n",
    "    gen = None\n",
    "    if (gen_model==\"3Order\"):\n",
    "        gen = dpsimpy.sp.ph1.SynchronGenerator3OrderVBR('gen', dpsimpy.LogLevel.debug)\n",
    "        gen.set_operational_parameters_per_unit(nom_power=nom_power, nom_voltage=nominal_voltage_mv, nom_frequency=frequency, \n",
    "                                                H=H, Ld=Ld, Lq=Lq, L0=L0, Ld_t=Ld_t, Td0_t=Td0_t)\n",
    "    elif (gen_model==\"4Order\"):\n",
    "        gen = dpsimpy.sp.ph1.SynchronGenerator4OrderVBR('gen', dpsimpy.LogLevel.debug)\n",
    "        gen.set_operational_parameters_per_unit(nom_power=nom_power, nom_voltage=nominal_voltage_mv, nom_frequency=frequency, \n",
    "                                                H=H, Ld=Ld, Lq=Lq, L0=L0, Ld_t=Ld_t, Lq_t=Lq_t, Td0_t=Td0_t, Tq0_t=Tq0_t)\t\t\n",
    "    elif (gen_model==\"6aOrder\"):\n",
    "        gen = dpsimpy.sp.ph1.SynchronGenerator6aOrderVBR('gen', dpsimpy.LogLevel.debug)\n",
    "        gen.set_operational_parameters_per_unit(nom_power=nom_power, nom_voltage=nominal_voltage_mv, nom_frequency=frequency, \n",
    "                                                H=H, Ld=Ld, Lq=Lq, L0=L0, Ld_t=Ld_t, Lq_t=Lq_t, Td0_t=Td0_t, Tq0_t=Tq0_t,\n",
    "                                                Ld_s=Ld_s, Lq_s=Lq_s, Td0_s=Td0_s, Tq0_s=Tq0_s, Taa=Taa)\t\n",
    "    elif (gen_model==\"6bOrder\"):\n",
    "        gen = dpsimpy.sp.ph1.SynchronGenerator6bOrderVBR('gen', dpsimpy.LogLevel.debug)\n",
    "        gen.set_operational_parameters_per_unit(nom_power=nom_power, nom_voltage=nominal_voltage_mv, nom_frequency=frequency, \n",
    "                                                H=H, Ld=Ld, Lq=Lq, L0=L0, Ld_t=Ld_t, Lq_t=Lq_t, Td0_t=Td0_t, Tq0_t=Tq0_t,\n",
    "                                                Ld_s=Ld_s, Lq_s=Lq_s, Td0_s=Td0_s, Tq0_s=Tq0_s)\t\t\n",
    "    gen.set_initial_values(init_complex_electrical_power=init_electrical_power, init_mechanical_power=init_mechanical_power, \n",
    "                           init_complex_terminal_voltage=sim_pf.get_idobj_attr(n1_pf.name(), 'v').get()[0][0])\n",
    "\n",
    "    # exciter\n",
    "    if with_exciter:\n",
    "        gen.add_exciter(exciter_parameters=exciter_parameters, exciter_type=dpsimpy.ExciterType.DC1Simp)\n",
    "        \n",
    "        # PSS\n",
    "        if with_pss:\n",
    "            gen.add_pss(**PSS)\n",
    "            \n",
    "    # governor\n",
    "    if with_governor:\n",
    "        governor = dpsimpy.signal.TurbineGovernorType1(\"Governor\")\n",
    "        governor.set_parameters(governor_parameters)\n",
    "        gen.add_governor(governor)\n",
    "            \n",
    "    # Switch\n",
    "    switch = dpsimpy.sp.ph1.Switch('Fault', dpsimpy.LogLevel.debug)\n",
    "    switch.set_parameters(switch_open, switch_closed)\n",
    "    switch.open()\n",
    "\n",
    "    # pi line\n",
    "    pi_line = dpsimpy.sp.ph1.PiLine('PiLine', dpsimpy.LogLevel.debug)\n",
    "    pi_line.set_parameters(R=line_resistance,\n",
    "                           L=line_inductance,\n",
    "                           C=line_capacitance,\n",
    "                           G=line_conductance)\n",
    "\n",
    "    # Slack\n",
    "    slack = dpsimpy.sp.ph1.NetworkInjection('slack', dpsimpy.LogLevel.debug)\n",
    "    slack.set_parameters(V_ref=nominal_voltage_mv)\n",
    "    \n",
    "    ### Connections\n",
    "    gen.connect([n1])\n",
    "    switch.connect([gnd, n1])\n",
    "    pi_line.connect([n1, n2])\n",
    "    slack.connect([n2])\n",
    "    \n",
    "    ### Define system topology\n",
    "    system = dpsimpy.SystemTopology(frequency, [n1, n2], [gen, pi_line, slack, switch])\n",
    "\n",
    "    ### Logging\n",
    "    logger = dpsimpy.Logger(name)\n",
    "    logger.log_attribute('n1.v', 'v', n1)\n",
    "    logger.log_attribute('n2.v', 'v', n2)\n",
    "    logger.log_attribute('Te', 'Te', gen)\n",
    "    logger.log_attribute('Tm', 'Tm', gen)\n",
    "    logger.log_attribute('Ef', 'Ef', gen)\n",
    "    logger.log_attribute('delta', 'delta', gen)\n",
    "    logger.log_attribute('w_r', 'w_r', gen)\n",
    "    logger.log_attribute('Vdq0', 'Vdq0', gen)\n",
    "    logger.log_attribute('Idq0', 'Idq0', gen)\n",
    "    logger.log_attribute('i_gen', 'i_intf', gen)\n",
    "    if (gen_model==\"6aOrder\" or gen_model==\"6bOrder\"):\n",
    "        logger.log_attribute(\"Edq0_s\", \"Edq_s\", gen)\n",
    "        logger.log_attribute(\"Edq0_t\", \"Edq_t\", gen)\n",
    "    else:\n",
    "        logger.log_attribute(\"Edq0\", \"Edq_t\", gen)\n",
    "    \n",
    "    ### Simulation\n",
    "    sim = dpsimpy.Simulation(name, dpsimpy.LogLevel.debug)\n",
    "    sim.set_system(system)\n",
    "    sim.do_init_from_nodes_and_terminals(True)\n",
    "    sim.set_domain(dpsimpy.Domain.SP)\n",
    "    sim.set_direct_solver_implementation(dpsimpy.DirectLinearSolverImpl.SparseLU)\n",
    "    sim.set_time_step(time_step)\n",
    "    sim.set_final_time(final_time)\n",
    "    sim.do_system_matrix_recomputation(True)\n",
    "    \n",
    "    sw_event_1 = dpsimpy.event.SwitchEvent(1.0, switch, True)\n",
    "    sim.add_event(sw_event_1)\n",
    "    \n",
    "    sw_event_2 = dpsimpy.event.SwitchEvent(1.1, switch, False)\n",
    "    sim.add_event(sw_event_2)\n",
    "\n",
    "    sim.add_logger(logger)\n",
    "    sim.run()\n",
    "    \n",
    "    return name"
   ]
  },
  {
   "attachments": {},
   "cell_type": "markdown",
   "id": "e1a56f02",
   "metadata": {},
   "source": [
    "## Run DPSim simulations (SP Domain)"
   ]
  },
  {
   "attachments": {},
   "cell_type": "markdown",
   "id": "403c9bca",
   "metadata": {},
   "source": [
    "### Run 4th Order Model with Exciter"
   ]
  },
  {
   "cell_type": "code",
   "execution_count": null,
   "id": "359b83e0",
   "metadata": {},
   "outputs": [],
   "source": [
    "log_name = sp_reducedOrderSG_SMIB_fault(sim_pf, gen_pf, \"4Order\", with_exciter=True)"
   ]
  },
  {
   "attachments": {},
   "cell_type": "markdown",
   "id": "f8c9eab7",
   "metadata": {},
   "source": [
    "#### Read Results DPSim"
   ]
  },
  {
   "cell_type": "code",
   "execution_count": null,
   "id": "81a3e6ba",
   "metadata": {},
   "outputs": [],
   "source": [
    "# read Simulink log file\n",
    "\n",
    "file_path = os.getcwd() + \"/logs/\" + log_name + \"/\" + log_name + \".csv\"\n",
    "ts_dpsim_4Order = read_timeseries_dpsim(file_path)"
   ]
  },
  {
   "attachments": {},
   "cell_type": "markdown",
   "id": "7cb8eff3",
   "metadata": {},
   "source": [
    "### Load PSAT Results"
   ]
  },
  {
   "cell_type": "code",
   "execution_count": null,
   "id": "6623f99b",
   "metadata": {},
   "outputs": [],
   "source": [
    "if not os.path.exists('reference-results'):\n",
    "    os.mkdir('reference-results')\n",
    "\n",
    "url = 'https://git.rwth-aachen.de/acs/public/simulation/reference-results/-/raw/master/PSAT/SMIB-Fault/PSAT_4OrderSyGen_withExciter_SMIB_Fault_100mS_TS_1mS.txt'\n",
    "local_file_4Order = 'reference-results/PSAT_4OrderSyGen_withExciter_SMIB_Fault_100mS_TS_1mS.out'\n",
    "urllib.request.urlretrieve(url, local_file_4Order)\n",
    "ts_psat_4Order = read_timeseries_dpsim(local_file_4Order)\n",
    "ts_psat_4Order = calculate_variables_psat(ts_psat_4Order)"
   ]
  },
  {
   "cell_type": "markdown",
   "id": "technological-administration",
   "metadata": {},
   "source": [
    "### Validation of electrical and mechanical variables"
   ]
  },
  {
   "cell_type": "markdown",
   "id": "american-patrol",
   "metadata": {},
   "source": [
    "#### Electrical Torque"
   ]
  },
  {
   "cell_type": "code",
   "execution_count": null,
   "id": "productive-international",
   "metadata": {},
   "outputs": [],
   "source": [
    "varname_dpsim = \"Te\"\n",
    "varname_psat = \"p\"\n",
    "\n",
    "rmse_torque = plot_variable(titles, varname_dpsim, varname_psat, ts_dpsim_4Order, ts_psat_4Order, nominal_values, ylabels)"
   ]
  },
  {
   "cell_type": "markdown",
   "id": "hungarian-david",
   "metadata": {},
   "source": [
    "#### Exciter Output"
   ]
  },
  {
   "cell_type": "code",
   "execution_count": null,
   "id": "labeled-internet",
   "metadata": {},
   "outputs": [],
   "source": [
    "varname_dpsim = \"Ef\"\n",
    "varname_psat = \"vf\"\n",
    "\n",
    "rmse_ef = plot_variable(titles, varname_dpsim, varname_psat, ts_dpsim_4Order, ts_psat_4Order, nominal_values, ylabels)"
   ]
  },
  {
   "cell_type": "markdown",
   "id": "integral-demand",
   "metadata": {},
   "source": [
    "#### $E_d^{'}$"
   ]
  },
  {
   "cell_type": "code",
   "execution_count": null,
   "id": "national-parliament",
   "metadata": {},
   "outputs": [],
   "source": [
    "varname_dpsim = \"Edq0_0\"\n",
    "varname_psat = \"ed_t\"\n",
    "\n",
    "rmse_ed = plot_variable(titles, varname_dpsim, varname_psat, ts_dpsim_4Order, ts_psat_4Order, nominal_values, ylabels)"
   ]
  },
  {
   "cell_type": "markdown",
   "id": "civil-hacker",
   "metadata": {},
   "source": [
    "#### $E_q^{'}$"
   ]
  },
  {
   "cell_type": "code",
   "execution_count": null,
   "id": "opponent-hughes",
   "metadata": {},
   "outputs": [],
   "source": [
    "varname_dpsim = \"Edq0_1\"\n",
    "varname_psat = \"eq_t\"\n",
    "\n",
    "rmse_eq = plot_variable(titles, varname_dpsim, varname_psat, ts_dpsim_4Order, ts_psat_4Order, nominal_values, ylabels)"
   ]
  },
  {
   "cell_type": "markdown",
   "id": "failing-lotus",
   "metadata": {},
   "source": [
    "#### $V_d$"
   ]
  },
  {
   "cell_type": "code",
   "execution_count": null,
   "id": "fuzzy-passenger",
   "metadata": {},
   "outputs": [],
   "source": [
    "varname_dpsim = \"Vdq0_0\"\n",
    "varname_psat = \"vd\"\n",
    "\n",
    "rmse_vd = plot_variable(titles, varname_dpsim, varname_psat, ts_dpsim_4Order, ts_psat_4Order, nominal_values, ylabels)"
   ]
  },
  {
   "cell_type": "markdown",
   "id": "sensitive-daisy",
   "metadata": {},
   "source": [
    "#### $V_q$"
   ]
  },
  {
   "cell_type": "code",
   "execution_count": null,
   "id": "executive-delay",
   "metadata": {},
   "outputs": [],
   "source": [
    "varname_dpsim = \"Vdq0_1\"\n",
    "varname_psat = \"vq\"\n",
    "\n",
    "rmse_vq = plot_variable(titles, varname_dpsim, varname_psat, ts_dpsim_4Order, ts_psat_4Order, nominal_values, ylabels)"
   ]
  },
  {
   "cell_type": "markdown",
   "id": "persistent-scanner",
   "metadata": {},
   "source": [
    "#### $I_d$"
   ]
  },
  {
   "cell_type": "code",
   "execution_count": null,
   "id": "ranging-gardening",
   "metadata": {},
   "outputs": [],
   "source": [
    "varname_dpsim = \"Idq0_0\"\n",
    "varname_psat = \"id\"\n",
    "\n",
    "rmse_id = plot_variable(titles, varname_dpsim, varname_psat, ts_dpsim_4Order, ts_psat_4Order, nominal_values, ylabels)"
   ]
  },
  {
   "cell_type": "markdown",
   "id": "outdoor-defense",
   "metadata": {},
   "source": [
    "#### $I_q$"
   ]
  },
  {
   "cell_type": "code",
   "execution_count": null,
   "id": "attended-mailing",
   "metadata": {},
   "outputs": [],
   "source": [
    "varname_dpsim = \"Vdq0_1\"\n",
    "varname_psat = \"vq\"\n",
    "\n",
    "rmse_iq = plot_variable(titles, varname_dpsim, varname_psat, ts_dpsim_4Order, ts_psat_4Order, nominal_values, ylabels)"
   ]
  },
  {
   "cell_type": "markdown",
   "id": "assisted-cincinnati",
   "metadata": {},
   "source": [
    "#### Delta"
   ]
  },
  {
   "cell_type": "code",
   "execution_count": null,
   "id": "unable-indian",
   "metadata": {},
   "outputs": [],
   "source": [
    "varname_dpsim = \"delta\"\n",
    "varname_psat = \"delta\"\n",
    "\n",
    "rmse_delta = plot_variable(titles, varname_dpsim, varname_psat, ts_dpsim_4Order, ts_psat_4Order, nominal_values, ylabels)"
   ]
  },
  {
   "cell_type": "markdown",
   "id": "sensitive-sphere",
   "metadata": {},
   "source": [
    "#### Mechanical Omega"
   ]
  },
  {
   "cell_type": "code",
   "execution_count": null,
   "id": "secure-thompson",
   "metadata": {},
   "outputs": [],
   "source": [
    "varname_dpsim = \"w_r\"\n",
    "varname_psat = \"omega\"\n",
    "\n",
    "rmse_omega = plot_variable(titles, varname_dpsim, varname_psat, ts_dpsim_4Order, ts_psat_4Order, nominal_values, ylabels)"
   ]
  },
  {
   "cell_type": "markdown",
   "id": "coordinate-cream",
   "metadata": {},
   "source": [
    "#### Grid voltages"
   ]
  },
  {
   "cell_type": "code",
   "execution_count": null,
   "id": "celtic-retailer",
   "metadata": {},
   "outputs": [],
   "source": [
    "varname_dpsim = \"n1.v\"\n",
    "varname_psat = \"V_Bus1\"\n",
    "\n",
    "rmse_v1_abs = plot_node_volt_abs(varname_dpsim, varname_psat, ts_dpsim_4Order, ts_psat_4Order, nominal_grid_voltage, ylabels)"
   ]
  },
  {
   "cell_type": "code",
   "execution_count": null,
   "id": "aware-vehicle",
   "metadata": {},
   "outputs": [],
   "source": [
    "varname_dpsim = \"n1.v\"\n",
    "varname_psat = \"theta_bus1\"\n",
    "\n",
    "rmse_v1_angle = plot_node_volt_angle(varname_dpsim, varname_psat, ts_dpsim_4Order, ts_psat_4Order, nominal_grid_voltage, ylabels)"
   ]
  },
  {
   "cell_type": "code",
   "execution_count": null,
   "id": "architectural-union",
   "metadata": {},
   "outputs": [],
   "source": [
    "varname_dpsim = \"n2.v\"\n",
    "varname_psat = \"V_Bus3\"\n",
    "\n",
    "rmse_v2_abs = plot_node_volt_abs(varname_dpsim, varname_psat, ts_dpsim_4Order, ts_psat_4Order, nominal_grid_voltage, ylabels)"
   ]
  },
  {
   "cell_type": "code",
   "execution_count": null,
   "id": "orange-lesson",
   "metadata": {},
   "outputs": [],
   "source": [
    "varname_dpsim = \"n2.v\"\n",
    "varname_psat = \"theta_bus3\"\n",
    "\n",
    "rmse_v2_angle = plot_node_volt_angle(varname_dpsim, varname_psat, ts_dpsim_4Order, ts_psat_4Order, nominal_grid_voltage, ylabels)"
   ]
  },
  {
   "cell_type": "markdown",
   "id": "comparable-career",
   "metadata": {},
   "source": [
    "#### Assert"
   ]
  },
  {
   "cell_type": "code",
   "execution_count": null,
   "id": "developing-gregory",
   "metadata": {},
   "outputs": [],
   "source": [
    "tol = 1 # %\n",
    "tol_id = 6\n",
    "tol_deg_v1 = 0.02 # deg\n",
    "tol_deg_v2 = 1e-12 # deg\n",
    "\n",
    "assert(rmse_torque<tol)\n",
    "assert(rmse_ef<tol)\n",
    "assert(rmse_ed<tol)\n",
    "assert(rmse_eq<tol)\n",
    "assert(rmse_vd<tol)\n",
    "assert(rmse_vq<tol)\n",
    "assert(rmse_id<tol_id)\n",
    "assert(rmse_iq<tol)\n",
    "assert(rmse_delta<tol)\n",
    "assert(rmse_omega<tol)\n",
    "assert(rmse_v1_abs<tol)\n",
    "assert(rmse_v2_abs<tol)\n",
    "#assert(rmse_v1_angle<tol_deg_v1)\n",
    "assert(rmse_v2_angle<tol_deg_v2)"
   ]
  },
  {
   "attachments": {},
   "cell_type": "markdown",
   "id": "separate-power",
   "metadata": {},
   "source": [
    "### 4th Order Model with Exciter and PSS"
   ]
  },
  {
   "cell_type": "code",
   "execution_count": null,
   "id": "72c2fe70",
   "metadata": {},
   "outputs": [],
   "source": [
    "log_name = sp_reducedOrderSG_SMIB_fault(sim_pf, gen_pf, \"4Order\", with_exciter=True, with_pss=True)"
   ]
  },
  {
   "attachments": {},
   "cell_type": "markdown",
   "id": "db2dd9a9",
   "metadata": {},
   "source": [
    "### Load DPSim results"
   ]
  },
  {
   "cell_type": "code",
   "execution_count": null,
   "id": "f81b83de",
   "metadata": {},
   "outputs": [],
   "source": [
    "# read Simulink log file\n",
    "\n",
    "file_path = os.getcwd() + \"/logs/\" + log_name + \"/\" + log_name + \".csv\"\n",
    "ts_dpsim_4Order = read_timeseries_dpsim(file_path)"
   ]
  },
  {
   "attachments": {},
   "cell_type": "markdown",
   "id": "demanding-stadium",
   "metadata": {},
   "source": [
    "### Load PSAT results"
   ]
  },
  {
   "cell_type": "code",
   "execution_count": null,
   "id": "complicated-seafood",
   "metadata": {},
   "outputs": [],
   "source": [
    "if not os.path.exists('reference-results'):\n",
    "    os.mkdir('reference-results')\n",
    "\n",
    "url = 'https://git.rwth-aachen.de/acs/public/simulation/reference-results/-/raw/master/PSAT/SMIB-Fault/PSAT_4OrderSyGen_withPSS_SMIB_Fault_100mS_TS_1mS.txt'\n",
    "local_file_4Order = 'reference-results/PSAT_4OrderSyGen_withExciter_SMIB_Fault_100mS_TS_1mS.out'\n",
    "urllib.request.urlretrieve(url, local_file_4Order)\n",
    "ts_psat_4Order = read_timeseries_dpsim(local_file_4Order)\n",
    "ts_psat_4Order = calculate_variables_psat(ts_psat_4Order)"
   ]
  },
  {
   "cell_type": "markdown",
   "id": "technological-administration",
   "metadata": {},
   "source": [
    "### Validation of electrical and mechanical quantities"
   ]
  },
  {
   "cell_type": "markdown",
   "id": "american-patrol",
   "metadata": {},
   "source": [
    "#### Electrical Torque"
   ]
  },
  {
   "cell_type": "code",
   "execution_count": null,
   "id": "productive-international",
   "metadata": {},
   "outputs": [],
   "source": [
    "varname_dpsim = \"Te\"\n",
    "varname_psat = \"p\"\n",
    "\n",
    "rmse_torque = plot_variable(titles, varname_dpsim, varname_psat, ts_dpsim_4Order, ts_psat_4Order, nominal_values, ylabels)"
   ]
  },
  {
   "cell_type": "markdown",
   "id": "hungarian-david",
   "metadata": {},
   "source": [
    "#### Exciter Output"
   ]
  },
  {
   "cell_type": "code",
   "execution_count": null,
   "id": "labeled-internet",
   "metadata": {},
   "outputs": [],
   "source": [
    "varname_dpsim = \"Ef\"\n",
    "varname_psat = \"vf\"\n",
    "\n",
    "rmse_ef = plot_variable(titles, varname_dpsim, varname_psat, ts_dpsim_4Order, ts_psat_4Order, nominal_values, ylabels)"
   ]
  },
  {
   "cell_type": "markdown",
   "id": "integral-demand",
   "metadata": {},
   "source": [
    "#### $E_d^{'}$"
   ]
  },
  {
   "cell_type": "code",
   "execution_count": null,
   "id": "national-parliament",
   "metadata": {},
   "outputs": [],
   "source": [
    "varname_dpsim = \"Edq0_0\"\n",
    "varname_psat = \"ed_t\"\n",
    "\n",
    "rmse_ed = plot_variable(titles, varname_dpsim, varname_psat, ts_dpsim_4Order, ts_psat_4Order, nominal_values, ylabels)"
   ]
  },
  {
   "cell_type": "markdown",
   "id": "civil-hacker",
   "metadata": {},
   "source": [
    "#### $E_q^{'}$"
   ]
  },
  {
   "cell_type": "code",
   "execution_count": null,
   "id": "opponent-hughes",
   "metadata": {},
   "outputs": [],
   "source": [
    "varname_dpsim = \"Edq0_1\"\n",
    "varname_psat = \"eq_t\"\n",
    "\n",
    "rmse_eq = plot_variable(titles, varname_dpsim, varname_psat, ts_dpsim_4Order, ts_psat_4Order, nominal_values, ylabels)"
   ]
  },
  {
   "cell_type": "markdown",
   "id": "failing-lotus",
   "metadata": {},
   "source": [
    "#### $V_d$"
   ]
  },
  {
   "cell_type": "code",
   "execution_count": null,
   "id": "fuzzy-passenger",
   "metadata": {},
   "outputs": [],
   "source": [
    "varname_dpsim = \"Vdq0_0\"\n",
    "varname_psat = \"vd\"\n",
    "\n",
    "rmse_vd = plot_variable(titles, varname_dpsim, varname_psat, ts_dpsim_4Order, ts_psat_4Order, nominal_values, ylabels)"
   ]
  },
  {
   "cell_type": "markdown",
   "id": "sensitive-daisy",
   "metadata": {},
   "source": [
    "#### $V_q$"
   ]
  },
  {
   "cell_type": "code",
   "execution_count": null,
   "id": "executive-delay",
   "metadata": {},
   "outputs": [],
   "source": [
    "varname_dpsim = \"Vdq0_1\"\n",
    "varname_psat = \"vq\"\n",
    "\n",
    "rmse_vq = plot_variable(titles, varname_dpsim, varname_psat, ts_dpsim_4Order, ts_psat_4Order, nominal_values, ylabels)"
   ]
  },
  {
   "cell_type": "markdown",
   "id": "persistent-scanner",
   "metadata": {},
   "source": [
    "#### $I_d$"
   ]
  },
  {
   "cell_type": "code",
   "execution_count": null,
   "id": "ranging-gardening",
   "metadata": {},
   "outputs": [],
   "source": [
    "varname_dpsim = \"Idq0_0\"\n",
    "varname_psat = \"id\"\n",
    "\n",
    "rmse_id = plot_variable(titles, varname_dpsim, varname_psat, ts_dpsim_4Order, ts_psat_4Order, nominal_values, ylabels)"
   ]
  },
  {
   "cell_type": "markdown",
   "id": "outdoor-defense",
   "metadata": {},
   "source": [
    "#### $I_q$"
   ]
  },
  {
   "cell_type": "code",
   "execution_count": null,
   "id": "attended-mailing",
   "metadata": {},
   "outputs": [],
   "source": [
    "varname_dpsim = \"Vdq0_1\"\n",
    "varname_psat = \"vq\"\n",
    "\n",
    "rmse_iq = plot_variable(titles, varname_dpsim, varname_psat, ts_dpsim_4Order, ts_psat_4Order, nominal_values, ylabels)"
   ]
  },
  {
   "cell_type": "markdown",
   "id": "assisted-cincinnati",
   "metadata": {},
   "source": [
    "#### Delta"
   ]
  },
  {
   "cell_type": "code",
   "execution_count": null,
   "id": "unable-indian",
   "metadata": {},
   "outputs": [],
   "source": [
    "varname_dpsim = \"delta\"\n",
    "varname_psat = \"delta\"\n",
    "\n",
    "rmse_delta = plot_variable(titles, varname_dpsim, varname_psat, ts_dpsim_4Order, ts_psat_4Order, nominal_values, ylabels)"
   ]
  },
  {
   "cell_type": "markdown",
   "id": "sensitive-sphere",
   "metadata": {},
   "source": [
    "#### Mechanical Omega"
   ]
  },
  {
   "cell_type": "code",
   "execution_count": null,
   "id": "secure-thompson",
   "metadata": {},
   "outputs": [],
   "source": [
    "varname_dpsim = \"w_r\"\n",
    "varname_psat = \"omega\"\n",
    "\n",
    "rmse_omega = plot_variable(titles, varname_dpsim, varname_psat, ts_dpsim_4Order, ts_psat_4Order, nominal_values, ylabels)"
   ]
  },
  {
   "cell_type": "markdown",
   "id": "coordinate-cream",
   "metadata": {},
   "source": [
    "#### Grid voltages"
   ]
  },
  {
   "cell_type": "code",
   "execution_count": null,
   "id": "celtic-retailer",
   "metadata": {},
   "outputs": [],
   "source": [
    "varname_dpsim = \"n1.v\"\n",
    "varname_psat = \"V_Bus1\"\n",
    "\n",
    "rmse_v1_abs = plot_node_volt_abs(varname_dpsim, varname_psat, ts_dpsim_4Order, ts_psat_4Order, nominal_grid_voltage, ylabels)"
   ]
  },
  {
   "cell_type": "code",
   "execution_count": null,
   "id": "aware-vehicle",
   "metadata": {},
   "outputs": [],
   "source": [
    "varname_dpsim = \"n1.v\"\n",
    "varname_psat = \"theta_bus1\"\n",
    "\n",
    "rmse_v1_angle = plot_node_volt_angle(varname_dpsim, varname_psat, ts_dpsim_4Order, ts_psat_4Order, nominal_grid_voltage, ylabels)"
   ]
  },
  {
   "cell_type": "code",
   "execution_count": null,
   "id": "architectural-union",
   "metadata": {},
   "outputs": [],
   "source": [
    "varname_dpsim = \"n2.v\"\n",
    "varname_psat = \"V_Bus3\"\n",
    "\n",
    "rmse_v2_abs = plot_node_volt_abs(varname_dpsim, varname_psat, ts_dpsim_4Order, ts_psat_4Order, nominal_grid_voltage, ylabels)"
   ]
  },
  {
   "cell_type": "code",
   "execution_count": null,
   "id": "orange-lesson",
   "metadata": {},
   "outputs": [],
   "source": [
    "varname_dpsim = \"n2.v\"\n",
    "varname_psat = \"theta_bus3\"\n",
    "\n",
    "rmse_v2_angle = plot_node_volt_angle(varname_dpsim, varname_psat, ts_dpsim_4Order, ts_psat_4Order, nominal_grid_voltage, ylabels)"
   ]
  },
  {
   "cell_type": "markdown",
   "id": "comparable-career",
   "metadata": {},
   "source": [
    "#### Assert"
   ]
  },
  {
   "cell_type": "code",
   "execution_count": null,
   "id": "developing-gregory",
   "metadata": {},
   "outputs": [],
   "source": [
    "tol = 1 # %\n",
    "tol_id = 6\n",
    "tol_deg_v1 = 0.02 # deg\n",
    "tol_deg_v2 = 1e-12 # deg\n",
    "\n",
    "assert(rmse_torque<tol)\n",
    "assert(rmse_ef<tol)\n",
    "assert(rmse_ed<tol)\n",
    "assert(rmse_eq<tol)\n",
    "assert(rmse_vd<tol)\n",
    "assert(rmse_vq<tol)\n",
    "assert(rmse_id<tol_id)\n",
    "assert(rmse_iq<tol)\n",
    "assert(rmse_delta<tol)\n",
    "assert(rmse_omega<tol)\n",
    "assert(rmse_v1_abs<tol)\n",
    "assert(rmse_v2_abs<tol)\n",
    "#assert(rmse_v1_angle<tol_deg_v1)\n",
    "assert(rmse_v2_angle<tol_deg_v2)"
   ]
  },
  {
   "attachments": {},
   "cell_type": "markdown",
   "id": "79cd971b-ab74-4275-a0b0-559e982766df",
   "metadata": {},
   "source": [
    "### 4th Order Model with Governor"
   ]
  },
  {
   "cell_type": "code",
   "execution_count": 10,
   "id": "ae8f3494",
   "metadata": {},
   "outputs": [
    {
     "name": "stderr",
     "output_type": "stream",
     "text": [
      "[08:46:03.238991 PiLine warning] Zero value for Conductance, setting default value of G=1e-06 [S]\n",
      "[08:46:03.244067 SP_ReducedOrderSG_SMIB_4Order info] Initialize simulation: SP_ReducedOrderSG_SMIB_4Order\n",
      "[08:46:03.244393 MnaSolverFactory info] creating SparseLUAdapter solver implementation\n",
      "[08:46:03.248157 SP_ReducedOrderSG_SMIB_4Order_Solver warning] Linear solver configuration is not used!\n",
      "[08:46:03.250832 SP_ReducedOrderSG_SMIB_4Order info] Scheduling tasks.\n",
      "[08:46:03.252043 SP_ReducedOrderSG_SMIB_4Order info] Scheduling done.\n",
      "[08:46:03.252054 SP_ReducedOrderSG_SMIB_4Order info] Opening interfaces.\n",
      "[08:46:03.252058 SP_ReducedOrderSG_SMIB_4Order info] Start synchronization with remotes on interfaces\n",
      "[08:46:03.252063 SP_ReducedOrderSG_SMIB_4Order info] Synchronized simulation start with remotes\n",
      "[08:46:03.252070 SP_ReducedOrderSG_SMIB_4Order info] Start simulation: SP_ReducedOrderSG_SMIB_4Order\n",
      "[08:46:03.252080 SP_ReducedOrderSG_SMIB_4Order info] Time step: 1.000000e-03\n",
      "[08:46:03.252086 SP_ReducedOrderSG_SMIB_4Order info] Final time: 1.000000e+01\n",
      "[08:46:07.186428 SP_ReducedOrderSG_SMIB_4Order info] Simulation calculation time: 3.934301\n",
      "[08:46:07.193818 SP_ReducedOrderSG_SMIB_4Order info] Simulation finished.\n"
     ]
    },
    {
     "name": "stdout",
     "output_type": "stream",
     "text": [
      "1.000000e+00: Handle event time\n",
      "1.100000e+00: Handle event time\n"
     ]
    }
   ],
   "source": [
    "log_name = sp_reducedOrderSG_SMIB_fault(sim_pf, gen_pf, \"4Order\", with_governor=True)"
   ]
  },
  {
   "cell_type": "markdown",
   "id": "da858f2b-4c7f-40f5-a730-ce163df83527",
   "metadata": {},
   "source": [
    "### Load DPSim Results"
   ]
  },
  {
   "cell_type": "code",
   "execution_count": 11,
   "id": "f8d7f475-2fc4-4ff1-ac8c-75f9c9147c08",
   "metadata": {},
   "outputs": [
    {
     "name": "stdout",
     "output_type": "stream",
     "text": [
      "column number: 14\n",
      "results length: 10001\n",
      "real column names: ['Edq0_0', 'Edq0_1', 'Ef', 'Idq0_0', 'Idq0_1', 'Te', 'Tm', 'Vdq0_0', 'Vdq0_1', 'delta', 'w_r']\n",
      "complex column names: ['i_gen', 'n1.v', 'n2.v']\n"
     ]
    }
   ],
   "source": [
    "# read Simulink log file\n",
    "\n",
    "file_path = os.getcwd() + \"/logs/\" + log_name + \"/\" + log_name + \".csv\"\n",
    "ts_dpsim_4Order = read_timeseries_dpsim(file_path)"
   ]
  },
  {
   "cell_type": "markdown",
   "id": "44217f62-e73c-48f9-a564-354e4f98426d",
   "metadata": {},
   "source": [
    "### Load PSAT Results"
   ]
  },
  {
   "cell_type": "code",
   "execution_count": 12,
   "id": "e55082b5-d3ca-48c7-a19b-8eeece5f25a9",
   "metadata": {},
   "outputs": [
    {
     "name": "stdout",
     "output_type": "stream",
     "text": [
      "column number: 16\n",
      "results length: 10004\n",
      "real column names: ['delta', 'omega', 'eq_t', 'ed_t', 'tg1', 'tg2', 'tg3', 'theta_bus1', 'theta_bus3', 'V_Bus1', 'V_Bus3', 'vf', 'pm', 'p', 'q', 'omega_ref_tg']\n",
      "complex column names: []\n"
     ]
    }
   ],
   "source": [
    "if not os.path.exists('reference-results'):\n",
    "    os.mkdir('reference-results')\n",
    "\n",
    "url = 'https://git.rwth-aachen.de/acs/public/simulation/reference-results/-/raw/master/PSAT/SMIB-Fault/PSAT_4OrderSyGen_withGovernor_SMIB_Fault_100mS_TS_1mS.txt'\n",
    "local_file_4Order = 'reference-results/PSAT_4OrderSyGen_withGovernor_SMIB_Fault_100mS_TS_1mS.out'\n",
    "urllib.request.urlretrieve(url, local_file_4Order)\n",
    "ts_psat_4Order = read_timeseries_dpsim(local_file_4Order)\n",
    "ts_psat_4Order = calculate_variables_psat(ts_psat_4Order)"
   ]
  },
  {
   "cell_type": "markdown",
   "id": "2f8110aa-48cf-4aae-ab74-070c2bce4b44",
   "metadata": {},
   "source": [
    "### Validation of electrical and mechanical quantities"
   ]
  },
  {
   "cell_type": "markdown",
   "id": "8e4e23d0-c60e-4cf3-b39c-2063eedc856d",
   "metadata": {},
   "source": [
    "#### Electrical Torque"
   ]
  },
  {
   "cell_type": "code",
   "execution_count": 13,
   "id": "1c607ca1-f3b6-4c4f-9ef1-0d4fdddec6b0",
   "metadata": {},
   "outputs": [
    {
     "name": "stdout",
     "output_type": "stream",
     "text": [
      "RMSE Te  = 0.005039 (pu), which is 0.932% of the nominal value = 0.541 (pu) \n"
     ]
    },
    {
     "data": {
      "image/png": "[encoded data removed]",
      "text/plain": [
       "<Figure size 864x288 with 1 Axes>"
      ]
     },
     "metadata": {
      "needs_background": "light"
     },
     "output_type": "display_data"
    }
   ],
   "source": [
    "varname_dpsim = \"Te\"\n",
    "varname_psat = \"p\"\n",
    "\n",
    "rmse_etorque = plot_variable(titles, varname_dpsim, varname_psat, ts_dpsim_4Order, ts_psat_4Order, nominal_values, ylabels)"
   ]
  },
  {
   "cell_type": "markdown",
   "id": "26ff7c1a-247d-4872-bc19-1b0eb4601191",
   "metadata": {},
   "source": [
    "#### Mechanical Torque"
   ]
  },
  {
   "cell_type": "code",
   "execution_count": 14,
   "id": "f3a6ad16-6c25-486a-aa45-60b907c45d6f",
   "metadata": {},
   "outputs": [
    {
     "name": "stdout",
     "output_type": "stream",
     "text": [
      "RMSE Tm  = 0.000076 (pu), which is 0.014% of the nominal value = 0.541 (pu) \n"
     ]
    },
    {
     "data": {
      "image/png": "[encoded data removed]",
      "text/plain": [
       "<Figure size 864x288 with 1 Axes>"
      ]
     },
     "metadata": {
      "needs_background": "light"
     },
     "output_type": "display_data"
    }
   ],
   "source": [
    "varname_dpsim = \"Tm\"\n",
    "varname_psat = \"pm\"\n",
    "\n",
    "rmse_mtorque = plot_variable(titles, varname_dpsim, varname_psat, ts_dpsim_4Order, ts_psat_4Order, nominal_values, ylabels)"
   ]
  },
  {
   "cell_type": "markdown",
   "id": "3e56c789-d94c-48e9-aa26-f82023e1c20f",
   "metadata": {},
   "source": [
    "#### $E_d^{'}$"
   ]
  },
  {
   "cell_type": "code",
   "execution_count": 15,
   "id": "cf593b1e-c8ae-4369-817e-4860b2a87e1a",
   "metadata": {},
   "outputs": [
    {
     "name": "stdout",
     "output_type": "stream",
     "text": [
      "RMSE Edq0_0  = 0.000103 (pu), which is 0.026% of the nominal value = 0.403 (pu) \n"
     ]
    },
    {
     "data": {
      "image/png": "[encoded data removed]",
      "text/plain": [
       "<Figure size 864x288 with 1 Axes>"
      ]
     },
     "metadata": {
      "needs_background": "light"
     },
     "output_type": "display_data"
    }
   ],
   "source": [
    "varname_dpsim = \"Edq0_0\"\n",
    "varname_psat = \"ed_t\"\n",
    "\n",
    "rmse_ed = plot_variable(titles, varname_dpsim, varname_psat, ts_dpsim_4Order, ts_psat_4Order, nominal_values, ylabels)"
   ]
  },
  {
   "cell_type": "markdown",
   "id": "621fce12-0a89-4db3-a029-28691a104845",
   "metadata": {},
   "source": [
    "#### $E_q^{'}$"
   ]
  },
  {
   "cell_type": "code",
   "execution_count": null,
   "id": "40cb41fb-b0d3-4eef-9566-93e2b68fcca5",
   "metadata": {},
   "outputs": [],
   "source": [
    "varname_dpsim = \"Edq0_1\"\n",
    "varname_psat = \"eq_t\"\n",
    "\n",
    "rmse_eq = plot_variable(titles, varname_dpsim, varname_psat, ts_dpsim_4Order, ts_psat_4Order, nominal_values, ylabels)"
   ]
  },
  {
   "cell_type": "markdown",
   "id": "5f9a5536-dba8-4cd5-b520-0ede3528bf4f",
   "metadata": {},
   "source": [
    "#### $V_d^{'}$"
   ]
  },
  {
   "cell_type": "code",
   "execution_count": null,
   "id": "ac31943e-8107-4dbd-af34-21a32a128313",
   "metadata": {},
   "outputs": [],
   "source": [
    "varname_dpsim = \"Vdq0_0\"\n",
    "varname_psat = \"vd\"\n",
    "\n",
    "rmse_vd = plot_variable(titles, varname_dpsim, varname_psat, ts_dpsim_4Order, ts_psat_4Order, nominal_values, ylabels)"
   ]
  },
  {
   "cell_type": "markdown",
   "id": "2fa39790-1a3e-4895-8bac-a4ca0f3338d0",
   "metadata": {},
   "source": [
    "#### $V_q^{'}$"
   ]
  },
  {
   "cell_type": "code",
   "execution_count": null,
   "id": "9cc39929-2536-45d6-8e8f-42258612ce0b",
   "metadata": {},
   "outputs": [],
   "source": [
    "varname_dpsim = \"Vdq0_1\"\n",
    "varname_psat = \"vq\"\n",
    "\n",
    "rmse_vq = plot_variable(titles, varname_dpsim, varname_psat, ts_dpsim_4Order, ts_psat_4Order, nominal_values, ylabels)"
   ]
  },
  {
   "cell_type": "markdown",
   "id": "eb195100-95be-4512-9f60-f6036a21b37a",
   "metadata": {},
   "source": [
    "#### $I_d$"
   ]
  },
  {
   "cell_type": "code",
   "execution_count": null,
   "id": "e49254ff-0fc5-4e0b-81a9-9b28787b758e",
   "metadata": {},
   "outputs": [],
   "source": [
    "varname_dpsim = \"Idq0_0\"\n",
    "varname_psat = \"id\"\n",
    "\n",
    "rmse_id = plot_variable(titles, varname_dpsim, varname_psat, ts_dpsim_4Order, ts_psat_4Order, nominal_values, ylabels)"
   ]
  },
  {
   "cell_type": "markdown",
   "id": "c810f1ea-1dfc-47a6-8e87-668b5a3b1db2",
   "metadata": {},
   "source": [
    "#### $I_q$"
   ]
  },
  {
   "cell_type": "code",
   "execution_count": null,
   "id": "79af1d57-0056-412e-9af0-27429ccc1288",
   "metadata": {},
   "outputs": [],
   "source": [
    "varname_dpsim = \"Idq0_1\"\n",
    "varname_psat = \"iq\"\n",
    "\n",
    "rmse_iq = plot_variable(titles, varname_dpsim, varname_psat, ts_dpsim_4Order, ts_psat_4Order, nominal_values, ylabels)"
   ]
  },
  {
   "cell_type": "markdown",
   "id": "f7c06d89-5fac-4a58-8ae3-34c5c6a017ab",
   "metadata": {},
   "source": [
    "#### Delta"
   ]
  },
  {
   "cell_type": "code",
   "execution_count": null,
   "id": "344b3f2f-9e7a-4ece-984a-a4850f54b699",
   "metadata": {},
   "outputs": [],
   "source": [
    "varname_dpsim = \"delta\"\n",
    "varname_psat = \"delta\"\n",
    "\n",
    "rmse_delta = plot_variable(titles, varname_dpsim, varname_psat, ts_dpsim_4Order, ts_psat_4Order, nominal_values, ylabels)"
   ]
  },
  {
   "cell_type": "markdown",
   "id": "2736d5a0-9897-42cd-a76d-00c3b7fdd3f1",
   "metadata": {},
   "source": [
    "#### Mechanical Omega"
   ]
  },
  {
   "cell_type": "code",
   "execution_count": null,
   "id": "4c1dd57f-dc2a-4a03-8d46-4338ac8c7b74",
   "metadata": {},
   "outputs": [],
   "source": [
    "varname_dpsim = \"w_r\"\n",
    "varname_psat = \"omega\"\n",
    "\n",
    "rmse_omega = plot_variable(titles, varname_dpsim, varname_psat, ts_dpsim_4Order, ts_psat_4Order, nominal_values, ylabels)"
   ]
  },
  {
   "cell_type": "markdown",
   "id": "31dd17b6-b599-45bc-baf0-d346f9b4a9dd",
   "metadata": {},
   "source": [
    "#### Grid voltages"
   ]
  },
  {
   "cell_type": "code",
   "execution_count": null,
   "id": "112fb94f-3e70-4936-b10e-b22626a9a5ba",
   "metadata": {},
   "outputs": [],
   "source": [
    "varname_dpsim = \"n1.v\"\n",
    "varname_psat = \"V_Bus1\"\n",
    "\n",
    "rmse_v1_abs = plot_node_volt_abs(varname_dpsim, varname_psat, ts_dpsim_4Order, ts_psat_4Order, nominal_grid_voltage, ylabels)"
   ]
  },
  {
   "cell_type": "code",
   "execution_count": null,
   "id": "5e552b01-348f-42a7-9eeb-9da149feb78a",
   "metadata": {},
   "outputs": [],
   "source": [
    "varname_dpsim = \"n1.v\"\n",
    "varname_psat = \"theta_bus1\"\n",
    "\n",
    "rmse_v1_angle = plot_node_volt_angle(varname_dpsim, varname_psat, ts_dpsim_4Order, ts_psat_4Order, nominal_grid_voltage, ylabels)"
   ]
  },
  {
   "cell_type": "code",
   "execution_count": null,
   "id": "eb96fc77-2cea-4c21-9555-93c54138a99e",
   "metadata": {},
   "outputs": [],
   "source": [
    "varname_dpsim = \"n2.v\"\n",
    "varname_psat = \"V_Bus3\"\n",
    "\n",
    "rmse_v2_abs = plot_node_volt_abs(varname_dpsim, varname_psat, ts_dpsim_4Order, ts_psat_4Order, nominal_grid_voltage, ylabels)"
   ]
  },
  {
   "cell_type": "code",
   "execution_count": null,
   "id": "5e552b01-348f-42a7-9eeb-9da149feb78a",
   "metadata": {},
   "outputs": [],
   "source": [
    "varname_dpsim = \"n2.v\"\n",
    "varname_psat = \"theta_bus3\"\n",
    "\n",
    "rmse_v2_angle = plot_node_volt_angle(varname_dpsim, varname_psat, ts_dpsim_4Order, ts_psat_4Order, nominal_grid_voltage, ylabels)"
   ]
  },
  {
   "cell_type": "markdown",
   "id": "2645d55f-84f4-4696-8068-85eb205a3681",
   "metadata": {},
   "source": [
    "#### Assert"
   ]
  },
  {
   "cell_type": "code",
   "execution_count": null,
   "id": "b25af3b1-9d4a-4817-9bf0-8f89be8daf09",
   "metadata": {},
   "outputs": [],
   "source": [
    "tol = 1 # %\n",
    "tol_i = 6 # %\n",
    "tol_deg_v1 = 0.2 # deg\n",
    "tol_deg_v2 = 1e-12 # deg\n",
    "\n",
    "assert(rmse_etorque<tol)\n",
    "assert(rmse_mtorque<tol)\n",
    "assert(rmse_ed<tol)\n",
    "assert(rmse_eq<tol)\n",
    "assert(rmse_vd<tol)\n",
    "assert(rmse_vq<tol)\n",
    "assert(rmse_id<tol_i)\n",
    "assert(rmse_iq<tol_i)\n",
    "assert(rmse_delta<tol)\n",
    "assert(rmse_omega<tol)\n",
    "assert(rmse_v1_abs<tol)\n",
    "assert(rmse_v2_abs<tol)\n",
    "#assert(rmse_v1_angle<tol_deg_v1)\n",
    "assert(rmse_v2_angle<tol_deg_v2)"
   ]
  }
 ],
 "metadata": {
  "kernelspec": {
   "display_name": "Python 3 (ipykernel)",
   "language": "python",
   "name": "python3"
  },
  "language_info": {
   "codemirror_mode": {
    "name": "ipython",
    "version": 3
   },
   "file_extension": ".py",
   "mimetype": "text/x-python",
   "name": "python",
   "nbconvert_exporter": "python",
   "pygments_lexer": "ipython3",
   "version": "3.9.13"
  },
  "tests": {
   "skip": false
  },
  "vscode": {
   "interpreter": {
    "hash": "e7370f93d1d0cde622a1f8e1c04877d8463912d04d973331ad4851f04de6915a"
   }
  }
 },
 "nbformat": 4,
 "nbformat_minor": 5
}
