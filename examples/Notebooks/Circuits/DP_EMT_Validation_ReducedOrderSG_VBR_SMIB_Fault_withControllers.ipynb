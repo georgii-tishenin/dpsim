{
 "cells": [
  {
   "attachments": {},
   "cell_type": "markdown",
   "metadata": {},
   "source": [
    "# Validation of DP and EMT 4th Order VBR SynGen with Controllers against SP"
   ]
  },
  {
   "attachments": {},
   "cell_type": "markdown",
   "metadata": {},
   "source": [
    "## Import Libraries"
   ]
  },
  {
   "cell_type": "code",
   "execution_count": null,
   "metadata": {},
   "outputs": [],
   "source": [
    "import os\n",
    "import numpy as np\n",
    "from villas.dataprocessing.readtools import *\n",
    "from villas.dataprocessing.timeseries import *\n",
    "from villas.dataprocessing.timeseries import TimeSeries as ts\n",
    "import matplotlib.pyplot as plt\n",
    "import dpsimpy"
   ]
  },
  {
   "attachments": {},
   "cell_type": "markdown",
   "metadata": {},
   "source": [
    "### Parametrization"
   ]
  },
  {
   "cell_type": "code",
   "execution_count": null,
   "metadata": {},
   "outputs": [],
   "source": [
    "### Power System\n",
    "frequency = 60\n",
    "omega = 2 * np.pi * frequency\n",
    "nominal_voltage_mv = 24e3\n",
    "\n",
    "### Generator\n",
    "nom_power = 555e6\n",
    "initial_electrical_power = complex(300e6, 0)\n",
    "initial_terminal_voltage = nominal_voltage_mv * complex(np.cos(-np.pi / 2), np.sin(-np.pi / 2))\n",
    "H = 3.7\n",
    "Td0_t = 8.0669\n",
    "Td0_s = 0.0300\n",
    "Td_t = 1.3368\n",
    "Td_s = 0.0230\n",
    "Ld_t = 0.2999\n",
    "Ld_s = 0.2299\n",
    "Tq0_t = 0.9991\n",
    "Tq0_s = 0.0700\n",
    "Lq_t = 0.6500\n",
    "Lq_s = 0.2500\n",
    "Ld = 1.8099\n",
    "Lq = 1.7600\n",
    "L0 = 0.15\n",
    "Taa = 0\n",
    "\n",
    "### Excitation system\n",
    "exciter_parameters = dpsimpy.signal.ExciterDC1SimpParameters()\n",
    "exciter_parameters.Ka = 46\n",
    "exciter_parameters.Ta = 0.06\n",
    "exciter_parameters.Kef = -0.0435\n",
    "exciter_parameters.Tef = 0.46\n",
    "exciter_parameters.Kf = 0.1\n",
    "exciter_parameters.Tf = 1\n",
    "exciter_parameters.Tr = 0.02\n",
    "exciter_parameters.Aef = 0.33\n",
    "exciter_parameters.Bef = 0.1\n",
    "exciter_parameters.MaxVa = 1.0\n",
    "exciter_parameters.MinVa = -0.9\n",
    "#exciter_parameters.Tb = 10\n",
    "#exciter_parameters.Tc = 1.0\n",
    "\n",
    "### PSS\n",
    "pss_parameters = dpsimpy.signal.PSS1AParameters()\n",
    "pss_parameters.Kp = 0\n",
    "pss_parameters.Kv = 0\n",
    "pss_parameters.Kw = 15\n",
    "pss_parameters.T1 = 0.1\n",
    "pss_parameters.T2 = 0.01\n",
    "pss_parameters.T3 = 0.12\n",
    "pss_parameters.T4 = 0.01\n",
    "pss_parameters.Vs_max = 0.1\n",
    "pss_parameters.Vs_min = -0.1\n",
    "pss_parameters.Tw = 10\n",
    "\n",
    "### Turbine Governor Type 1\n",
    "governor_parameters = dpsimpy.signal.TurbineGovernorType1Parameters()\n",
    "governor_parameters.OmRef = 1.0\n",
    "governor_parameters.R = 0.02\n",
    "governor_parameters.Tmax = 1.2\n",
    "governor_parameters.Tmin = 0.3\n",
    "governor_parameters.Ts = 0.1\n",
    "governor_parameters.Tc = 0.45\n",
    "governor_parameters.T3 = 0.0\n",
    "governor_parameters.T4 = 12.0\n",
    "governor_parameters.T5 = 50.0\n",
    "\n",
    "# Load\n",
    "active_power = 300e6\n",
    "reactive_power = 0\n",
    "\n",
    "### Switch\n",
    "switch_closed = 10\n",
    "switch_open = 1e6"
   ]
  },
  {
   "cell_type": "markdown",
   "metadata": {},
   "source": [
    "## Declare DPSim Topology for time domain simulations"
   ]
  },
  {
   "cell_type": "code",
   "execution_count": null,
   "metadata": {},
   "outputs": [],
   "source": [
    "def reducedOrderSG_LoadStep(domain, gen_model, with_exciter=False, with_pss=False, with_governor=False, final_time=10, time_step=0.001):\n",
    "\n",
    "    ### DPsim SP simulation\n",
    "    name = \"\"\n",
    "    if domain == dpsimpy.Domain.SP:\n",
    "        name = \"SP_ReducedOrderSG_SMIB_\" + gen_model\n",
    "    elif domain == dpsimpy.Domain.DP:\n",
    "        name = \"DP_ReducedOrderSG_SMIB_\" + gen_model\n",
    "    elif domain == dpsimpy.Domain.EMT:\n",
    "        name = \"EMT_ReducedOrderSG_SMIB_\" + gen_model\n",
    "    \n",
    "    dpsimpy.Logger.set_log_dir(\"logs/\" + name)\n",
    "\n",
    "    ### Nodes\n",
    "    n1 = None\n",
    "    if (domain == dpsimpy.Domain.SP or domain == dpsimpy.Domain.DP):\n",
    "        n1 = dpsimpy.dp.SimNode('n1', dpsimpy.PhaseType.Single)\n",
    "        n1.set_initial_voltage(initial_terminal_voltage)\n",
    "    elif domain == dpsimpy.Domain.EMT:\n",
    "        n1 = dpsimpy.emt.SimNode('n1', dpsimpy.PhaseType.ABC) \n",
    "        n1.set_initial_voltage(dpsimpy.Math.single_phase_variable_to_three_phase(initial_terminal_voltage))\n",
    "    \n",
    "\n",
    "    ### Components\n",
    "    comps_module = None\n",
    "    if domain == dpsimpy.Domain.SP:\n",
    "        comps_module = dpsimpy.sp.ph1\n",
    "    elif domain == dpsimpy.Domain.DP:\n",
    "        comps_module = dpsimpy.dp.ph1\n",
    "    elif domain == dpsimpy.Domain.EMT:\n",
    "        comps_module = dpsimpy.emt.ph3\n",
    "        \n",
    "    # syncrhon generator\n",
    "    gen = None\n",
    "    if (gen_model==\"3Order\"):\n",
    "        gen = comps_module.SynchronGenerator3OrderVBR('gen', dpsimpy.LogLevel.off)\n",
    "        gen.set_operational_parameters_per_unit(nom_power=nom_power, nom_voltage=nominal_voltage_mv, nom_frequency=frequency, \n",
    "                                                H=H, Ld=Ld, Lq=Lq, L0=L0, Ld_t=Ld_t, Td0_t=Td0_t)\n",
    "    elif (gen_model==\"4Order\"):\n",
    "        gen = comps_module.SynchronGenerator4OrderVBR('gen', dpsimpy.LogLevel.info)\n",
    "        gen.set_operational_parameters_per_unit(nom_power=nom_power, nom_voltage=nominal_voltage_mv, nom_frequency=frequency, \n",
    "                                                H=H, Ld=Ld, Lq=Lq, L0=L0, Ld_t=Ld_t, Lq_t=Lq_t, Td0_t=Td0_t, Tq0_t=Tq0_t)\t\t\n",
    "    elif (gen_model==\"6aOrder\"):\n",
    "        gen = comps_module.SynchronGenerator6aOrderVBR('gen', dpsimpy.LogLevel.off)\n",
    "        gen.set_operational_parameters_per_unit(nom_power=nom_power, nom_voltage=nominal_voltage_mv, nom_frequency=frequency, \n",
    "                                                H=H, Ld=Ld, Lq=Lq, L0=L0, Ld_t=Ld_t, Lq_t=Lq_t, Td0_t=Td0_t, Tq0_t=Tq0_t,\n",
    "                                                Ld_s=Ld_s, Lq_s=Lq_s, Td0_s=Td0_s, Tq0_s=Tq0_s, Taa=Taa)\t\n",
    "    elif (gen_model==\"6bOrder\"):\n",
    "        gen = comps_module.SynchronGenerator6bOrderVBR('gen', dpsimpy.LogLevel.off)\n",
    "        gen.set_operational_parameters_per_unit(nom_power=nom_power, nom_voltage=nominal_voltage_mv, nom_frequency=frequency, \n",
    "                                                H=H, Ld=Ld, Lq=Lq, L0=L0, Ld_t=Ld_t, Lq_t=Lq_t, Td0_t=Td0_t, Tq0_t=Tq0_t,\n",
    "                                                Ld_s=Ld_s, Lq_s=Lq_s, Td0_s=Td0_s, Tq0_s=Tq0_s)\t\t\n",
    "    gen.set_initial_values(init_complex_electrical_power=initial_electrical_power, init_mechanical_power=initial_electrical_power.real, \n",
    "                           init_complex_terminal_voltage=initial_terminal_voltage)\n",
    "\n",
    "    # exciter\n",
    "    if with_exciter:\n",
    "        exciter = dpsimpy.signal.ExciterDC1Simp(\"Exciter\", dpsimpy.LogLevel.off)\n",
    "        exciter.set_parameters(exciter_parameters)\n",
    "        gen.add_exciter(exciter)\n",
    "        \n",
    "        # PSS\n",
    "        if with_pss:\n",
    "            pss = dpsimpy.signal.PSS1A(\"PSS\", dpsimpy.LogLevel.info)\n",
    "            pss.set_parameters(pss_parameters)\n",
    "            gen.add_pss(pss)\n",
    "            \n",
    "    # governor\n",
    "    if with_governor:\n",
    "        governor = dpsimpy.signal.TurbineGovernorType1(\"Governor\", dpsimpy.LogLevel.off)\n",
    "        governor.set_parameters(governor_parameters)\n",
    "        gen.add_governor(governor)\n",
    "    \n",
    "    # Load\n",
    "    load = None\n",
    "    if domain == dpsimpy.Domain.SP:\n",
    "        load = comps_module.Load(\"Load\", dpsimpy.LogLevel.off)\n",
    "        load.set_parameters(active_power, reactive_power, nominal_voltage_mv)\n",
    "    elif domain == dpsimpy.Domain.DP:\n",
    "        load = comps_module.RXLoad(\"Load\", dpsimpy.LogLevel.off)\n",
    "        load.set_parameters(active_power, reactive_power, nominal_voltage_mv)\n",
    "    elif domain == dpsimpy.Domain.EMT:\n",
    "        load = comps_module.RXLoad(\"Load\", dpsimpy.LogLevel.off)\n",
    "        load.set_parameters(dpsimpy.Math.single_phase_parameter_to_three_phase(active_power/3),\n",
    "                            dpsimpy.Math.single_phase_parameter_to_three_phase(reactive_power/3),\n",
    "                            nominal_voltage_mv)\n",
    " \n",
    "    # Load Step as Switch\n",
    "    switch = None\n",
    "    gnd = None\n",
    "    if (domain == dpsimpy.Domain.SP or domain == dpsimpy.Domain.DP):\n",
    "        switch = comps_module.Switch('Switch', dpsimpy.LogLevel.off)\n",
    "        gnd = dpsimpy.dp.SimNode.gnd\n",
    "    elif domain == dpsimpy.Domain.EMT:\n",
    "        switch = comps_module.SeriesSwitch('Switch', dpsimpy.LogLevel.off)\n",
    "        gnd = dpsimpy.emt.SimNode.gnd \n",
    "    switch.set_parameters(switch_open, switch_closed)\n",
    "    switch.open()\n",
    "    \n",
    "    ### Connections\n",
    "    gen.connect([n1])\n",
    "    load.connect([n1])\n",
    "    switch.connect([gnd, n1])\n",
    "    \n",
    "    ### Define system topology\n",
    "    system = dpsimpy.SystemTopology(frequency, [n1], [gen, load, switch])\n",
    "\n",
    "    ### Logging\n",
    "    logger = dpsimpy.Logger(name)\n",
    "    logger.log_attribute('v_gen', 'v_intf', gen)\n",
    "    logger.log_attribute('i_gen', 'i_intf', gen)\n",
    "    logger.log_attribute('Te', 'Te', gen)\n",
    "    logger.log_attribute('Tm', 'Tm', gen)\n",
    "    logger.log_attribute('Ef', 'Ef', gen)\n",
    "    \n",
    "    ### Simulation\n",
    "    sim = dpsimpy.Simulation(name, dpsimpy.LogLevel.off)\n",
    "    sim.set_system(system)\n",
    "    sim.do_init_from_nodes_and_terminals(True)\n",
    "    sim.set_domain(domain)\n",
    "    sim.set_direct_solver_implementation(dpsimpy.DirectLinearSolverImpl.SparseLU)\n",
    "    sim.set_time_step(time_step)\n",
    "    sim.set_final_time(final_time)\n",
    "    sim.do_system_matrix_recomputation(True)\n",
    "    \n",
    "    sw_event_1 = dpsimpy.event.SwitchEvent(1.0, switch, True)\n",
    "    sim.add_event(sw_event_1)\n",
    "    \n",
    "    sw_event_2 = dpsimpy.event.SwitchEvent(4, switch, False)\n",
    "    sim.add_event(sw_event_2)\n",
    "\n",
    "    sim.add_logger(logger)\n",
    "    sim.run()\n",
    "    \n",
    "    return name"
   ]
  },
  {
   "attachments": {},
   "cell_type": "markdown",
   "metadata": {},
   "source": [
    "## Declare plot function"
   ]
  },
  {
   "cell_type": "code",
   "execution_count": null,
   "metadata": {},
   "outputs": [],
   "source": [
    "width = 16\n",
    "height = 4\n",
    "color_EMT = 'black'\n",
    "color_SP = 'C10'\n",
    "color_DP = 'C11'\n",
    "linestyle_EMT = '-'\n",
    "linestyle_SP = '-'\n",
    "linestyle_DP = 'dashed'\n",
    "common_time=100e-6\n",
    "roi_start=0\n",
    "roi_end=4.5\n",
    "roi = range(int(roi_start/common_time), int(roi_end/common_time))\n",
    "\n",
    "def plot_mechVar(varname, ylabel, ts_dpsim_EMT, ts_dpsim_SP, ts_dpsim_DP):\n",
    "        \n",
    "    time = ts_dpsim_EMT[varname].interpolate(common_time).time[roi]\n",
    "    values_emt = ts_dpsim_EMT[varname].interpolate(common_time).values[roi]\n",
    "    values_sp = ts_dpsim_SP[varname].interpolate(common_time).values[roi]\n",
    "    values_dp = ts_dpsim_DP[varname].interpolate(common_time).values[roi]\n",
    "        \n",
    "    fig = plt.figure(figsize=(width, height))\n",
    "    plt.plot(time, values_emt, label='EMT', linestyle=linestyle_EMT, color=color_EMT, linewidth=3)    \n",
    "    plt.plot(time, values_sp, label='SP',  color=color_SP, linestyle=linestyle_SP,  linewidth=3) \n",
    "    plt.plot(time, values_dp, label='DP',  color=color_DP, linestyle=linestyle_DP, linewidth=3)     \n",
    "    plt.ylabel(ylabel)\n",
    "    plt.xlabel('Time (s)')\n",
    "    plt.xlim(0, 4.5)\n",
    "    plt.grid()\n",
    "    plt.legend(loc='lower right')\n",
    "    plt.show()\n",
    "    \n",
    "    #calculate RMSE\n",
    "    nom_value = 0.540541 # power flow result\n",
    "    rmse_emt = ts_dpsim_SP[varname].rmse(ts_dpsim_SP[varname].interpolate(common_time), ts_dpsim_EMT[varname].interpolate(common_time))\n",
    "    print('RMSE EMT = {:.6f} (pu), which is {:.3f}% of the nominal value = {:.3f} (pu) '.format(rmse_emt, rmse_emt/nom_value*100, nom_value))\n",
    "    rmse_dp = ts_dpsim_SP[varname].rmse(ts_dpsim_SP[varname].interpolate(common_time), ts_dpsim_DP[varname].interpolate(common_time))\n",
    "    print('RMSE DP = {:.6f} (pu), which is {:.3f}% of the nominal value = {:.3f} (pu) '.format(rmse_dp, rmse_dp/nom_value*100, nom_value))\n",
    "    \n",
    "    return (rmse_emt/nom_value*100, rmse_dp/nom_value*100)\n",
    "    \n",
    "    \n",
    "def plot_elecVar(variable_EMT, variable_SP, variable_DP, ylabel, ts_dpsim_EMT, ts_dpsim_SP_shift, ts_dpsim_DP_shift):    \n",
    "    time = ts_dpsim_EMT[variable_EMT].interpolate(common_time).time[roi]\n",
    "    values_emt = ts_dpsim_EMT[variable_EMT].interpolate(common_time).values[roi]\n",
    "    values_sp = np.sqrt(2/3) * ts_dpsim_SP_shift[variable_SP].interpolate(common_time).values[roi]\n",
    "    values_dp = np.sqrt(2/3) * ts_dpsim_DP_shift[variable_DP].interpolate(common_time).values[roi] \n",
    "        \n",
    "    fig = plt.figure(figsize=(width, height))\n",
    "    plt.plot(time, values_emt, label='EMT', linestyle=linestyle_EMT, color=color_EMT, linewidth=3)    \n",
    "    plt.plot(time, values_sp, label='SP',  color=color_SP, linestyle=linestyle_SP,  linewidth=3) \n",
    "    plt.plot(time, values_dp, label='DP',  color=color_DP, linestyle=linestyle_DP, linewidth=3) \n",
    "    plt.ylabel(ylabel)\n",
    "    plt.xlabel('Time (s)')\n",
    "    plt.xlim(0.9, 1.2)\n",
    "    plt.grid()\n",
    "    plt.legend(loc='lower right')\n",
    "    plt.show()\n",
    "    \n",
    "    #calculate RMSE\n",
    "    ts_dpsim_SP_real = TimeSeries(variable_SP, ts_dpsim_SP_shift[variable_SP].time, np.sqrt(2/3) * ts_dpsim_SP_shift[variable_SP].values.real)\n",
    "    rmse_emt = ts_dpsim_SP_real.rmse(ts_dpsim_SP_real.interpolate(common_time), ts_dpsim_EMT[variable_EMT].interpolate(common_time))\n",
    "    nom_value = abs(max(ts_dpsim_SP_shift[variable_SP].values[0:int(0.5/common_time)]))\n",
    "    print('RMSE EMT = {:.6f} (pu), which is {:.3f}% of the nominal value = {:.3f} (pu) '.format(rmse_emt, rmse_emt/nom_value*100, nom_value))\n",
    "    \n",
    "    ts_dpsim_DP_real = TimeSeries(variable_DP, ts_dpsim_DP_shift[variable_DP].time, np.sqrt(2/3) * ts_dpsim_DP_shift[variable_DP].values.real)\n",
    "    rmse_dp = ts_dpsim_SP_real.rmse(ts_dpsim_SP_real.interpolate(common_time), ts_dpsim_DP_real.interpolate(common_time))\n",
    "    print('RMSE DP = {:.6f} (pu), which is {:.3f}% of the nominal value = {:.3f} (pu) '.format(rmse_dp, rmse_dp/nom_value*100, nom_value))\n",
    "    \n",
    "    return (rmse_emt/nom_value*100, rmse_dp/nom_value*100)\n",
    "\n",
    "def plot_elecVar2(variable_EMT, variable_SP, variable_DP, ylabel, ts_dpsim_EMT, ts_dpsim_SP, ts_dpsim_DP):   \n",
    "    time = ts_dpsim_EMT[variable_EMT].interpolate(common_time).time[roi]\n",
    "    values_emt = ts_dpsim_EMT[variable_EMT].interpolate(common_time).values[roi]\n",
    "    values_sp = ts_dpsim_SP[variable_SP].interpolate(common_time).values[roi]\n",
    "    values_dp = ts_dpsim_DP[variable_DP].interpolate(common_time).values[roi] \n",
    "        \n",
    "    fig = plt.figure(figsize=(width, height))\n",
    "    plt.plot(time, values_emt, label='EMT', linestyle=linestyle_EMT, color=color_EMT, linewidth=3)    \n",
    "    plt.plot(time, values_sp, label='SP',  color=color_SP, linestyle=linestyle_SP,  linewidth=3) \n",
    "    plt.plot(time, values_dp, label='DP',  color=color_DP, linestyle=linestyle_DP, linewidth=3) \n",
    "    plt.ylabel(ylabel)\n",
    "    plt.xlabel('Time (s)')\n",
    "    plt.xlim(0.9, 4.5)\n",
    "    plt.grid()\n",
    "    plt.legend(loc='lower right')\n",
    "    plt.show()\n",
    "    \n",
    "    #calculate RMSE\n",
    "    ts_dpsim_SP_real = TimeSeries(variable_SP, ts_dpsim_SP[variable_SP].time, ts_dpsim_SP[variable_SP].values.real)\n",
    "    rmse_emt = ts_dpsim_SP_real.rmse(ts_dpsim_SP_real.interpolate(common_time), ts_dpsim_EMT[variable_EMT].interpolate(common_time))\n",
    "    nom_value = abs(max(ts_dpsim_SP[variable_SP].values[0:int(0.5/common_time)]))\n",
    "    print('RMSE EMT = {:.6f} (pu), which is {:.3f}% of the nominal value = {:.3f} (pu) '.format(rmse_emt, rmse_emt/nom_value*100, nom_value))\n",
    "    \n",
    "    ts_dpsim_DP_real = TimeSeries(variable_DP, ts_dpsim_DP[variable_DP].time, ts_dpsim_DP[variable_DP].values.real)\n",
    "    rmse_dp = ts_dpsim_SP_real.rmse(ts_dpsim_SP_real.interpolate(common_time), ts_dpsim_DP_real.interpolate(common_time))\n",
    "    print('RMSE DP = {:.6f} (pu), which is {:.3f}% of the nominal value = {:.3f} (pu) '.format(rmse_dp, rmse_dp/nom_value*100, nom_value))\n",
    "    \n",
    "    return (rmse_emt/nom_value*100, rmse_dp/nom_value*100)"
   ]
  },
  {
   "cell_type": "markdown",
   "metadata": {},
   "source": [
    "## 1. Run DPsim Simulations with Exciter and Load Results"
   ]
  },
  {
   "cell_type": "code",
   "execution_count": null,
   "metadata": {},
   "outputs": [],
   "source": [
    "log_name_sp = reducedOrderSG_LoadStep(dpsimpy.Domain.SP, gen_model=\"4Order\", with_exciter=True, with_pss=False, with_governor=False, final_time=5, time_step=0.001)\n",
    "log_name_dp = reducedOrderSG_LoadStep(dpsimpy.Domain.DP, gen_model=\"4Order\", with_exciter=True, with_pss=False, with_governor=False, final_time=5, time_step=0.001)\n",
    "log_name_emt = reducedOrderSG_LoadStep(dpsimpy.Domain.EMT, gen_model=\"4Order\", with_exciter=True, with_pss=False, with_governor=False, final_time=5, time_step=0.001)\n",
    "\n",
    "work_dir = os.getcwd() + \"/logs/\"\n",
    "\n",
    "ts_dpsim_SP = None\n",
    "ts_dpsim_SP_shift = None\n",
    "ts_dpsim_DP = None\n",
    "ts_dpsim_DP_shift = None\n",
    "ts_dpsim_EMT = None\n",
    "\n",
    "for i in range(3):\n",
    "    path_logfile = work_dir + log_name_sp + \"/\" + log_name_sp + \".csv\"\n",
    "    ts_dpsim_SP = read_timeseries_dpsim(path_logfile)\n",
    "    ts_dpsim_SP_shift = ts.frequency_shift_list(ts_dpsim_SP, 60)\n",
    "\n",
    "    path_logfile = work_dir + log_name_dp + \"/\" + log_name_dp + \".csv\"\n",
    "    ts_dpsim_DP = read_timeseries_dpsim(path_logfile)\n",
    "    ts_dpsim_DP_shift = ts.frequency_shift_list(ts_dpsim_DP, 60)\n",
    "    \n",
    "    path_logfile = work_dir + log_name_emt + \"/\" + log_name_emt + \".csv\"\n",
    "    ts_dpsim_EMT = read_timeseries_dpsim(path_logfile)"
   ]
  },
  {
   "cell_type": "markdown",
   "metadata": {},
   "source": [
    "### Plot Results"
   ]
  },
  {
   "attachments": {},
   "cell_type": "markdown",
   "metadata": {},
   "source": [
    "#### Electrical torque"
   ]
  },
  {
   "attachments": {},
   "cell_type": "markdown",
   "metadata": {},
   "source": [
    "#### 3th order SG"
   ]
  },
  {
   "cell_type": "code",
   "execution_count": null,
   "metadata": {},
   "outputs": [],
   "source": [
    "rmse_emt_te, rmse_dp_te = plot_mechVar(\"Te\", \"Electrical torque (p.u)\", ts_dpsim_EMT, ts_dpsim_SP, ts_dpsim_DP)"
   ]
  },
  {
   "cell_type": "markdown",
   "metadata": {},
   "source": [
    "### Field Voltage"
   ]
  },
  {
   "cell_type": "code",
   "execution_count": null,
   "metadata": {},
   "outputs": [],
   "source": [
    "rmse_emt_vf, rmse_dp_vf = plot_mechVar(\"Ef\", \"Field Voltage (p.u)\", ts_dpsim_EMT, ts_dpsim_SP, ts_dpsim_DP)"
   ]
  },
  {
   "cell_type": "markdown",
   "metadata": {},
   "source": [
    "### Generator Current"
   ]
  },
  {
   "cell_type": "code",
   "execution_count": null,
   "metadata": {},
   "outputs": [],
   "source": [
    "rmse_emt_current, rmse_dp_current = plot_elecVar('i_gen_0', 'i_gen_shift', 'i_gen_shift', 'Current (A)', ts_dpsim_EMT, ts_dpsim_SP_shift, ts_dpsim_DP_shift)"
   ]
  },
  {
   "cell_type": "markdown",
   "metadata": {},
   "source": [
    "### Generator Voltage"
   ]
  },
  {
   "cell_type": "code",
   "execution_count": null,
   "metadata": {},
   "outputs": [],
   "source": [
    "rmse_emt_voltage, rmse_dp_voltage = plot_elecVar('v_gen_0', 'v_gen_shift', 'v_gen_shift', 'Voltage (V)', ts_dpsim_EMT, ts_dpsim_SP_shift, ts_dpsim_DP_shift)"
   ]
  },
  {
   "cell_type": "markdown",
   "metadata": {},
   "source": [
    "### Assertion"
   ]
  },
  {
   "cell_type": "code",
   "execution_count": null,
   "metadata": {},
   "outputs": [],
   "source": [
    "tol = 0.001 # %\n",
    "\n",
    "assert(rmse_emt_current<tol)\n",
    "assert(rmse_emt_voltage<tol)\n",
    "assert(rmse_emt_vf<tol)\n",
    "assert(rmse_emt_te<tol)\n",
    "assert(rmse_dp_current<tol)\n",
    "assert(rmse_dp_voltage<tol)\n",
    "assert(rmse_dp_te<tol)\n",
    "assert(rmse_dp_vf<tol)"
   ]
  },
  {
   "cell_type": "markdown",
   "metadata": {},
   "source": [
    "## 2. Run DPsim Simulations with Exciter and PSS and Load Results"
   ]
  },
  {
   "cell_type": "code",
   "execution_count": null,
   "metadata": {},
   "outputs": [],
   "source": [
    "log_name_sp = reducedOrderSG_LoadStep(dpsimpy.Domain.SP, gen_model=\"4Order\", with_exciter=True, with_pss=True, with_governor=False, final_time=5, time_step=0.001)\n",
    "log_name_dp = reducedOrderSG_LoadStep(dpsimpy.Domain.DP, gen_model=\"4Order\", with_exciter=True, with_pss=True, with_governor=False, final_time=5, time_step=0.001)\n",
    "log_name_emt = reducedOrderSG_LoadStep(dpsimpy.Domain.EMT, gen_model=\"4Order\", with_exciter=True, with_pss=True, with_governor=False, final_time=5, time_step=0.001)\n",
    "\n",
    "work_dir = os.getcwd() + \"/logs/\"\n",
    "\n",
    "ts_dpsim_SP = None\n",
    "ts_dpsim_SP_shift = None\n",
    "ts_dpsim_DP = None\n",
    "ts_dpsim_DP_shift = None\n",
    "ts_dpsim_EMT = None\n",
    "\n",
    "for i in range(3):\n",
    "    path_logfile = work_dir + log_name_sp + \"/\" + log_name_sp + \".csv\"\n",
    "    ts_dpsim_SP = read_timeseries_dpsim(path_logfile)\n",
    "    ts_dpsim_SP_shift = ts.frequency_shift_list(ts_dpsim_SP, 60)\n",
    "\n",
    "    path_logfile = work_dir + log_name_dp + \"/\" + log_name_dp + \".csv\"\n",
    "    ts_dpsim_DP = read_timeseries_dpsim(path_logfile)\n",
    "    ts_dpsim_DP_shift = ts.frequency_shift_list(ts_dpsim_DP, 60)\n",
    "    \n",
    "    path_logfile = work_dir + log_name_emt + \"/\" + log_name_emt + \".csv\"\n",
    "    ts_dpsim_EMT = read_timeseries_dpsim(path_logfile)"
   ]
  },
  {
   "cell_type": "markdown",
   "metadata": {},
   "source": [
    "### Plot Results"
   ]
  },
  {
   "cell_type": "markdown",
   "metadata": {},
   "source": [
    "#### Electrical Torque"
   ]
  },
  {
   "cell_type": "code",
   "execution_count": null,
   "metadata": {},
   "outputs": [],
   "source": [
    "rmse_emt_te, rmse_dp_te = plot_mechVar(\"Te\", \"Electrical torque (p.u)\", ts_dpsim_EMT, ts_dpsim_SP, ts_dpsim_DP)"
   ]
  },
  {
   "cell_type": "markdown",
   "metadata": {},
   "source": [
    "### Field Voltage"
   ]
  },
  {
   "cell_type": "code",
   "execution_count": null,
   "metadata": {},
   "outputs": [],
   "source": [
    "rmse_emt_vf, rmse_dp_vf = plot_mechVar(\"Ef\", \"Field Voltage (p.u)\", ts_dpsim_EMT, ts_dpsim_SP, ts_dpsim_DP)"
   ]
  },
  {
   "cell_type": "markdown",
   "metadata": {},
   "source": [
    "### Current"
   ]
  },
  {
   "cell_type": "code",
   "execution_count": null,
   "metadata": {},
   "outputs": [],
   "source": [
    "rmse_emt_current, rmse_dp_current = plot_elecVar('i_gen_0', 'i_gen_shift', 'i_gen_shift', 'Current (A)', ts_dpsim_EMT, ts_dpsim_SP_shift, ts_dpsim_DP_shift)"
   ]
  },
  {
   "cell_type": "markdown",
   "metadata": {},
   "source": [
    "### Voltage"
   ]
  },
  {
   "cell_type": "code",
   "execution_count": null,
   "metadata": {},
   "outputs": [],
   "source": [
    "rmse_emt_voltage, rmse_dp_voltage = plot_elecVar('v_gen_0', 'v_gen_shift', 'v_gen_shift', 'Voltage (V)', ts_dpsim_EMT, ts_dpsim_SP_shift, ts_dpsim_DP_shift)"
   ]
  },
  {
   "cell_type": "markdown",
   "metadata": {},
   "source": [
    "### Assertion"
   ]
  },
  {
   "cell_type": "code",
   "execution_count": null,
   "metadata": {},
   "outputs": [],
   "source": [
    "tol = 0.001 # %\n",
    "\n",
    "assert(rmse_emt_current<tol)\n",
    "assert(rmse_emt_voltage<tol)\n",
    "assert(rmse_emt_vf<tol)\n",
    "assert(rmse_emt_te<tol)\n",
    "assert(rmse_dp_current<tol)\n",
    "assert(rmse_dp_voltage<tol)\n",
    "assert(rmse_dp_te<tol)\n",
    "assert(rmse_dp_vf<tol)"
   ]
  },
  {
   "cell_type": "markdown",
   "metadata": {},
   "source": [
    "## 3. Run DPsim Simulations with Exciter, PSS and Turbine-Governor and Load Results"
   ]
  },
  {
   "cell_type": "code",
   "execution_count": null,
   "metadata": {},
   "outputs": [],
   "source": [
    "log_name_sp = reducedOrderSG_LoadStep(dpsimpy.Domain.SP, gen_model=\"4Order\", with_exciter=True, with_pss=True, with_governor=True, final_time=5, time_step=0.001)\n",
    "log_name_dp = reducedOrderSG_LoadStep(dpsimpy.Domain.DP, gen_model=\"4Order\", with_exciter=True, with_pss=True, with_governor=True, final_time=5, time_step=0.001)\n",
    "log_name_emt = reducedOrderSG_LoadStep(dpsimpy.Domain.EMT, gen_model=\"4Order\", with_exciter=True, with_pss=True, with_governor=True, final_time=5, time_step=0.001)\n",
    "\n",
    "work_dir = os.getcwd() + \"/logs/\"\n",
    "\n",
    "ts_dpsim_SP = None\n",
    "ts_dpsim_SP_shift = None\n",
    "ts_dpsim_DP = None\n",
    "ts_dpsim_DP_shift = None\n",
    "ts_dpsim_EMT = None\n",
    "\n",
    "for i in range(3):\n",
    "    path_logfile = work_dir + log_name_sp + \"/\" + log_name_sp + \".csv\"\n",
    "    ts_dpsim_SP = read_timeseries_dpsim(path_logfile)\n",
    "    ts_dpsim_SP_shift = ts.frequency_shift_list(ts_dpsim_SP, 60)\n",
    "\n",
    "    path_logfile = work_dir + log_name_dp + \"/\" + log_name_dp + \".csv\"\n",
    "    ts_dpsim_DP = read_timeseries_dpsim(path_logfile)\n",
    "    ts_dpsim_DP_shift = ts.frequency_shift_list(ts_dpsim_DP, 60)\n",
    "    \n",
    "    path_logfile = work_dir + log_name_emt + \"/\" + log_name_emt + \".csv\"\n",
    "    ts_dpsim_EMT = read_timeseries_dpsim(path_logfile)"
   ]
  },
  {
   "cell_type": "markdown",
   "metadata": {},
   "source": [
    "### Plot Results"
   ]
  },
  {
   "attachments": {},
   "cell_type": "markdown",
   "metadata": {},
   "source": [
    "#### Electrical Torque"
   ]
  },
  {
   "cell_type": "code",
   "execution_count": null,
   "metadata": {},
   "outputs": [],
   "source": [
    "rmse_emt_te, rmse_dp_te = plot_mechVar(\"Te\", \"Electrical torque (p.u)\", ts_dpsim_EMT, ts_dpsim_SP, ts_dpsim_DP)"
   ]
  },
  {
   "attachments": {},
   "cell_type": "markdown",
   "metadata": {},
   "source": [
    "#### Mechanical Torque"
   ]
  },
  {
   "cell_type": "code",
   "execution_count": null,
   "metadata": {},
   "outputs": [],
   "source": [
    "rmse_emt_tm, rmse_dp_tm = plot_mechVar(\"Tm\", \"Mechanical torque (p.u)\", ts_dpsim_EMT, ts_dpsim_SP, ts_dpsim_DP)"
   ]
  },
  {
   "cell_type": "markdown",
   "metadata": {},
   "source": [
    "#### Field Voltage"
   ]
  },
  {
   "cell_type": "code",
   "execution_count": null,
   "metadata": {},
   "outputs": [],
   "source": [
    "rmse_emt_vf, rmse_dp_vf = plot_mechVar(\"Ef\", \"Field Voltage (p.u)\", ts_dpsim_EMT, ts_dpsim_SP, ts_dpsim_DP)"
   ]
  },
  {
   "cell_type": "markdown",
   "metadata": {},
   "source": [
    "#### Current"
   ]
  },
  {
   "cell_type": "code",
   "execution_count": null,
   "metadata": {},
   "outputs": [],
   "source": [
    "rmse_emt_current, rmse_dp_current = plot_elecVar('i_gen_0', 'i_gen_shift', 'i_gen_shift', 'Current (A)', ts_dpsim_EMT, ts_dpsim_SP_shift, ts_dpsim_DP_shift)"
   ]
  },
  {
   "cell_type": "markdown",
   "metadata": {},
   "source": [
    "#### Voltage"
   ]
  },
  {
   "cell_type": "code",
   "execution_count": null,
   "metadata": {},
   "outputs": [],
   "source": [
    "rmse_emt_voltage, rmse_dp_voltage = plot_elecVar('v_gen_0', 'v_gen_shift', 'v_gen_shift', 'Voltage (V)', ts_dpsim_EMT, ts_dpsim_SP_shift, ts_dpsim_DP_shift)"
   ]
  },
  {
   "attachments": {},
   "cell_type": "markdown",
   "metadata": {},
   "source": [
    "### Assert"
   ]
  },
  {
   "cell_type": "code",
   "execution_count": null,
   "metadata": {},
   "outputs": [],
   "source": [
    "tol = 0.001 # %\n",
    "\n",
    "assert(rmse_emt_current<tol)\n",
    "assert(rmse_emt_voltage<tol)\n",
    "assert(rmse_emt_vf<tol)\n",
    "assert(rmse_emt_te<tol)\n",
    "assert(rmse_emt_tm<tol)\n",
    "assert(rmse_dp_current<tol)\n",
    "assert(rmse_dp_voltage<tol)\n",
    "assert(rmse_dp_te<tol)\n",
    "assert(rmse_dp_tm<tol)\n",
    "assert(rmse_dp_vf<tol)"
   ]
  }
 ],
 "metadata": {
  "kernelspec": {
   "display_name": "Python 3.9.10 64-bit",
   "language": "python",
   "name": "python3"
  },
  "language_info": {
   "codemirror_mode": {
    "name": "ipython",
    "version": 3
   },
   "file_extension": ".py",
   "mimetype": "text/x-python",
   "name": "python",
   "nbconvert_exporter": "python",
   "pygments_lexer": "ipython3",
   "version": "3.9.13"
  },
  "tests": {
   "skip": false
  },
  "vscode": {
   "interpreter": {
    "hash": "e7370f93d1d0cde622a1f8e1c04877d8463912d04d973331ad4851f04de6915a"
   }
  }
 },
 "nbformat": 4,
 "nbformat_minor": 4
}
