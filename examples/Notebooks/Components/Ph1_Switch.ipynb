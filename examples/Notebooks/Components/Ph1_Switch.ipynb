{
 "cells": [
  {
   "cell_type": "markdown",
   "metadata": {},
   "source": [
    "# EMT::Ph1::Switch Test"
   ]
  },
  {
   "cell_type": "code",
   "execution_count": null,
   "metadata": {},
   "outputs": [],
   "source": [
    "import villas.dataprocessing.readtools as rt\n",
    "from villas.dataprocessing.timeseries import TimeSeries as ts\n",
    "import matplotlib.pyplot as plt\n",
    "import numpy as np\n",
    "import dpsimpy\n",
    "\n",
    "#%matplotlib widget"
   ]
  },
  {
   "cell_type": "markdown",
   "metadata": {},
   "source": [
    "## VS_SW_R_L - Circuit"
   ]
  },
  {
   "cell_type": "code",
   "execution_count": null,
   "metadata": {},
   "outputs": [],
   "source": [
    "time_step = 0.00001\n",
    "final_time = 0.1\n",
    "sim_name = 'EMT_VS_SW_RL1'\n",
    "dpsimpy.Logger.set_log_dir('logs/' + sim_name)\n",
    "\n",
    "gnd = dpsimpy.emt.SimNode.gnd\n",
    "n1 = dpsimpy.emt.SimNode('n1')\n",
    "n2 = dpsimpy.emt.SimNode('n2')\n",
    "n3 = dpsimpy.emt.SimNode('n3')\n",
    "\n",
    "resistance = 5\n",
    "inductance = 0.02\n",
    "open_resistance = 1e6\n",
    "closed_resistance = 0.001\n",
    "\n",
    "vs = dpsimpy.emt.ph1.VoltageSource('vs')\n",
    "vs.set_parameters(complex(10, 0), 50)\n",
    "res = dpsimpy.emt.ph1.Resistor('Resistor')\n",
    "res.set_parameters(resistance)\n",
    "ind = dpsimpy.emt.ph1.Inductor('Inductance')\n",
    "ind.set_parameters(inductance)\n",
    "sw = dpsimpy.emt.ph1.Switch('Switch')\n",
    "sw.set_parameters(open_resistance, closed_resistance, False)\n",
    "\n",
    "vs.connect([gnd, n1])\n",
    "sw.connect([n1, n2])\n",
    "res.connect([n2, n3])\n",
    "ind.connect([n3, gnd])\n",
    "\n",
    "sys = dpsimpy.SystemTopology(50, [n1, n2, n3], [vs, sw, res, ind])\n",
    "\n",
    "logger = dpsimpy.Logger(sim_name)\n",
    "logger.log_attribute('v2', 'v', n2)\n",
    "logger.log_attribute('v3', 'v', n3)\n",
    "logger.log_attribute('i_res', 'i_intf', res)\n",
    "\n",
    "sim = dpsimpy.Simulation(sim_name)\n",
    "sim.set_domain(dpsimpy.Domain.EMT)\n",
    "sim.set_solver(dpsimpy.Solver.MNA)\n",
    "sim.set_system(sys)\n",
    "sim.set_time_step(time_step)\n",
    "sim.set_final_time(final_time)\n",
    "sim.add_logger(logger)\n",
    "\n",
    "event_sw = dpsimpy.event.SwitchEvent(0.04, sw, True)\n",
    "sim.add_event(event_sw)\n",
    "\n",
    "sim.run()"
   ]
  },
  {
   "cell_type": "code",
   "execution_count": null,
   "metadata": {},
   "outputs": [],
   "source": [
    "work_dir = 'logs/EMT_VS_SW_RL1/'\n",
    "log_name = 'EMT_VS_SW_RL1'\n",
    "print(work_dir + log_name + '.csv')\n",
    "EMTseries = rt.read_timeseries_dpsim(work_dir + log_name + '.csv')"
   ]
  },
  {
   "cell_type": "code",
   "execution_count": null,
   "metadata": {},
   "outputs": [],
   "source": [
    "plt.figure()\n",
    "plt.plot(EMTseries['v2'].time, EMTseries['v3'].values - EMTseries['v2'].values, label='V_res')\n",
    "plt.legend()\n",
    "plt.show()"
   ]
  },
  {
   "cell_type": "code",
   "execution_count": null,
   "metadata": {},
   "outputs": [],
   "source": [
    "plt.figure()\n",
    "plt.plot(EMTseries['i_res'].time, EMTseries['i_res'].values, label='I')\n",
    "plt.legend()\n",
    "plt.show()"
   ]
  },
  {
   "cell_type": "code",
   "execution_count": null,
   "metadata": {},
   "outputs": [],
   "source": []
  }
 ],
 "metadata": {
  "kernelspec": {
   "display_name": "Python 3 (ipykernel)",
   "language": "python",
   "name": "python3"
  },
  "language_info": {
   "codemirror_mode": {
    "name": "ipython",
    "version": 3
   },
   "file_extension": ".py",
   "mimetype": "text/x-python",
   "name": "python",
   "nbconvert_exporter": "python",
   "pygments_lexer": "ipython3",
   "version": "3.9.13"
  }
 },
 "nbformat": 4,
 "nbformat_minor": 4
}
