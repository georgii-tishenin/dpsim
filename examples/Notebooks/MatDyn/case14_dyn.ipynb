{
 "cells": [
  {
   "attachments": {},
   "cell_type": "markdown",
   "metadata": {},
   "source": [
    "# Case 14 Powerflow Solver Test"
   ]
  },
  {
   "attachments": {},
   "cell_type": "markdown",
   "metadata": {},
   "source": [
    "## Run simulation"
   ]
  },
  {
   "attachments": {},
   "cell_type": "markdown",
   "metadata": {},
   "source": [
    "### Import Libraries"
   ]
  },
  {
   "cell_type": "code",
   "execution_count": null,
   "metadata": {},
   "outputs": [],
   "source": [
    "import subprocess, sys, os\n",
    "import urllib.request\n",
    "\n",
    "dpsim_root_dir = subprocess.Popen(['git', 'rev-parse', '--show-toplevel'], stdout=subprocess.PIPE).communicate()[0].rstrip().decode('utf-8')\n",
    "sys.path.insert(0, os.path.join(dpsim_root_dir, 'python/src/dpsim/'))\n",
    "sys.path.insert(0, os.path.join(dpsim_root_dir, 'build'))\n",
    "\n",
    "import matpower\n",
    "import dpsimpy\n",
    "from villas.dataprocessing.readtools import *\n",
    "from villas.dataprocessing.timeseries import *\n",
    "import urllib.request\n",
    "import matplotlib.pyplot as plt"
   ]
  },
  {
   "attachments": {},
   "cell_type": "markdown",
   "metadata": {},
   "source": [
    "### Get simulation files"
   ]
  },
  {
   "cell_type": "code",
   "execution_count": null,
   "metadata": {},
   "outputs": [],
   "source": [
    "if not os.path.exists('ieee14-data'):\n",
    "    os.mkdir('ieee14-data')\n",
    "\n",
    "url_static = 'https://github.com/martinmoraga/dpsim_data/raw/main/IEEE14/matpower/ieee14.mat'\n",
    "url_dynamic = 'https://github.com/martinmoraga/dpsim_data/raw/main/IEEE14/matpower/ieee14_dyn.mat'\n",
    "local_file_static = './ieee14-data/ieee14.mat'\n",
    "local_file_dynamic = './ieee14-data/ieee14_dyn.mat'\n",
    "urllib.request.urlretrieve(url_static, local_file_static)\n",
    "urllib.request.urlretrieve(url_dynamic, local_file_dynamic)"
   ]
  },
  {
   "attachments": {},
   "cell_type": "markdown",
   "metadata": {},
   "source": [
    "### 1. Powerflow for initialization"
   ]
  },
  {
   "cell_type": "code",
   "execution_count": null,
   "metadata": {},
   "outputs": [],
   "source": [
    "sim_name_pf = 'IEEE14_PF'\n",
    "dpsimpy.Logger.set_log_dir('logs/' + sim_name_pf)\n",
    "\n",
    "# read and create dpsim topology\n",
    "mpc_reader = matpower.Reader(mpc_file_path=local_file_static, mpc_name='ieee14')\n",
    "mpc_reader.load_mpc(domain=matpower.Domain.PF)\n",
    "system_pf = mpc_reader.system\n",
    "\n",
    "# log results\n",
    "logger = dpsimpy.Logger(sim_name_pf)\n",
    "for node in system_pf.nodes:\n",
    "    logger.log_attribute(node.name()+'.V', 'v', node)\n",
    "    logger.log_attribute(node.name()+'.S', 's', node)\n",
    "\n",
    "# Parametrize and run simulation\n",
    "sim_pf = dpsimpy.Simulation(sim_name_pf, dpsimpy.LogLevel.info)\n",
    "sim_pf.set_system(system_pf)\n",
    "sim_pf.set_time_step(0.1)\n",
    "sim_pf.set_final_time(0.1)\n",
    "sim_pf.set_domain(dpsimpy.Domain.SP)\n",
    "sim_pf.set_solver(dpsimpy.Solver.NRP)\n",
    "sim_pf.do_init_from_nodes_and_terminals(False)\n",
    "sim_pf.set_solver_component_behaviour(dpsimpy.SolverBehaviour.Initialization)\n",
    "sim_pf.add_logger(logger)\n",
    "sim_pf.run()"
   ]
  },
  {
   "attachments": {},
   "cell_type": "markdown",
   "metadata": {},
   "source": [
    "### Read pf results"
   ]
  },
  {
   "attachments": {},
   "cell_type": "markdown",
   "metadata": {},
   "source": [
    "### 2. Dynamic simulation with fault at Node 14"
   ]
  },
  {
   "attachments": {},
   "cell_type": "markdown",
   "metadata": {},
   "source": [
    "#### SP - Dynamic Simulation"
   ]
  },
  {
   "cell_type": "code",
   "execution_count": null,
   "metadata": {},
   "outputs": [],
   "source": [
    "sim_name_dyn_sp = 'SP_IEEE14_Dyn_InitPF'\n",
    "dpsimpy.Logger.set_log_dir('logs/' + sim_name_dyn_sp)\n",
    "\n",
    "# read and create dpsim topology\n",
    "mpc_reader = matpower.Reader(mpc_file_path=local_file_static, mpc_name='ieee14',\n",
    "                             mpc_dyn_file_path=local_file_dynamic, mpc_dyn_name='ieee14_dyn')\n",
    "mpc_reader.create_dpsim_objects(domain=matpower.Domain.SP, frequency=60, \n",
    "                                 with_avr=False, with_tg=False, with_pss=False)\n",
    "\n",
    "### Extend topology with switch between node N15 and groud\n",
    "sw = dpsimpy.sp.ph1.Switch('Fault', dpsimpy.LogLevel.info)\n",
    "switch_closed = 0.1 * (13.8*13.8/100.0)\n",
    "sw.set_parameters(1e18, switch_closed)\n",
    "sw.open()\n",
    "mpc_reader.dpsimpy_comp_dict['Fault'] = [sw]\n",
    "mpc_reader.dpsimpy_comp_dict['Fault'].append([dpsimpy.sp.SimNode.gnd, mpc_reader.dpsimpy_busses_dict[\"N14\"]])\n",
    "\n",
    "# create dpsim topology\n",
    "system_dyn = mpc_reader.create_dpsim_topology()\n",
    "\n",
    "#initialize node voltages using pf results\n",
    "system_dyn = mpc_reader.system\n",
    "system_dyn.init_with_powerflow(system_pf, dpsimpy.Domain.SP)\n",
    "\n",
    "# log results\n",
    "logger = dpsimpy.Logger(sim_name_dyn_sp)\n",
    "for node in system_dyn.nodes:\n",
    "    logger.log_attribute(node.name()+'.V', 'v', node)\n",
    "     \n",
    "# Parametrize and run simulation\n",
    "sim = dpsimpy.Simulation(sim_name_dyn_sp, dpsimpy.LogLevel.info)\n",
    "sim.set_system(system_dyn)\n",
    "sim.set_time_step(1e-3)\n",
    "sim.set_final_time(10)\n",
    "sim.set_domain(dpsimpy.Domain.SP)\n",
    "sim.set_solver(dpsimpy.Solver.MNA)\n",
    "sim.set_direct_solver_implementation(dpsimpy.DirectLinearSolverImpl.KLU)\n",
    "sim.do_init_from_nodes_and_terminals(True)\n",
    "sim.do_system_matrix_recomputation(True)\n",
    "sim.add_logger(logger)\n",
    "\n",
    "# add event\n",
    "sw_event_1 = dpsimpy.event.SwitchEvent(0.2, sw, True)\n",
    "sw_event_2 = dpsimpy.event.SwitchEvent(0.3, sw, False)\n",
    "sim.add_event(sw_event_1)\n",
    "sim.add_event(sw_event_2)\n",
    "\n",
    "sim.run()"
   ]
  },
  {
   "attachments": {},
   "cell_type": "markdown",
   "metadata": {},
   "source": [
    "#### DP - Dynamic Simulation"
   ]
  },
  {
   "cell_type": "code",
   "execution_count": null,
   "metadata": {},
   "outputs": [],
   "source": [
    "sim_name_dyn_dp = 'DP_IEEE14_Dyn_InitPF'\n",
    "dpsimpy.Logger.set_log_dir('logs/' + sim_name_dyn_dp)\n",
    "\n",
    "# read and create dpsim topology\n",
    "mpc_reader = matpower.Reader(mpc_file_path=local_file_static, mpc_name='ieee14',\n",
    "                             mpc_dyn_file_path=local_file_dynamic, mpc_dyn_name='ieee14_dyn')\n",
    "mpc_reader.create_dpsim_objects(domain=matpower.Domain.DP, frequency=60, \n",
    "                                 with_avr=False, with_tg=False, with_pss=False)\n",
    "\n",
    "### Extend topology with switch between node N15 and groud\n",
    "sw = dpsimpy.dp.ph1.Switch('Fault', dpsimpy.LogLevel.info)\n",
    "switch_closed = 0.1 * (13.8*13.8/100.0)\n",
    "sw.set_parameters(1e18, switch_closed)\n",
    "sw.open()\n",
    "mpc_reader.dpsimpy_comp_dict['Fault'] = [sw]\n",
    "mpc_reader.dpsimpy_comp_dict['Fault'].append([dpsimpy.sp.SimNode.gnd, mpc_reader.dpsimpy_busses_dict[\"N14\"]])\n",
    "\n",
    "# create dpsim topology\n",
    "mpc_reader.create_dpsim_topology()\n",
    "\n",
    "#initialize node voltages using pf results\n",
    "system_dyn = mpc_reader.system\n",
    "system_dyn.init_with_powerflow(system_pf, dpsimpy.Domain.DP)\n",
    "\n",
    "# log results\n",
    "logger = dpsimpy.Logger(sim_name_dyn_dp)\n",
    "for node in system_dyn.nodes:\n",
    "    logger.log_attribute(node.name()+'.V', 'v', node)\n",
    "     \n",
    "# Parametrize and run simulation\n",
    "sim = dpsimpy.Simulation(sim_name_dyn_dp, dpsimpy.LogLevel.info)\n",
    "sim.set_system(system_dyn)\n",
    "sim.set_time_step(1e-3)\n",
    "sim.set_final_time(10)\n",
    "sim.set_domain(dpsimpy.Domain.SP)\n",
    "sim.set_solver(dpsimpy.Solver.MNA)\n",
    "sim.set_direct_solver_implementation(dpsimpy.DirectLinearSolverImpl.KLU)\n",
    "sim.do_init_from_nodes_and_terminals(True)\n",
    "sim.do_system_matrix_recomputation(True)\n",
    "sim.add_logger(logger)\n",
    "\n",
    "# add event\n",
    "sw_event_1 = dpsimpy.event.SwitchEvent(0.2, sw, True)\n",
    "sw_event_2 = dpsimpy.event.SwitchEvent(0.3, sw, False)\n",
    "sim.add_event(sw_event_1)\n",
    "sim.add_event(sw_event_2)\n",
    "\n",
    "sim.run()"
   ]
  },
  {
   "attachments": {},
   "cell_type": "markdown",
   "metadata": {},
   "source": [
    "#### EMT - Dynamic Simulation"
   ]
  },
  {
   "cell_type": "code",
   "execution_count": null,
   "metadata": {},
   "outputs": [],
   "source": [
    "sim_name_dyn_emt = 'EMT_IEEE14_Dyn_InitPF'\n",
    "dpsimpy.Logger.set_log_dir('logs/' + sim_name_dyn_emt)\n",
    "\n",
    "# read and create dpsim topology\n",
    "mpc_reader = matpower.Reader(mpc_file_path=local_file_static, mpc_name='ieee14',\n",
    "                             mpc_dyn_file_path=local_file_dynamic, mpc_dyn_name='ieee14_dyn')\n",
    "mpc_reader.create_dpsim_objects(domain=matpower.Domain.EMT, frequency=60, log_level=dpsimpy.LogLevel.info, \n",
    "                                 with_avr=False, with_tg=False, with_pss=False)\n",
    "\n",
    "### Extend topology with switch between node N15 and groud\n",
    "sw = dpsimpy.emt.ph3.SeriesSwitch('Fault', dpsimpy.LogLevel.info)\n",
    "switch_closed = 0.1 * (13.8*13.8/100.0)\n",
    "sw.set_parameters(1e18, switch_closed)\n",
    "sw.open()\n",
    "mpc_reader.dpsimpy_comp_dict['Fault'] = [sw]\n",
    "mpc_reader.dpsimpy_comp_dict['Fault'].append([dpsimpy.emt.SimNode.gnd, mpc_reader.dpsimpy_busses_dict[\"N14\"]])\n",
    "\n",
    "# create dpsim topology\n",
    "mpc_reader.create_dpsim_topology()\n",
    "\n",
    "#initialize node voltages using pf results\n",
    "system_dyn = mpc_reader.system\n",
    "system_dyn.init_with_powerflow(system_pf, dpsimpy.Domain.EMT)\n",
    "\n",
    "# log results\n",
    "logger = dpsimpy.Logger(sim_name_dyn_emt)\n",
    "for node in system_dyn.nodes:\n",
    "    logger.log_attribute(node.name()+'.V', 'v', node)\n",
    "     \n",
    "# Parametrize and run simulation\n",
    "sim = dpsimpy.Simulation(sim_name_dyn_emt, dpsimpy.LogLevel.debug)\n",
    "sim.set_system(system_dyn)\n",
    "sim.set_time_step(1e-4)\n",
    "sim.set_final_time(10)\n",
    "sim.set_domain(dpsimpy.Domain.EMT)\n",
    "sim.set_solver(dpsimpy.Solver.MNA)\n",
    "sim.set_direct_solver_implementation(dpsimpy.DirectLinearSolverImpl.KLU)\n",
    "sim.do_init_from_nodes_and_terminals(True)\n",
    "sim.do_system_matrix_recomputation(True)\n",
    "sim.add_logger(logger)\n",
    "\n",
    "# add events\n",
    "sw_event_1 = dpsimpy.event.SwitchEvent(0.2, sw, True)\n",
    "sw_event_2 = dpsimpy.event.SwitchEvent(0.3, sw, False)\n",
    "sim.add_event(sw_event_1)\n",
    "sim.add_event(sw_event_2)\n",
    "\n",
    "sim.set_time_step(1e-4)\n",
    "sim.run()"
   ]
  },
  {
   "attachments": {},
   "cell_type": "markdown",
   "metadata": {},
   "source": [
    "#### Read results"
   ]
  },
  {
   "cell_type": "code",
   "execution_count": null,
   "metadata": {},
   "outputs": [],
   "source": [
    "from villas.dataprocessing.timeseries import TimeSeries as ts\n",
    "import villas.dataprocessing.plottools as pt\n",
    "\n",
    "dpsim_result_file = 'logs/' + sim_name_dyn_sp + '/' + sim_name_dyn_sp + '.csv'\n",
    "ts_dpsim_sp = read_timeseries_csv(dpsim_result_file)\n",
    "phasors = ts.phasors(ts_dpsim_sp)\n",
    "\n",
    "dpsim_result_file = 'logs/' + sim_name_dyn_dp + '/' + sim_name_dyn_dp + '.csv'\n",
    "ts_dpsim_dp = read_timeseries_csv(dpsim_result_file)\n",
    "\n",
    "dpsim_result_file = 'logs/' + sim_name_dyn_emt + '/' + sim_name_dyn_emt + '.csv'\n",
    "ts_dpsim_emt = read_timeseries_csv(dpsim_result_file)"
   ]
  },
  {
   "cell_type": "code",
   "execution_count": null,
   "metadata": {},
   "outputs": [],
   "source": [
    "timestep_common = 1e-4\n",
    "t_begin = 0.0\n",
    "t_end = 3\n",
    "begin_idx = int(t_begin/timestep_common)\n",
    "end_idx= int(t_end/timestep_common)\n",
    "time = np.linspace(t_begin, t_end, num=end_idx-begin_idx)\n",
    "\n",
    "#plot parameters\n",
    "width = 12\n",
    "height = 4\n",
    "\n",
    "varname_dpsim = 'N14.V_0'\n",
    "nominal_voltage = 69000\n",
    "\n",
    "#convert dpsim voltage to magnitude value and per-unit for comparison with psat\n",
    "dpsim_dp_values = (ts_dpsim_emt[varname_dpsim].interpolate(timestep_common).values[begin_idx:end_idx]/nominal_voltage).real\n",
    "    \n",
    "plt.figure(figsize=(width, height))\n",
    "plt.plot(time, dpsim_dp_values, label='EMT - DPsim')\n",
    "\n",
    "plt.legend(loc='lower right')\n",
    "plt.xlabel('time (s)')\n",
    "plt.grid()\n",
    "#plt.ylim([0.99, 1.06])\n",
    "plt.xlim([0.15, 0.35])\n",
    "plt.show()"
   ]
  },
  {
   "attachments": {},
   "cell_type": "markdown",
   "metadata": {},
   "source": [
    "#### Plot results"
   ]
  },
  {
   "attachments": {},
   "cell_type": "markdown",
   "metadata": {},
   "source": [
    "##### HV side"
   ]
  },
  {
   "cell_type": "code",
   "execution_count": null,
   "metadata": {},
   "outputs": [],
   "source": [
    "pt.plot_timeseries(1, phasors['N1.V']['abs'])\n",
    "pt.plot_timeseries(1, phasors['N2.V']['abs'])\n",
    "pt.plot_timeseries(1, phasors['N3.V']['abs'])\n",
    "pt.plot_timeseries(1, phasors['N4.V']['abs'])\n",
    "pt.plot_timeseries(1, phasors['N5.V']['abs'])"
   ]
  },
  {
   "attachments": {},
   "cell_type": "markdown",
   "metadata": {},
   "source": [
    "#### LV side"
   ]
  },
  {
   "cell_type": "code",
   "execution_count": null,
   "metadata": {},
   "outputs": [],
   "source": [
    "pt.plot_timeseries(1, phasors['N6.V']['abs'])\n",
    "pt.plot_timeseries(1, phasors['N7.V']['abs'])\n",
    "pt.plot_timeseries(1, phasors['N8.V']['abs'])\n",
    "pt.plot_timeseries(1, phasors['N9.V']['abs'])\n",
    "pt.plot_timeseries(1, phasors['N10.V']['abs'])\n",
    "pt.plot_timeseries(1, phasors['N11.V']['abs'])\n",
    "pt.plot_timeseries(1, phasors['N12.V']['abs'])\n",
    "pt.plot_timeseries(1, phasors['N13.V']['abs'])\n",
    "pt.plot_timeseries(1, phasors['N14.V']['abs'])"
   ]
  },
  {
   "attachments": {},
   "cell_type": "markdown",
   "metadata": {},
   "source": [
    "#### Validation against PSAT"
   ]
  },
  {
   "attachments": {},
   "cell_type": "markdown",
   "metadata": {},
   "source": [
    "#### Load PSAT results"
   ]
  },
  {
   "cell_type": "code",
   "execution_count": null,
   "metadata": {},
   "outputs": [],
   "source": [
    "if not os.path.exists('ieee14-data'):\n",
    "    os.mkdir('ieee14-data')\n",
    "\n",
    "url = 'https://github.com/martinmoraga/dpsim_data/raw/main/IEEE14/PSAT/PSAT_IEEE14_Fault_N14_100uS_without_Controls_SG_4Order.txt'\n",
    "local_file = './ieee14-data/PSAT_IEEE14_Fault_N14_100uS_without_Controls_SG_4Order.txt'\n",
    "urllib.request.urlretrieve(url, local_file)\n",
    "ts_psat = read_timeseries_dpsim(local_file)\n"
   ]
  },
  {
   "attachments": {},
   "cell_type": "markdown",
   "metadata": {},
   "source": [
    "### Plot results"
   ]
  },
  {
   "cell_type": "code",
   "execution_count": null,
   "metadata": {},
   "outputs": [],
   "source": [
    "timestep_common = 1e-3\n",
    "t_begin = 0.0\n",
    "t_end = 3\n",
    "begin_idx = int(t_begin/timestep_common)\n",
    "end_idx= int(t_end/timestep_common)\n",
    "time = np.linspace(t_begin, t_end, num=end_idx-begin_idx)\n",
    "\n",
    "#plot parameters\n",
    "width = 12\n",
    "height = 4\n",
    "\n",
    "def plot_node_volt_abs(varname_dpsim, varname_psat, ts_dpsim_sp, ts_dpsim_dp, ts_psat, nominal_voltage, ylabels, timestep_common=0.001):\n",
    "   \n",
    "    #convert dpsim voltage to magnitude value and per-unit for comparison with psat\n",
    "    dpsim_dp_values = (ts_dpsim_dp[varname_dpsim].interpolate(timestep_common).values[begin_idx:end_idx]/nominal_voltage).real\n",
    "    dpsim_sp_values_abs_pu = ts_dpsim_sp[varname_dpsim].interpolate(timestep_common).abs().values[begin_idx:end_idx]/nominal_voltage\n",
    "    dpsim_dp_values_abs_pu = ts_dpsim_dp[varname_dpsim].interpolate(timestep_common).abs().values[begin_idx:end_idx]/nominal_voltage\n",
    "    psat_values = ts_psat[varname_psat].interpolate(timestep_common).values[begin_idx:end_idx]\n",
    "    \n",
    "    plt.figure(figsize=(width, height))\n",
    "    plt.plot(time, dpsim_dp_values_abs_pu, label='DP - DPsim')\n",
    "    plt.plot(time, dpsim_sp_values_abs_pu, label='SP - DPsim')\n",
    "    plt.plot(time, psat_values, '--', label='PSAT')\n",
    "\n",
    "    plt.legend(loc='lower right')\n",
    "    plt.xlabel('time (s)')\n",
    "    plt.grid()\n",
    "    #plt.ylim([0.99, 1.06])\n",
    "    #plt.xlim([8, 10])\n",
    "    plt.show()\n",
    "    \n",
    "    plt.figure(figsize=(width, height))\n",
    "    plt.plot(time, dpsim_dp_values_abs_pu, label='DP - DPsim')\n",
    "    plt.plot(time, dpsim_sp_values_abs_pu, label='SP - DPsim')\n",
    "    #plt.plot(time, dpsim_dp_values, '--', label='DP')\n",
    "    plt.legend(loc='lower right')\n",
    "    plt.xlabel('time (s)')\n",
    "    plt.grid()\n",
    "    plt.xlim([0.15, 0.4])\n",
    "    plt.show()\n",
    "      \n",
    "    #calculate RMSE\n",
    "    rmse = np.sqrt(((dpsim_sp_values_abs_pu - psat_values) ** 2).mean())\n",
    "    print('RMSE {:s}  = {:.6f} (pu), which is {:.3f}% of the nominal value = {:.3f} (pu) '.format(varname_dpsim, rmse, rmse/1.0*100, 1.0))"
   ]
  },
  {
   "attachments": {},
   "cell_type": "markdown",
   "metadata": {},
   "source": [
    "#### HV side"
   ]
  },
  {
   "cell_type": "code",
   "execution_count": null,
   "metadata": {},
   "outputs": [],
   "source": [
    "varname_dpsim = 'N1.V'\n",
    "varname_psat = 'V_Bus01'\n",
    "nominal_voltage = 69000\n",
    "plot_node_volt_abs(varname_dpsim, varname_psat, ts_dpsim_sp, ts_dpsim_dp, ts_psat, nominal_voltage, \"Voltage magnitude N1\", timestep_common=0.001)"
   ]
  },
  {
   "cell_type": "code",
   "execution_count": null,
   "metadata": {},
   "outputs": [],
   "source": [
    "varname_dpsim = 'N2.V'\n",
    "varname_psat = 'V_Bus02'\n",
    "nominal_voltage = 69000\n",
    "plot_node_volt_abs(varname_dpsim, varname_psat, ts_dpsim_sp, ts_dpsim_dp, ts_psat, nominal_voltage, \"Voltage magnitude N2\", timestep_common=0.001)"
   ]
  },
  {
   "cell_type": "code",
   "execution_count": null,
   "metadata": {},
   "outputs": [],
   "source": [
    "varname_dpsim = 'N3.V'\n",
    "varname_psat = 'V_Bus03'\n",
    "nominal_voltage = 69000\n",
    "plot_node_volt_abs(varname_dpsim, varname_psat, ts_dpsim_sp, ts_dpsim_dp, ts_psat, nominal_voltage, \"Voltage magnitude N3\", timestep_common=0.001)"
   ]
  },
  {
   "cell_type": "code",
   "execution_count": null,
   "metadata": {},
   "outputs": [],
   "source": [
    "varname_dpsim = 'N4.V'\n",
    "varname_psat = 'V_Bus04'\n",
    "nominal_voltage = 69000\n",
    "plot_node_volt_abs(varname_dpsim, varname_psat, ts_dpsim_sp, ts_dpsim_dp, ts_psat, nominal_voltage, \"Voltage magnitude N4\", timestep_common=0.001)"
   ]
  },
  {
   "cell_type": "code",
   "execution_count": null,
   "metadata": {},
   "outputs": [],
   "source": [
    "varname_dpsim = 'N5.V'\n",
    "varname_psat = 'V_Bus05'\n",
    "nominal_voltage = 69000\n",
    "plot_node_volt_abs(varname_dpsim, varname_psat, ts_dpsim_sp, ts_dpsim_dp, ts_psat, nominal_voltage, \"Voltage magnitude N5\", timestep_common=0.001)"
   ]
  },
  {
   "attachments": {},
   "cell_type": "markdown",
   "metadata": {},
   "source": [
    "#### Low voltage side"
   ]
  },
  {
   "cell_type": "code",
   "execution_count": null,
   "metadata": {},
   "outputs": [],
   "source": [
    "varname_dpsim = 'N6.V'\n",
    "varname_psat = 'V_Bus06'\n",
    "nominal_voltage = 13800\n",
    "plot_node_volt_abs(varname_dpsim, varname_psat, ts_dpsim_sp, ts_dpsim_dp, ts_psat, nominal_voltage, \"Voltage magnitude N6\", timestep_common=0.001)"
   ]
  },
  {
   "cell_type": "code",
   "execution_count": null,
   "metadata": {},
   "outputs": [],
   "source": [
    "varname_dpsim = 'N7.V'\n",
    "varname_psat = 'V_Bus07'\n",
    "nominal_voltage = 13800\n",
    "plot_node_volt_abs(varname_dpsim, varname_psat, ts_dpsim_sp, ts_dpsim_dp, ts_psat, nominal_voltage, \"Voltage magnitude N7\", timestep_common=0.001)"
   ]
  },
  {
   "cell_type": "code",
   "execution_count": null,
   "metadata": {},
   "outputs": [],
   "source": [
    "varname_dpsim = 'N8.V'\n",
    "varname_psat = 'V_Bus08'\n",
    "nominal_voltage = 18000\n",
    "plot_node_volt_abs(varname_dpsim, varname_psat, ts_dpsim_sp, ts_dpsim_dp, ts_psat, nominal_voltage, \"Voltage magnitude N8\", timestep_common=0.001)"
   ]
  },
  {
   "cell_type": "code",
   "execution_count": null,
   "metadata": {},
   "outputs": [],
   "source": [
    "varname_dpsim = 'N9.V'\n",
    "varname_psat = 'V_Bus09'\n",
    "nominal_voltage = 13800\n",
    "plot_node_volt_abs(varname_dpsim, varname_psat, ts_dpsim_sp, ts_dpsim_dp, ts_psat, nominal_voltage, \"Voltage magnitude N9\", timestep_common=0.001)"
   ]
  },
  {
   "cell_type": "code",
   "execution_count": null,
   "metadata": {},
   "outputs": [],
   "source": [
    "varname_dpsim = 'N10.V'\n",
    "varname_psat = 'V_Bus10'\n",
    "nominal_voltage = 13800\n",
    "plot_node_volt_abs(varname_dpsim, varname_psat, ts_dpsim_sp, ts_dpsim_dp, ts_psat, nominal_voltage, \"Voltage magnitude N10\", timestep_common=0.001)"
   ]
  },
  {
   "cell_type": "code",
   "execution_count": null,
   "metadata": {},
   "outputs": [],
   "source": [
    "varname_dpsim = 'N11.V'\n",
    "varname_psat = 'V_Bus11'\n",
    "nominal_voltage = 13800\n",
    "plot_node_volt_abs(varname_dpsim, varname_psat, ts_dpsim_sp, ts_dpsim_dp, ts_psat, nominal_voltage, \"Voltage magnitude N11\", timestep_common=0.001)"
   ]
  },
  {
   "cell_type": "code",
   "execution_count": null,
   "metadata": {},
   "outputs": [],
   "source": [
    "varname_dpsim = 'N12.V'\n",
    "varname_psat = 'V_Bus12'\n",
    "nominal_voltage = 13800\n",
    "plot_node_volt_abs(varname_dpsim, varname_psat, ts_dpsim_sp, ts_dpsim_dp, ts_psat, nominal_voltage, \"Voltage magnitude N12\", timestep_common=0.001)"
   ]
  },
  {
   "cell_type": "code",
   "execution_count": null,
   "metadata": {},
   "outputs": [],
   "source": [
    "varname_dpsim = 'N13.V'\n",
    "varname_psat = 'V_Bus13'\n",
    "nominal_voltage = 13800\n",
    "plot_node_volt_abs(varname_dpsim, varname_psat, ts_dpsim_sp, ts_dpsim_dp, ts_psat, nominal_voltage, \"Voltage magnitude N13\", timestep_common=0.001)"
   ]
  },
  {
   "cell_type": "code",
   "execution_count": null,
   "metadata": {},
   "outputs": [],
   "source": [
    "varname_dpsim = 'N14.V'\n",
    "varname_psat = 'V_Bus14'\n",
    "nominal_voltage = 13800\n",
    "plot_node_volt_abs(varname_dpsim, varname_psat, ts_dpsim_sp, ts_dpsim_dp, ts_psat, nominal_voltage, \"Voltage magnitude N14\", timestep_common=0.001)"
   ]
  }
 ],
 "metadata": {
  "kernelspec": {
   "display_name": "Python 3",
   "language": "python",
   "name": "python3"
  },
  "language_info": {
   "codemirror_mode": {
    "name": "ipython",
    "version": 3
   },
   "file_extension": ".py",
   "mimetype": "text/x-python",
   "name": "python",
   "nbconvert_exporter": "python",
   "pygments_lexer": "ipython3",
   "version": "3.9.13"
  },
  "tests": {
   "skip": true
  },
  "vscode": {
   "interpreter": {
    "hash": "767d51c1340bd893661ea55ea3124f6de3c7a262a8b4abca0554b478b1e2ff90"
   }
  }
 },
 "nbformat": 4,
 "nbformat_minor": 4
}
