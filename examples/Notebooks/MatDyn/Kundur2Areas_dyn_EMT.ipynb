{
 "cells": [
  {
   "attachments": {},
   "cell_type": "markdown",
   "metadata": {},
   "source": [
    "# Kundur Two Areas"
   ]
  },
  {
   "attachments": {},
   "cell_type": "markdown",
   "metadata": {},
   "source": [
    "### Import Libraries"
   ]
  },
  {
   "cell_type": "code",
   "execution_count": null,
   "metadata": {},
   "outputs": [],
   "source": [
    "import sys, os\n",
    "\n",
    "notebook_dir = os.path.abspath('')\n",
    "dpsim_root_dir = os.path.join(notebook_dir, \"../../..\")\n",
    "\n",
    "sys.path.insert(0, os.path.join(dpsim_root_dir, 'python/src/dpsim'))\n",
    "sys.path.insert(0, os.path.join(dpsim_root_dir, 'build'))\n",
    "\n",
    "import matpower\n",
    "import dpsimpy\n",
    "\n",
    "from villas.dataprocessing.readtools import *\n",
    "from villas.dataprocessing.timeseries import *\n",
    "import urllib.request\n",
    "import matplotlib.pyplot as plt\n",
    "\n",
    "#%matplotlib widget"
   ]
  },
  {
   "attachments": {},
   "cell_type": "markdown",
   "metadata": {},
   "source": [
    "### Simulation parameters"
   ]
  },
  {
   "cell_type": "code",
   "execution_count": null,
   "metadata": {},
   "outputs": [],
   "source": [
    "# simulation files\n",
    "path_static_file = os.path.join(notebook_dir, 'Kundur2Areas/Kundur2Areas.mat')\n",
    "path_dynamic_file = os.path.join(notebook_dir, 'Kundur2Areas/Kundur2Areas_dyn.mat')"
   ]
  },
  {
   "attachments": {},
   "cell_type": "markdown",
   "metadata": {},
   "source": [
    "### 1. Powerflow for initialization"
   ]
  },
  {
   "cell_type": "code",
   "execution_count": null,
   "metadata": {},
   "outputs": [],
   "source": [
    "sim_name_pf = 'Kundur2Areas_PF'\n",
    "dpsimpy.Logger.set_log_dir('logs/' + sim_name_pf)\n",
    "\n",
    "# read and create dpsim topology\n",
    "mpc_reader_pf = matpower.Reader(mpc_file_path=path_static_file, mpc_name='Kundur2Areas',\n",
    "                             mpc_dyn_file_path=path_dynamic_file, mpc_dyn_name='Kundur2Areas_dyn')\n",
    "mpc_reader_pf.load_mpc(domain=matpower.Domain.PF)\n",
    "system_pf = mpc_reader_pf.system\n",
    "\n",
    "# log results\n",
    "logger = dpsimpy.Logger(sim_name_pf)\n",
    "for node in system_pf.nodes:\n",
    "    logger.log_attribute(node.name()+'.V', 'v', node)\n",
    "    logger.log_attribute(node.name()+'.S', 's', node)\n",
    "\n",
    "# Parametrize and run simulation\n",
    "sim_pf = dpsimpy.Simulation(sim_name_pf, dpsimpy.LogLevel.info)\n",
    "sim_pf.set_system(system_pf)\n",
    "sim_pf.set_time_step(1)\n",
    "sim_pf.set_final_time(0.1)\n",
    "sim_pf.set_domain(dpsimpy.Domain.SP)\n",
    "sim_pf.set_solver(dpsimpy.Solver.NRP)\n",
    "sim_pf.do_init_from_nodes_and_terminals(False)\n",
    "sim_pf.set_solver_component_behaviour(dpsimpy.SolverBehaviour.Initialization)\n",
    "sim_pf.add_logger(logger)\n",
    "sim_pf.run()"
   ]
  },
  {
   "cell_type": "markdown",
   "metadata": {},
   "source": [
    "### 2. Dynamic Simulation with fault at node 7"
   ]
  },
  {
   "attachments": {},
   "cell_type": "markdown",
   "metadata": {},
   "source": [
    "#### Declare some functions"
   ]
  },
  {
   "cell_type": "code",
   "execution_count": null,
   "metadata": {},
   "outputs": [],
   "source": [
    "def Kundur2Areas_Fault(domain=\"SP\"):\n",
    "    if domain==\"SP\":\n",
    "        matpower_domain = matpower.Domain.SP\n",
    "        dpsim_domain = dpsimpy.Domain.SP\n",
    "    elif domain==\"DP\":\n",
    "        matpower_domain = matpower.Domain.DP\n",
    "        dpsim_domain = dpsimpy.Domain.DP\n",
    "    else:\n",
    "        domain=\"EMT\"\n",
    "        matpower_domain = matpower.Domain.EMT\n",
    "        dpsim_domain = dpsimpy.Domain.EMT\n",
    "\n",
    "    sim_name_fault = domain + \"_Kundur2Areas_Fault\"        \n",
    "    dpsimpy.Logger.set_log_dir('logs/' + sim_name_fault)\n",
    "\n",
    "    mpc_reader_dyn = matpower.Reader(mpc_file_path=path_static_file, mpc_name='Kundur2Areas',\n",
    "                                     mpc_dyn_file_path=path_dynamic_file, mpc_dyn_name='Kundur2Areas_dyn')\n",
    "    mpc_reader_dyn.create_dpsim_objects(domain=matpower_domain, frequency=60, \n",
    "                                     with_avr=False, with_tg=False, with_pss=False)\n",
    "\n",
    "    ### Extend topology with 3ps fault\n",
    "    sw = mpc_reader_dyn.add_3ph_faut(\"N7\", switch_closed=1e-3, switch_open=1e18)\n",
    "    \n",
    "    # create dpsim topology\n",
    "    mpc_reader_dyn.create_dpsim_topology()\n",
    "\n",
    "    #initialize node voltages using pf results\n",
    "    system_dyn = mpc_reader_dyn.system\n",
    "    system_dyn.init_with_powerflow(system_pf, dpsim_domain)\n",
    "\n",
    "    # log results\n",
    "    logger = dpsimpy.Logger(sim_name_fault)\n",
    "    for node in system_dyn.nodes:\n",
    "        logger.log_attribute(node.name()+'.V', 'v', node)\n",
    "    for gen_name in [\"Gen_N1\", \"Gen_N2\", \"Gen_N3\", \"Gen_N3\", \"Gen_N4\"]:\n",
    "        logger.log_attribute(gen_name+\".Pe\", 'Te', mpc_reader_dyn.dpsimpy_comp_dict[gen_name][0])\n",
    "\n",
    "    # Parametrize and run simulation\n",
    "    sim = dpsimpy.Simulation(sim_name_fault, dpsimpy.LogLevel.info)\n",
    "    sim.set_system(system_dyn)\n",
    "    if domain==\"SP\":\n",
    "        sim.set_time_step(1e-3)\n",
    "    else:\n",
    "        sim.set_time_step(1e-4)\n",
    "    sim.set_final_time(10)\n",
    "    sim.set_domain(dpsim_domain)\n",
    "    sim.set_solver(dpsimpy.Solver.MNA)\n",
    "    sim.set_direct_solver_implementation(dpsimpy.DirectLinearSolverImpl.KLU)\n",
    "    sim.do_init_from_nodes_and_terminals(True)\n",
    "    sim.add_logger(logger)\n",
    "    sim.do_system_matrix_recomputation(True)\n",
    "\n",
    "    # add events\n",
    "    sw_event_1 = dpsimpy.event.SwitchEvent(1, sw, True)\n",
    "    sw_event_2 = dpsimpy.event.SwitchEvent(1.1, sw, False)\n",
    "    sim.add_event(sw_event_1)\n",
    "    sim.add_event(sw_event_2)\n",
    "    sim.run()\n",
    "    \n",
    "    return sim_name_fault"
   ]
  },
  {
   "cell_type": "markdown",
   "metadata": {},
   "source": [
    "#### Dpsim Simulations"
   ]
  },
  {
   "cell_type": "code",
   "execution_count": null,
   "metadata": {},
   "outputs": [],
   "source": [
    "sim_name_fault_dp = Kundur2Areas_Fault(domain=\"DP\")"
   ]
  },
  {
   "cell_type": "code",
   "execution_count": null,
   "metadata": {},
   "outputs": [],
   "source": [
    "sim_name_fault_emt = Kundur2Areas_Fault(domain=\"EMT\")"
   ]
  },
  {
   "attachments": {},
   "cell_type": "markdown",
   "metadata": {},
   "source": [
    "### Read dynamic results"
   ]
  },
  {
   "cell_type": "code",
   "execution_count": null,
   "metadata": {},
   "outputs": [],
   "source": [
    "from villas.dataprocessing.timeseries import TimeSeries as ts\n",
    "import villas.dataprocessing.plottools as pt\n",
    "\n",
    "dpsim_result_file = 'logs/' + sim_name_fault_dp + '/' + sim_name_fault_dp + '.csv'\n",
    "ts_dpsim_dp = read_timeseries_csv(dpsim_result_file)\n",
    "\n",
    "dpsim_result_file = 'logs/' + sim_name_fault_emt + '/' + sim_name_fault_emt + '.csv'\n",
    "ts_dpsim_emt = read_timeseries_csv(dpsim_result_file)"
   ]
  },
  {
   "cell_type": "markdown",
   "metadata": {},
   "source": [
    "### Load DigSilent Results"
   ]
  },
  {
   "cell_type": "code",
   "execution_count": null,
   "metadata": {},
   "outputs": [],
   "source": [
    "#if not os.path.exists('reference-results'):\n",
    "#    os.mkdir('reference-results')\n",
    "\n",
    "#url = 'https://raw.githubusercontent.com/dpsim-simulator/reference-results/master/PSAT/SMIB-Fault/#PSAT_3OrderSyGen_SMIB_Fault_100mS_TS_1mS.out.txt'\n",
    "#local_file_3Order = 'reference-results/PSAT_3OrderSyGen_SMIB_Fault_100mS_TS_1mS.out'\n",
    "local_file = os.path.join(notebook_dir, 'Kundur2Areas/DigSilent_Kundur2Areas_Fault_N7_TimeStep_100uS_EMT.csv')\n",
    "\n",
    "#urllib.request.urlretrieve(url, local_file_3Order) \n",
    "ts_digSilent = read_timeseries_dpsim(local_file)"
   ]
  },
  {
   "attachments": {},
   "cell_type": "markdown",
   "metadata": {},
   "source": [
    "### Define plot functions"
   ]
  },
  {
   "cell_type": "code",
   "execution_count": null,
   "metadata": {},
   "outputs": [],
   "source": [
    "timestep_common = 1e-3\n",
    "t_begin = 0.0\n",
    "t_end = 10\n",
    "begin_idx = int(t_begin/timestep_common)\n",
    "end_idx= int(t_end/timestep_common)\n",
    "time = np.linspace(t_begin, t_end, num=end_idx-begin_idx)\n",
    "\n",
    "#plot parameters\n",
    "width = 12\n",
    "height = 4\n",
    "\n",
    "def plot_node_volt_abs(varname_dpsim, varname_digSilent, \n",
    "                       ts_dpsim_emt, ts_dpsim_dp, ts_digSilent, nominal_voltage, timestep_common=1e-3, y_lim=False):\n",
    "    \n",
    "    #convert dpsim voltage to magnitude value and per-unit for comparison with psat\n",
    "    dpsim_dp_values_shifted = np.real(ts_dpsim_dp[varname_dpsim].interpolate(timestep_common).frequency_shift(60).values[begin_idx:end_idx] / nominal_voltage)\n",
    "    dpsim_emt_values = ts_dpsim_emt[varname_dpsim+\"_0\"].interpolate(timestep_common).values[begin_idx:end_idx] / nominal_voltage * np.sqrt(3/2)\n",
    "    digSilent_values = ts_digSilent[varname_digSilent].interpolate(timestep_common).values[begin_idx:end_idx]\n",
    "    \n",
    "    plt.figure(figsize=(width, height))\n",
    "    plt.subplot(1, 2, 1)\n",
    "    plt.plot(time, dpsim_dp_values_shifted, label='DP - DPsim')\n",
    "    plt.plot(time, dpsim_emt_values, ':', label='EMT - DPsim')\n",
    "    plt.plot(time, digSilent_values, '--', label='EMT - DigSilent')\n",
    "    plt.legend(loc='lower right')\n",
    "    plt.xlabel('time (s)')\n",
    "    plt.grid()\n",
    "    #plt.ylim([1.058, 1.062])\n",
    "    plt.xlim([0.95, 1.2])\n",
    "    plt.xlabel(\"time (s)\")\n",
    "    plt.ylabel(varname_digSilent + \" (pu)\")\n",
    "    if (y_lim):\n",
    "        plt.set_ylim(y_lim)\n",
    "    \n",
    "    plt.subplot(1, 2, 2)\n",
    "    plt.plot(time, dpsim_dp_values_shifted, label='DP - DPsim')\n",
    "    plt.plot(time, dpsim_emt_values, ':', label='EMT - DPsim')\n",
    "    plt.plot(time, digSilent_values, '--', label='EMT - DigSilent')\n",
    "    plt.legend(loc='lower right')\n",
    "    plt.xlabel('time (s)')\n",
    "    plt.grid()\n",
    "    #plt.ylim([1.058, 1.062])\n",
    "    plt.xlim([2.9, 3.1])\n",
    "    plt.xlabel(\"time (s)\")\n",
    "    plt.ylabel(varname_digSilent + \" (pu)\")\n",
    "    if (y_lim):\n",
    "        plt.ylim(y_lim)\n",
    "        \n",
    "    plt.show()\n",
    "    \n",
    "    #calculate RMSE\n",
    "    #rmse = np.sqrt(((dpsim_sp_values_abs_pu - psat_values) ** 2).mean())\n",
    "    #print('RMSE {:s}  = {:.6f} (pu), which is {:.3f}% of the nominal value = {:.3f} (pu) '.format(varname_dpsim, rmse, rmse/1.0*100, 1.0))\n",
    "    \n",
    "def plot_elec_power(varname_dpsim, varname_digSilent, \n",
    "                    ts_dpsim_emt, ts_dpsim_dp, ts_digSilent, timestep_common=1e-3, y_lim=False):\n",
    "    \n",
    "    #convert dpsim voltage to magnitude value and per-unit for comparison with psat\n",
    "    dpsim_dp_values = ts_dpsim_dp[varname_dpsim].interpolate(timestep_common).values[begin_idx:end_idx] * 9\n",
    "    dpsim_emt_values = ts_dpsim_emt[varname_dpsim].interpolate(timestep_common).values[begin_idx:end_idx] * 9\n",
    "    digSilent_values = ts_digSilent[varname_digSilent].interpolate(timestep_common).values[begin_idx:end_idx] / 100\n",
    "    \n",
    "    plt.figure(figsize=(width, height))\n",
    "    plt.plot(time, dpsim_dp_values, label='DP - DPsim')\n",
    "    plt.plot(time, dpsim_emt_values, '--', label='EMT - DPsim')\n",
    "    plt.plot(time, digSilent_values, '--', label='EMT - DigSilent')\n",
    "    plt.legend(loc='lower right')\n",
    "    plt.xlabel('time (s)')\n",
    "    plt.grid()\n",
    "    #plt.ylim([6.7, 7.1])\n",
    "    plt.xlim([t_begin, t_end])\n",
    "    plt.xlabel(\"time (s)\")\n",
    "    plt.ylabel(varname_dpsim + \" (pu)\")\n",
    "    if (y_lim):\n",
    "        plt.ylim(y_lim)\n",
    "    plt.show()\n",
    "    \n",
    "    #calculate RMSE\n",
    "    #rmse = np.linalg.norm(dpsim_sp_values - psat_values) / np.sqrt(len(psat_values))\n",
    "    #print('RMSE {:s}  = {:.6f} (pu), which is {:.3f}% of the nominal value = ~{:.3f} (pu) '.format(varname_dpsim, rmse, rmse/7.0*100, 7.0))\n",
    "\n",
    "    #return rmse"
   ]
  },
  {
   "cell_type": "markdown",
   "metadata": {},
   "source": [
    "### Plot SG's electrical power"
   ]
  },
  {
   "cell_type": "markdown",
   "metadata": {},
   "source": [
    "##### Gen1"
   ]
  },
  {
   "cell_type": "code",
   "execution_count": null,
   "metadata": {},
   "outputs": [],
   "source": [
    "varname_dpsim = 'Gen_N1.Pe'\n",
    "varname_psat = 'p_g3'\n",
    "varname_digSilent = 'G1_p'\n",
    "rmse_g1 = plot_elec_power(varname_dpsim, varname_digSilent, ts_dpsim_emt, ts_dpsim_dp, ts_digSilent, timestep_common=1e-3, y_lim=[6.25,7.25])"
   ]
  },
  {
   "cell_type": "markdown",
   "metadata": {},
   "source": [
    "##### Gen2"
   ]
  },
  {
   "cell_type": "code",
   "execution_count": null,
   "metadata": {},
   "outputs": [],
   "source": [
    "varname_dpsim = 'Gen_N2.Pe'\n",
    "varname_digSilent = 'G2_p'\n",
    "rmse_g2 = plot_elec_power(varname_dpsim, varname_digSilent, ts_dpsim_emt, ts_dpsim_dp, ts_digSilent, timestep_common=1e-3, y_lim=[6.4,7.2])"
   ]
  },
  {
   "cell_type": "markdown",
   "metadata": {},
   "source": [
    "##### Gen3"
   ]
  },
  {
   "cell_type": "code",
   "execution_count": null,
   "metadata": {},
   "outputs": [],
   "source": [
    "varname_dpsim = 'Gen_N3.Pe'\n",
    "varname_digSilent = 'G4_p'\n",
    "rmse_g3 = plot_elec_power(varname_dpsim, varname_digSilent, ts_dpsim_emt, ts_dpsim_dp, ts_digSilent, timestep_common=1e-3, y_lim=[5,9])"
   ]
  },
  {
   "cell_type": "markdown",
   "metadata": {},
   "source": [
    "##### Gen4"
   ]
  },
  {
   "cell_type": "code",
   "execution_count": null,
   "metadata": {},
   "outputs": [],
   "source": [
    "varname_dpsim = 'Gen_N4.Pe'\n",
    "varname_digSilent = 'G3_p'\n",
    "rmse_g4 = plot_elec_power(varname_dpsim, varname_digSilent, ts_dpsim_emt, ts_dpsim_dp, ts_digSilent, timestep_common=1e-3, y_lim=[5.5,8.5])"
   ]
  },
  {
   "cell_type": "markdown",
   "metadata": {},
   "source": [
    "### Assertion"
   ]
  },
  {
   "cell_type": "code",
   "execution_count": null,
   "metadata": {},
   "outputs": [],
   "source": [
    "#assert(np.absolute(rmse_g1)<0.081)\n",
    "#assert(np.absolute(rmse_g2)<0.094)\n",
    "#assert(np.absolute(rmse_g3)<0.023)\n",
    "#assert(np.absolute(rmse_g4)<0.024)"
   ]
  },
  {
   "cell_type": "markdown",
   "metadata": {},
   "source": [
    "### Plot Voltages"
   ]
  },
  {
   "attachments": {},
   "cell_type": "markdown",
   "metadata": {},
   "source": [
    "#### LV side"
   ]
  },
  {
   "cell_type": "code",
   "execution_count": null,
   "metadata": {},
   "outputs": [],
   "source": [
    "#\"\"\"\n",
    "varname_dpsim = 'N1.V'\n",
    "varname_digSilent = 'v1'\n",
    "nominal_voltage = 20000\n",
    "plot_node_volt_abs(varname_dpsim, varname_digSilent, ts_dpsim_emt, ts_dpsim_dp, ts_digSilent, nominal_voltage, timestep_common=1e-3)\n",
    "#\"\"\""
   ]
  },
  {
   "cell_type": "code",
   "execution_count": null,
   "metadata": {},
   "outputs": [],
   "source": [
    "#\"\"\"\n",
    "varname_dpsim = 'N2.V'\n",
    "varname_digSilent = 'v2'\n",
    "nominal_voltage = 20000\n",
    "plot_node_volt_abs(varname_dpsim, varname_digSilent, ts_dpsim_emt, ts_dpsim_dp, ts_digSilent, nominal_voltage, timestep_common=1e-3)\n",
    "#\"\"\""
   ]
  },
  {
   "cell_type": "code",
   "execution_count": null,
   "metadata": {},
   "outputs": [],
   "source": [
    "#\"\"\"\n",
    "varname_dpsim = 'N3.V'\n",
    "varname_digSilent = 'v3'\n",
    "nominal_voltage = 20000\n",
    "plot_node_volt_abs(varname_dpsim, varname_digSilent, ts_dpsim_emt, ts_dpsim_dp, ts_digSilent, nominal_voltage, timestep_common=1e-3)\n",
    "#\"\"\""
   ]
  },
  {
   "cell_type": "code",
   "execution_count": null,
   "metadata": {},
   "outputs": [],
   "source": [
    "#\"\"\"\n",
    "varname_dpsim = 'N4.V'\n",
    "varname_digSilent = 'v4'\n",
    "nominal_voltage = 20000\n",
    "plot_node_volt_abs(varname_dpsim, varname_digSilent, ts_dpsim_emt, ts_dpsim_dp, ts_digSilent, nominal_voltage, timestep_common=1e-3)\n",
    "#\"\"\""
   ]
  },
  {
   "attachments": {},
   "cell_type": "markdown",
   "metadata": {},
   "source": [
    "#### Low voltage side"
   ]
  },
  {
   "cell_type": "code",
   "execution_count": null,
   "metadata": {},
   "outputs": [],
   "source": [
    "#\"\"\"\n",
    "varname_dpsim = 'N5.V'\n",
    "varname_digSilent = 'v5'\n",
    "nominal_voltage = 230000\n",
    "plot_node_volt_abs(varname_dpsim, varname_digSilent, ts_dpsim_emt, ts_dpsim_dp, ts_digSilent, nominal_voltage, timestep_common=1e-3)\n",
    "#\"\"\"\n"
   ]
  },
  {
   "cell_type": "code",
   "execution_count": null,
   "metadata": {},
   "outputs": [],
   "source": [
    "#\"\"\"\n",
    "varname_dpsim = 'N6.V'\n",
    "varname_digSilent = 'v6'\n",
    "nominal_voltage = 230000\n",
    "plot_node_volt_abs(varname_dpsim, varname_digSilent, ts_dpsim_emt, ts_dpsim_dp, ts_digSilent, nominal_voltage, timestep_common=1e-3)\n",
    "#\"\"\""
   ]
  },
  {
   "cell_type": "code",
   "execution_count": null,
   "metadata": {},
   "outputs": [],
   "source": [
    "#\"\"\"\n",
    "varname_dpsim = 'N7.V'\n",
    "varname_digSilent = 'v7'\n",
    "nominal_voltage = 230000\n",
    "plot_node_volt_abs(varname_dpsim, varname_digSilent, ts_dpsim_emt, ts_dpsim_dp, ts_digSilent, nominal_voltage, timestep_common=1e-3)\n",
    "#\"\"\""
   ]
  },
  {
   "cell_type": "code",
   "execution_count": null,
   "metadata": {},
   "outputs": [],
   "source": [
    "#\"\"\"\n",
    "varname_dpsim = 'N8.V'\n",
    "varname_digSilent = 'v8'\n",
    "nominal_voltage = 230000\n",
    "plot_node_volt_abs(varname_dpsim, varname_digSilent, ts_dpsim_emt, ts_dpsim_dp, ts_digSilent, nominal_voltage, timestep_common=1e-3)\n",
    "#\"\"\""
   ]
  },
  {
   "cell_type": "code",
   "execution_count": null,
   "metadata": {},
   "outputs": [],
   "source": [
    "#\"\"\"\n",
    "varname_dpsim = 'N9.V'\n",
    "varname_digSilent = 'v9'\n",
    "nominal_voltage = 230000\n",
    "plot_node_volt_abs(varname_dpsim, varname_digSilent, ts_dpsim_emt, ts_dpsim_dp, ts_digSilent, nominal_voltage, timestep_common=1e-3)\n",
    "#\"\"\""
   ]
  },
  {
   "cell_type": "code",
   "execution_count": null,
   "metadata": {},
   "outputs": [],
   "source": [
    "#\"\"\"\n",
    "varname_dpsim = 'N10.V'\n",
    "varname_digSilent = 'v10'\n",
    "nominal_voltage = 230000\n",
    "plot_node_volt_abs(varname_dpsim, varname_digSilent, ts_dpsim_emt, ts_dpsim_dp, ts_digSilent, nominal_voltage, timestep_common=1e-3)\n",
    "#\"\"\""
   ]
  },
  {
   "cell_type": "code",
   "execution_count": null,
   "metadata": {},
   "outputs": [],
   "source": [
    "#\"\"\"\n",
    "varname_dpsim = 'N11.V'\n",
    "varname_digSilent = 'v11'\n",
    "nominal_voltage = 230000\n",
    "plot_node_volt_abs(varname_dpsim, varname_digSilent, ts_dpsim_emt, ts_dpsim_dp, ts_digSilent, nominal_voltage, timestep_common=1e-3)\n",
    "#\"\"\""
   ]
  }
 ],
 "metadata": {
  "kernelspec": {
   "display_name": "Python 3",
   "language": "python",
   "name": "python3"
  },
  "language_info": {
   "codemirror_mode": {
    "name": "ipython",
    "version": 3
   },
   "file_extension": ".py",
   "mimetype": "text/x-python",
   "name": "python",
   "nbconvert_exporter": "python",
   "pygments_lexer": "ipython3",
   "version": "3.9.13"
  },
  "tests": {
   "skip": true
  },
  "vscode": {
   "interpreter": {
    "hash": "767d51c1340bd893661ea55ea3124f6de3c7a262a8b4abca0554b478b1e2ff90"
   }
  }
 },
 "nbformat": 4,
 "nbformat_minor": 4
}
