{
 "cells": [
  {
   "attachments": {},
   "cell_type": "markdown",
   "metadata": {},
   "source": [
    "# Kundur Two Areas"
   ]
  },
  {
   "attachments": {},
   "cell_type": "markdown",
   "metadata": {},
   "source": [
    "## Run simulation"
   ]
  },
  {
   "attachments": {},
   "cell_type": "markdown",
   "metadata": {},
   "source": [
    "### Import Libraries"
   ]
  },
  {
   "cell_type": "code",
   "execution_count": null,
   "metadata": {},
   "outputs": [],
   "source": [
    "import sys, os\n",
    "\n",
    "notebook_dir = os.path.abspath('')\n",
    "dpsim_root_dir = os.path.join(notebook_dir, \"../../..\")\n",
    "\n",
    "sys.path.insert(0, os.path.join(dpsim_root_dir, 'python/src/dpsim'))\n",
    "sys.path.insert(0, os.path.join(dpsim_root_dir, 'build'))\n",
    "\n",
    "import matpower\n",
    "import dpsimpy\n",
    "\n",
    "from villas.dataprocessing.readtools import *\n",
    "from villas.dataprocessing.timeseries import *\n",
    "import urllib.request\n",
    "import matplotlib.pyplot as plt"
   ]
  },
  {
   "attachments": {},
   "cell_type": "markdown",
   "metadata": {},
   "source": [
    "### Simulation parameters"
   ]
  },
  {
   "cell_type": "code",
   "execution_count": null,
   "metadata": {},
   "outputs": [],
   "source": [
    "# simulation files\n",
    "path_static_file = os.path.join(notebook_dir, 'Kundur2Areas/Kundur2Areas.mat')\n",
    "path_dynamic_file = os.path.join(notebook_dir, 'Kundur2Areas/Kundur2Areas_dyn.mat')\n"
   ]
  },
  {
   "attachments": {},
   "cell_type": "markdown",
   "metadata": {},
   "source": [
    "### 1. Powerflow for initialization"
   ]
  },
  {
   "cell_type": "code",
   "execution_count": null,
   "metadata": {},
   "outputs": [],
   "source": [
    "sim_name_pf = 'Kundur2Areas_PF'\n",
    "dpsimpy.Logger.set_log_dir('logs/' + sim_name_pf)\n",
    "\n",
    "# read and create dpsim topology\n",
    "mpc_reader = matpower.Reader(mpc_file_path=path_static_file, mpc_name='Kundur2Areas',\n",
    "                             mpc_dyn_file_path=path_dynamic_file, mpc_dyn_name='Kundur2Areas_dyn')\n",
    "mpc_reader.load_mpc(domain=matpower.Domain.PF)\n",
    "system_pf = mpc_reader.system\n",
    "\n",
    "# log results\n",
    "logger = dpsimpy.Logger(sim_name_pf)\n",
    "for node in system_pf.nodes:\n",
    "    logger.log_attribute(node.name()+'.V', 'v', node)\n",
    "    logger.log_attribute(node.name()+'.S', 's', node)\n",
    "\n",
    "# Parametrize and run simulation\n",
    "sim_pf = dpsimpy.Simulation(sim_name_pf, dpsimpy.LogLevel.info)\n",
    "sim_pf.set_system(system_pf)\n",
    "sim_pf.set_time_step(1)\n",
    "sim_pf.set_final_time(0.1)\n",
    "sim_pf.set_domain(dpsimpy.Domain.SP)\n",
    "sim_pf.set_solver(dpsimpy.Solver.NRP)\n",
    "sim_pf.do_init_from_nodes_and_terminals(False)\n",
    "sim_pf.set_solver_component_behaviour(dpsimpy.SolverBehaviour.Initialization)\n",
    "sim_pf.add_logger(logger)\n",
    "sim_pf.run()"
   ]
  },
  {
   "attachments": {},
   "cell_type": "markdown",
   "metadata": {},
   "source": [
    "### Read pf results"
   ]
  },
  {
   "cell_type": "code",
   "execution_count": null,
   "metadata": {},
   "outputs": [],
   "source": [
    "dpsim_result_file = 'logs/' + sim_name_pf + '/' + sim_name_pf + '.csv'\n",
    "ts_dpsim_pf = read_timeseries_csv(dpsim_result_file)"
   ]
  },
  {
   "attachments": {},
   "cell_type": "markdown",
   "metadata": {},
   "source": [
    "#### DPsim results"
   ]
  },
  {
   "cell_type": "code",
   "execution_count": null,
   "metadata": {},
   "outputs": [],
   "source": [
    "dpsim_results = pd.DataFrame(columns=['Bus', 'V_mag(pu)', 'V_angle(rad)', 'P(pu)', 'Q(pu)'])\n",
    "base_power = 100 #mw\n",
    "for i in range(len(system_pf.nodes)):\n",
    "    node_name = system_pf.nodes[i].name() #ex. N5\n",
    "    node_number = node_name.replace('N', '')\n",
    "    node_baseV = mpc_reader.mpc_bus_data.loc[mpc_reader.mpc_bus_data['bus_i'] == int(node_number), 'baseKV'].iloc[0] * 1e3\n",
    "    w_mw = 1e-6\n",
    "    dpsim_results.loc[i] = ([node_name] + [round(np.absolute(ts_dpsim_pf[node_name + '.V'].values[-1]) / node_baseV, 5)]\n",
    "        + [round(np.angle(ts_dpsim_pf[node_name + '.V'].values[-1]), 5)] \n",
    "        + [round(w_mw * np.real(ts_dpsim_pf[node_name + '.S'].values[-1]) / base_power, 4)] \n",
    "        + [round(w_mw * np.imag(ts_dpsim_pf[node_name + '.S'].values[-1]) / base_power, 5)])\n",
    "\n",
    "dpsim_results"
   ]
  },
  {
   "attachments": {},
   "cell_type": "markdown",
   "metadata": {},
   "source": [
    "### Validate Results against PSAT"
   ]
  },
  {
   "cell_type": "code",
   "execution_count": null,
   "metadata": {},
   "outputs": [],
   "source": [
    "### PSAT Results\n",
    "voltage_mag = np.array([1.03, 1.01, 1.03, 1.01, 1.0074, 0.98052, 0.9653, 0.95369, 0.97637, 0.98626, 1.0094])\n",
    "voltage_angle = np.array([0.46853, 0.29839, 0, -0.17728, 0.35586, 0.18031, 0.03435, -0.20555, -0.44054, -0.29467, -0.11543])\n",
    "p_loads = np.array([0, 0, 0, 0, 0, 0, 9.67, 0, 17.67, 0, 0])\n",
    "q_loads = np.array([0, 0, 0, 0, 0, 0, -1, 0, -2.5, 0, 0])\n",
    "p_gen = np.array([7, 7, 7.1849, 7, 0, 0, 0, 0, 0, 0, 0])\n",
    "q_gen = np.array([1.7897, 2.2005, 1.6875, 1.8498, 0, 0, 0, 0, 0, 0, 0])\n",
    "busses = [\"N1\", \"N2\", \"N3\", \"N4\", \"N5\", \"N6\", \"N7\", \"N8\", \"N9\", \"N10\", \"N11\"]\n",
    "d = {\"Bus\": busses, \"V_mag(pu)\": voltage_mag, \"V_angle(rad)\": voltage_angle, \"P(pu)\": -p_loads+p_gen, \"Q(pu)\": -q_loads+q_gen}\n",
    "psat_results = pd.DataFrame(d)\n",
    "\n",
    "psat_results"
   ]
  },
  {
   "attachments": {},
   "cell_type": "markdown",
   "metadata": {},
   "source": [
    "### Difference"
   ]
  },
  {
   "cell_type": "code",
   "execution_count": null,
   "metadata": {},
   "outputs": [],
   "source": [
    "difference_vmag = psat_results['V_mag(pu)'] - dpsim_results['V_mag(pu)']\n",
    "difference_vmag[0:3] = difference_vmag[0:3] * 20000\n",
    "difference_vmag[4:-1] = difference_vmag[4:-1] * 230000\n",
    "difference_vangle = psat_results['V_angle(rad)'] - dpsim_results['V_angle(rad)']\n",
    "\n",
    "#base power = 100MW\n",
    "difference_p = (psat_results['P(pu)'] - dpsim_results['P(pu)'])*100*1e6\n",
    "difference_q = (psat_results['Q(pu)'] - dpsim_results['Q(pu)'])*100*1e6\n",
    "difference = {\"Bus\": busses, \"V_mag[V]\": difference_vmag, \"V_angle [rad]\": difference_vangle, \"P[W]\": difference_p, \"Q[VAr]\": difference_q}\n",
    "difference = pd.DataFrame(difference)\n",
    "\n",
    "difference"
   ]
  },
  {
   "attachments": {},
   "cell_type": "markdown",
   "metadata": {},
   "source": [
    "### Assertion"
   ]
  },
  {
   "cell_type": "code",
   "execution_count": null,
   "metadata": {},
   "outputs": [],
   "source": [
    "print(np.max(np.absolute(difference_p)))\n",
    "assert(np.all(np.absolute(difference_p)<1e-12))    #Watt\n",
    "print(np.max(np.absolute(difference_q)))\n",
    "assert(np.all(np.absolute(difference_q)<5000.1))    #Watt\n",
    "\n",
    "print(np.max(difference_vmag))\n",
    "assert(np.all(difference_vmag)<7)\n",
    "\n",
    "print(np.max(difference_vangle))\n",
    "assert(np.all(difference_vangle)<1e-12)"
   ]
  },
  {
   "cell_type": "markdown",
   "metadata": {},
   "source": [
    "### 2. Dynamic Simulation at node 8"
   ]
  },
  {
   "attachments": {},
   "cell_type": "markdown",
   "metadata": {},
   "source": [
    "#### Declare some functions"
   ]
  },
  {
   "cell_type": "code",
   "execution_count": null,
   "metadata": {},
   "outputs": [],
   "source": [
    "def Kundur2Areas_Fault(domain=\"EMT\", reduce_inertia=False):\n",
    "\n",
    "    if domain==\"SP\":\n",
    "        matpower_domain = matpower.Domain.SP\n",
    "        dpsim_domain = dpsimpy.Domain.SP\n",
    "    elif domain==\"DP\":\n",
    "        matpower_domain = matpower.Domain.DP\n",
    "        dpsim_domain = dpsimpy.Domain.DP\n",
    "    else:\n",
    "        domain==\"EMT\"\n",
    "        matpower_domain = matpower.Domain.EMT\n",
    "        dpsim_domain = dpsimpy.Domain.EMT\n",
    "        \n",
    "    sim_name_fault = domain + \"_Kundur2Areas_Fault\"\n",
    "    dpsimpy.Logger.set_log_dir('logs/' + sim_name_fault)\n",
    "\n",
    "    mpc_reader2 = matpower.Reader(mpc_file_path=path_static_file, mpc_name='Kundur2Areas',\n",
    "                                  mpc_dyn_file_path=path_dynamic_file, mpc_dyn_name='Kundur2Areas_dyn')\n",
    "    mpc_reader2.create_dpsim_objects(domain=matpower_domain, frequency=60, \n",
    "                                     with_avr=False, with_tg=False, with_pss=False)\n",
    "\n",
    "    ### Extend topology with switch between node N15 and groud\n",
    "    sw=None\n",
    "    switch_closed = 0.001 * (230*230/100)\n",
    "    if domain==\"SP\":\n",
    "        sw = dpsimpy.sp.ph1.Switch('Fault', dpsimpy.LogLevel.info)\n",
    "        sw.set_parameters(1e18, switch_closed)\n",
    "        sw.open()\n",
    "        mpc_reader2.dpsimpy_comp_dict['Fault'] = [sw]\n",
    "        mpc_reader2.dpsimpy_comp_dict['Fault'].append([dpsimpy.sp.SimNode.gnd, mpc_reader2.dpsimpy_busses_dict[\"N8\"]])\n",
    "    elif domain==\"DP\":\n",
    "        sw = dpsimpy.dp.ph1.Switch('Fault', dpsimpy.LogLevel.info)\n",
    "        sw.set_parameters(1e18, switch_closed)\n",
    "        sw.open()\n",
    "        mpc_reader2.dpsimpy_comp_dict['Fault'] = [sw]\n",
    "        mpc_reader2.dpsimpy_comp_dict['Fault'].append([dpsimpy.dp.SimNode.gnd, mpc_reader2.dpsimpy_busses_dict[\"N8\"]])\n",
    "    else:\n",
    "        sw = dpsimpy.emt.ph3.SeriesSwitch('Fault', dpsimpy.LogLevel.info)\n",
    "        sw.set_parameters(1e18, switch_closed)\n",
    "        sw.open()\n",
    "        mpc_reader2.dpsimpy_comp_dict['Fault'] = [sw]\n",
    "        mpc_reader2.dpsimpy_comp_dict['Fault'].append([dpsimpy.emt.SimNode.gnd, mpc_reader2.dpsimpy_busses_dict[\"N8\"]])\n",
    "    \n",
    "    # scale inertia constant of geners\n",
    "    if (reduce_inertia):\n",
    "        mpc_reader2.dpsimpy_comp_dict['Gen_N1'][0].scale_inertia_constant(0.7)\n",
    "        mpc_reader2.dpsimpy_comp_dict['Gen_N2'][0].scale_inertia_constant(0.7)\n",
    "        mpc_reader2.dpsimpy_comp_dict['Gen_N3'][0].scale_inertia_constant(0.7)\n",
    "        mpc_reader2.dpsimpy_comp_dict['Gen_N4'][0].scale_inertia_constant(0.7)\n",
    "\n",
    "    # create dpsim topology\n",
    "    mpc_reader2.create_dpsim_topology()\n",
    "\n",
    "    #initialize node voltages using pf results\n",
    "    system_dyn = mpc_reader2.system\n",
    "    if domain==\"EMT\":\n",
    "        system_dyn.init_with_powerflow(system_pf, dpsimpy.Domain.EMT)\n",
    "    else:\n",
    "        system_dyn.init_with_powerflow(systemPF=system_pf)\n",
    "\n",
    "    # log results\n",
    "    logger = dpsimpy.Logger(sim_name_fault)\n",
    "    for node in system_dyn.nodes:\n",
    "        logger.log_attribute(node.name()+'.V', 'v', node)\n",
    "    logger.log_attribute(\"line3_7-8.I\", 'i_intf', mpc_reader2.dpsimpy_comp_dict['line3_7-8'][0])\n",
    "    logger.log_attribute(\"line4_7-8.I\", 'i_intf', mpc_reader2.dpsimpy_comp_dict['line4_7-8'][0])\n",
    "    logger.log_attribute(\"line5_8-9.I\", 'i_intf', mpc_reader2.dpsimpy_comp_dict['line5_8-9'][0])\n",
    "    logger.log_attribute(\"line6_8-9.I\", 'i_intf', mpc_reader2.dpsimpy_comp_dict['line6_8-9'][0])\n",
    "    logger.log_attribute(\"Switch.I\", 'i_intf', sw)\n",
    "\n",
    "    # Parametrize and run simulation\n",
    "    sim = dpsimpy.Simulation(sim_name_fault, dpsimpy.LogLevel.info)\n",
    "    sim.set_system(system_dyn)\n",
    "    if domain==\"EMT\":\n",
    "        sim.set_time_step(1e-4)\n",
    "    else:\n",
    "        sim.set_time_step(1e-4)\n",
    "    sim.set_final_time(10)\n",
    "    sim.set_domain(dpsim_domain)\n",
    "    sim.set_solver(dpsimpy.Solver.MNA)\n",
    "    sim.set_direct_solver_implementation(dpsimpy.DirectLinearSolverImpl.SparseLU)\n",
    "    sim.do_init_from_nodes_and_terminals(True)\n",
    "    sim.add_logger(logger)\n",
    "    sim.do_system_matrix_recomputation(True)\n",
    "\n",
    "    # add events\n",
    "    sw_event_1 = dpsimpy.event.SwitchEvent(1, sw, True)\n",
    "    sw_event_2 = dpsimpy.event.SwitchEvent(1.05, sw, False)\n",
    "    sim.add_event(sw_event_1)\n",
    "    sim.add_event(sw_event_2)\n",
    "\n",
    "    sim.run()\n",
    "    \n",
    "    return sim_name_fault"
   ]
  },
  {
   "cell_type": "markdown",
   "metadata": {},
   "source": [
    "#### SP Simulation"
   ]
  },
  {
   "cell_type": "code",
   "execution_count": null,
   "metadata": {},
   "outputs": [],
   "source": [
    "sim_name_fault_sp = Kundur2Areas_Fault(domain=\"SP\")\n",
    "sim_name_fault_sp_inertia_reduction = Kundur2Areas_Fault(domain=\"SP\", reduce_inertia=True)"
   ]
  },
  {
   "cell_type": "markdown",
   "metadata": {},
   "source": [
    "#### DP Simulation"
   ]
  },
  {
   "cell_type": "code",
   "execution_count": null,
   "metadata": {},
   "outputs": [],
   "source": [
    "sim_name_fault_dp = Kundur2Areas_Fault(domain=\"DP\")\n",
    "sim_name_fault_dp_inertia_reduction = Kundur2Areas_Fault(domain=\"DP\", reduce_inertia=True)"
   ]
  },
  {
   "cell_type": "markdown",
   "metadata": {},
   "source": [
    "#### EMT Simulation"
   ]
  },
  {
   "cell_type": "code",
   "execution_count": null,
   "metadata": {},
   "outputs": [],
   "source": [
    "sim_name_fault_emt = Kundur2Areas_Fault(domain=\"EMT\")\n",
    "sim_name_fault_emt_inertia_reduction = Kundur2Areas_Fault(domain=\"EMT\", reduce_inertia=True)"
   ]
  },
  {
   "attachments": {},
   "cell_type": "markdown",
   "metadata": {},
   "source": [
    "### Read dynamic results"
   ]
  },
  {
   "cell_type": "code",
   "execution_count": null,
   "metadata": {},
   "outputs": [],
   "source": [
    "from villas.dataprocessing.timeseries import TimeSeries as ts\n",
    "import villas.dataprocessing.plottools as pt\n",
    "\n",
    "dpsim_result_file = 'logs/' + sim_name_fault_sp + '/' + sim_name_fault_sp + '.csv'\n",
    "ts_dpsim_sp = read_timeseries_csv(dpsim_result_file)\n",
    "\n",
    "dpsim_result_file = 'logs/' + sim_name_fault_sp_inertia_reduction + '/' + sim_name_fault_sp_inertia_reduction + '.csv'\n",
    "ts_dpsim_sp_low_inertia = read_timeseries_csv(dpsim_result_file)\n",
    "\n",
    "dpsim_result_file = 'logs/' + sim_name_fault_dp + '/' + sim_name_fault_dp + '.csv'\n",
    "ts_dpsim_dp = read_timeseries_csv(dpsim_result_file)\n",
    "\n",
    "dpsim_result_file = 'logs/' + sim_name_fault_dp_inertia_reduction + '/' + sim_name_fault_dp_inertia_reduction + '.csv'\n",
    "ts_dpsim_dp_low_inertia = read_timeseries_csv(dpsim_result_file)\n",
    "\n",
    "dpsim_result_file = 'logs/' + sim_name_fault_emt + '/' + sim_name_fault_emt + '.csv'\n",
    "ts_dpsim_emt = read_timeseries_csv(dpsim_result_file)\n",
    "\n",
    "dpsim_result_file = 'logs/' + sim_name_fault_emt_inertia_reduction + '/' + sim_name_fault_emt_inertia_reduction + '.csv'\n",
    "ts_dpsim_emt_low_inertia = read_timeseries_csv(dpsim_result_file)"
   ]
  },
  {
   "attachments": {},
   "cell_type": "markdown",
   "metadata": {},
   "source": [
    "### Load PSAT results"
   ]
  },
  {
   "cell_type": "code",
   "execution_count": null,
   "metadata": {},
   "outputs": [],
   "source": [
    "#if not os.path.exists('reference-results'):\n",
    "#    os.mkdir('reference-results')\n",
    "\n",
    "#url = 'https://raw.githubusercontent.com/dpsim-simulator/reference-results/master/PSAT/SMIB-Fault/#PSAT_3OrderSyGen_SMIB_Fault_100mS_TS_1mS.out.txt'\n",
    "#local_file_3Order = 'reference-results/PSAT_3OrderSyGen_SMIB_Fault_100mS_TS_1mS.out'\n",
    "local_file = os.path.join(notebook_dir, 'Kundur2Areas/PSAT_Kundur2Areas_Fault_TimeStep_100uS_Tol_1e-5.out')\n",
    "\n",
    "#urllib.request.urlretrieve(url, local_file_3Order) \n",
    "ts_psat = read_timeseries_dpsim(local_file)"
   ]
  },
  {
   "cell_type": "markdown",
   "metadata": {},
   "source": [
    "#### Power exchange between Area 1 & Area 2"
   ]
  },
  {
   "cell_type": "code",
   "execution_count": null,
   "metadata": {},
   "outputs": [],
   "source": [
    "from mpl_toolkits.axes_grid1.inset_locator import zoomed_inset_axes, mark_inset\n",
    "from mpl_toolkits.axes_grid1.inset_locator import TransformedBbox, BboxPatch, BboxConnector \n",
    "\n",
    "timestep_common = 1e-4\n",
    "t_begin = 0.0\n",
    "t_end = 10\n",
    "begin_idx = int(t_begin/timestep_common)\n",
    "end_idx= int(t_end/timestep_common)\n",
    "time = np.linspace(t_begin, t_end, num=end_idx-begin_idx)\n",
    "\n",
    "### Calulate power exchange classical case\n",
    "power_line3_sp = np.conjugate(ts_dpsim_sp[\"line3_7-8.I\"].interpolate(timestep_common).values[begin_idx:end_idx]) * ts_dpsim_sp[\"N7.V\"].interpolate(timestep_common).values[begin_idx:end_idx]\n",
    "power_line4_sp = np.conjugate(ts_dpsim_sp[\"line4_7-8.I\"].interpolate(timestep_common).values[begin_idx:end_idx]) * ts_dpsim_sp[\"N7.V\"].interpolate(timestep_common).values[begin_idx:end_idx]\n",
    "power_switch_sp = np.conjugate(ts_dpsim_sp[\"Switch.I\"].interpolate(timestep_common).values[begin_idx:end_idx]) * ts_dpsim_sp[\"N8.V\"].interpolate(timestep_common).values[begin_idx:end_idx]\n",
    "#power_switch_sp = 0\n",
    "\n",
    "power_line3_dp = np.conjugate(ts_dpsim_dp[\"line3_7-8.I\"].interpolate(timestep_common).values[begin_idx:end_idx]) * ts_dpsim_dp[\"N7.V\"].interpolate(timestep_common).values[begin_idx:end_idx]\n",
    "power_line4_dp = np.conjugate(ts_dpsim_dp[\"line4_7-8.I\"].interpolate(timestep_common).values[begin_idx:end_idx]) * ts_dpsim_dp[\"N7.V\"].interpolate(timestep_common).values[begin_idx:end_idx]\n",
    "power_switch_dp = np.conjugate(ts_dpsim_dp[\"Switch.I\"].interpolate(timestep_common).values[begin_idx:end_idx]) * ts_dpsim_dp[\"N8.V\"].interpolate(timestep_common).values[begin_idx:end_idx]\n",
    "#power_switch_sp = 0\n",
    "\n",
    "power_line3_emt = ts_dpsim_emt[\"line3_7-8.I_0\"].interpolate(timestep_common).values[begin_idx:end_idx] * ts_dpsim_emt[\"N7.V_0\"].interpolate(timestep_common).values[begin_idx:end_idx] + \\\n",
    "                  ts_dpsim_emt[\"line3_7-8.I_1\"].interpolate(timestep_common).values[begin_idx:end_idx] * ts_dpsim_emt[\"N7.V_1\"].interpolate(timestep_common).values[begin_idx:end_idx] + \\\n",
    "                  ts_dpsim_emt[\"line3_7-8.I_2\"].interpolate(timestep_common).values[begin_idx:end_idx] * ts_dpsim_emt[\"N7.V_2\"].interpolate(timestep_common).values[begin_idx:end_idx]\n",
    "power_line4_emt = ts_dpsim_emt[\"line4_7-8.I_0\"].interpolate(timestep_common).values[begin_idx:end_idx] * ts_dpsim_emt[\"N7.V_0\"].interpolate(timestep_common).values[begin_idx:end_idx] + \\\n",
    "                  ts_dpsim_emt[\"line4_7-8.I_1\"].interpolate(timestep_common).values[begin_idx:end_idx] * ts_dpsim_emt[\"N7.V_1\"].interpolate(timestep_common).values[begin_idx:end_idx] + \\\n",
    "                  ts_dpsim_emt[\"line4_7-8.I_2\"].interpolate(timestep_common).values[begin_idx:end_idx] * ts_dpsim_emt[\"N7.V_2\"].interpolate(timestep_common).values[begin_idx:end_idx]       \n",
    "power_switch_emt = ts_dpsim_emt[\"Switch.I_0\"].interpolate(timestep_common).values[begin_idx:end_idx] * ts_dpsim_emt[\"N8.V_0\"].interpolate(timestep_common).values[begin_idx:end_idx] + \\\n",
    "                   ts_dpsim_emt[\"Switch.I_1\"].interpolate(timestep_common).values[begin_idx:end_idx] * ts_dpsim_emt[\"N8.V_1\"].interpolate(timestep_common).values[begin_idx:end_idx] + \\\n",
    "                   ts_dpsim_emt[\"Switch.I_2\"].interpolate(timestep_common).values[begin_idx:end_idx] * ts_dpsim_emt[\"N8.V_2\"].interpolate(timestep_common).values[begin_idx:end_idx]\n",
    "#power_switch_sp = 0\n",
    "\n",
    "### Calulate power exchange low inertia case\n",
    "power_line3_sp_low_inertia = np.conjugate(ts_dpsim_sp_low_inertia[\"line3_7-8.I\"].interpolate(timestep_common).values[begin_idx:end_idx]) * ts_dpsim_dp_low_inertia[\"N7.V\"].interpolate(timestep_common).values[begin_idx:end_idx]\n",
    "power_line4_sp_low_inertia = np.conjugate(ts_dpsim_sp_low_inertia[\"line4_7-8.I\"].interpolate(timestep_common).values[begin_idx:end_idx]) * ts_dpsim_dp_low_inertia[\"N7.V\"].interpolate(timestep_common).values[begin_idx:end_idx]\n",
    "power_switch_sp_low_inertia = np.conjugate(ts_dpsim_sp_low_inertia[\"Switch.I\"].interpolate(timestep_common).values[begin_idx:end_idx]) * ts_dpsim_dp_low_inertia[\"N8.V\"].interpolate(timestep_common).values[begin_idx:end_idx]\n",
    "\n",
    "power_line3_dp_low_inertia = np.conjugate(ts_dpsim_dp_low_inertia[\"line3_7-8.I\"].interpolate(timestep_common).values[begin_idx:end_idx]) * ts_dpsim_dp_low_inertia[\"N7.V\"].interpolate(timestep_common).values[begin_idx:end_idx]\n",
    "power_line4_dp_low_inertia = np.conjugate(ts_dpsim_dp_low_inertia[\"line4_7-8.I\"].interpolate(timestep_common).values[begin_idx:end_idx]) * ts_dpsim_dp_low_inertia[\"N7.V\"].interpolate(timestep_common).values[begin_idx:end_idx]\n",
    "power_switch_dp_low_inertia = np.conjugate(ts_dpsim_dp_low_inertia[\"Switch.I\"].interpolate(timestep_common).values[begin_idx:end_idx]) * ts_dpsim_dp_low_inertia[\"N8.V\"].interpolate(timestep_common).values[begin_idx:end_idx]\n",
    "\n",
    "power_line3_emt_low_inertia = ts_dpsim_emt_low_inertia[\"line3_7-8.I_0\"].interpolate(timestep_common).values[begin_idx:end_idx] * ts_dpsim_emt_low_inertia[\"N7.V_0\"].interpolate(timestep_common).values[begin_idx:end_idx] + \\\n",
    "                              ts_dpsim_emt_low_inertia[\"line3_7-8.I_1\"].interpolate(timestep_common).values[begin_idx:end_idx] * ts_dpsim_emt_low_inertia[\"N7.V_1\"].interpolate(timestep_common).values[begin_idx:end_idx] + \\\n",
    "                              ts_dpsim_emt_low_inertia[\"line3_7-8.I_2\"].interpolate(timestep_common).values[begin_idx:end_idx] * ts_dpsim_emt_low_inertia[\"N7.V_2\"].interpolate(timestep_common).values[begin_idx:end_idx]\n",
    "power_line4_emt_low_inertia = ts_dpsim_emt_low_inertia[\"line4_7-8.I_0\"].interpolate(timestep_common).values[begin_idx:end_idx] * ts_dpsim_emt_low_inertia[\"N7.V_0\"].interpolate(timestep_common).values[begin_idx:end_idx] + \\\n",
    "                              ts_dpsim_emt_low_inertia[\"line4_7-8.I_1\"].interpolate(timestep_common).values[begin_idx:end_idx] * ts_dpsim_emt_low_inertia[\"N7.V_1\"].interpolate(timestep_common).values[begin_idx:end_idx] + \\\n",
    "                              ts_dpsim_emt_low_inertia[\"line4_7-8.I_2\"].interpolate(timestep_common).values[begin_idx:end_idx] * ts_dpsim_emt_low_inertia[\"N7.V_2\"].interpolate(timestep_common).values[begin_idx:end_idx]\n",
    "power_switch_emt_low_inertia = ts_dpsim_emt_low_inertia[\"Switch.I_0\"].interpolate(timestep_common).values[begin_idx:end_idx] * ts_dpsim_emt_low_inertia[\"N8.V_0\"].interpolate(timestep_common).values[begin_idx:end_idx] + \\\n",
    "                               ts_dpsim_emt_low_inertia[\"Switch.I_1\"].interpolate(timestep_common).values[begin_idx:end_idx] * ts_dpsim_emt_low_inertia[\"N8.V_1\"].interpolate(timestep_common).values[begin_idx:end_idx] + \\\n",
    "                               ts_dpsim_emt_low_inertia[\"Switch.I_2\"].interpolate(timestep_common).values[begin_idx:end_idx] * ts_dpsim_emt_low_inertia[\"N8.V_2\"].interpolate(timestep_common).values[begin_idx:end_idx]    \n",
    "\n",
    "\n",
    "#fig, ax1 = plt.subplots(figsize=(7, 4))\n",
    "fig, axes = plt.subplots(nrows=1, ncols=2, figsize=(20, 7))\n",
    "axes[0].plot(time, (power_line3_emt + power_line4_emt - power_switch_emt) * 1e-6, label='EMT')\n",
    "axes[0].plot(time, (power_line3_dp + power_line4_dp - power_switch_dp).real * 1e-6, '--', label='DP')\n",
    "axes[0].plot(time, (power_line3_sp + power_line4_sp - power_switch_sp).real  * 1e-6, '--', label='RMS')\n",
    "axes[0].legend(loc='upper right')\n",
    "axes[0].set_xlabel('Time (s)')\n",
    "axes[0].set_ylabel('Active power exchange Area 1 - Area 2 (MW)')\n",
    "axes[0].grid()\n",
    "axes[0].set_xlim([0.8, 3])\n",
    "#axes[0].ylim([100, 500])\n",
    "#plt.ylim([-100, 700])\n",
    "\n",
    "#second axis of first plot\n",
    "roi_start_second=0.99\n",
    "roi_end_second=1.13\n",
    "ylim = axes[0].get_ylim()\n",
    "roi = range(int(roi_start_second/timestep_common), int(roi_end_second/timestep_common))\n",
    "ax2 = axes[0].inset_axes([0.2, 0.15, .7, .55])\n",
    "#x1, x2, y1, y2 = roi_start_second, roi_end_second, ylim[0], ylim[1]\n",
    "x1, x2, y1, y2 = roi_start_second, roi_end_second, -300, 750\n",
    "mark_inset(axes[0], ax2, loc1=2, loc2=3, fc=\"none\", ec='1', color='black')\n",
    "ax2.plot(time[roi], (power_line3_emt + power_line4_emt - power_switch_emt)[roi] * 1e-6, label='EMT', linewidth=1)   \n",
    "ax2.plot(time[roi], (power_line3_dp + power_line4_dp - power_switch_dp).real[roi] * 1e-6, '--', label='DP', linewidth=1)   \n",
    "ax2.plot(time[roi], (power_line3_sp + power_line4_sp - power_switch_sp).real[roi] * 1e-6, '--', label='SP', linewidth=1)    \n",
    "ax2.set_xticklabels([])\n",
    "ax2.set_yticklabels([])\n",
    "ax2.set_xlim(x1, x2)\n",
    "ax2.set_ylim(y1, y2)\n",
    "ax2.tick_params(top=False, bottom=False, left=False, right=False, labelleft=True, labelbottom=True)\n",
    "ax2.grid()\n",
    "plt.tight_layout()\n",
    "#plt.savefig(\"./plotting/PowerExchange_ClassicInertia.pdf\")\n",
    "\n",
    "#second plot\n",
    "axes[1].plot(time, (power_line3_emt_low_inertia + power_line4_emt_low_inertia - power_switch_emt_low_inertia) * 1e-6, label='EMT')\n",
    "axes[1].plot(time, (power_line3_dp_low_inertia + power_line4_dp_low_inertia - power_switch_dp_low_inertia).real * 1e-6, '--', label='DP')\n",
    "axes[1].plot(time, (power_line3_sp_low_inertia + power_line4_sp_low_inertia - power_switch_sp_low_inertia).real * 1e-6, '--', label='RMS')\n",
    "axes[1].legend(loc='lower right')\n",
    "axes[1].set_xlabel('Time (s)')\n",
    "axes[1].set_ylabel('Active power exchange Area 1 - Area 2 (MW)')\n",
    "axes[1].grid()\n",
    "axes[1].set_xlim([0, 10])\n",
    "#axes[1].set_ylim([-100, 700])\n",
    "#axes[1].set_ylim([0, 500])\n",
    "\n",
    "#second axis of second plot\n",
    "roi_start_second=0.99\n",
    "roi_end_second=1.13\n",
    "ylim = axes[1].get_ylim()\n",
    "roi = range(int(roi_start_second/timestep_common), int(roi_end_second/timestep_common))\n",
    "ax2 = axes[1].inset_axes([0.18, 0.05, .61, .4])\n",
    "#x1, x2, y1, y2 = roi_start_second, roi_end_second, ylim[0], ylim[1]\n",
    "x1, x2, y1, y2 = roi_start_second, roi_end_second, -50, 620\n",
    "mark_inset(axes[1], ax2, loc1=2, loc2=3, fc=\"none\", ec='1', color='black')\n",
    "ax2.plot(time[roi], (power_line3_emt_low_inertia + power_line4_emt_low_inertia - power_switch_emt_low_inertia)[roi] * 1e-6, label='EMT')\n",
    "ax2.plot(time[roi], (power_line3_dp_low_inertia + power_line4_dp_low_inertia - power_switch_dp_low_inertia).real[roi] * 1e-6, '--', label='DP', linewidth=1)   \n",
    "ax2.plot(time[roi], (power_line3_sp_low_inertia + power_line4_sp_low_inertia - power_switch_sp_low_inertia).real[roi] * 1e-6, '--', label='SP', linewidth=1)    \n",
    "ax2.set_xticklabels([])\n",
    "ax2.set_yticklabels([])\n",
    "ax2.set_xlim(x1, x2)\n",
    "ax2.set_ylim(y1, y2)\n",
    "ax2.tick_params(top=False, bottom=False, left=False, right=False, labelleft=True, labelbottom=True)\n",
    "ax2.grid()\n",
    "plt.tight_layout()\n",
    "#plt.savefig(\"./plotting/PowerExchange_LowInertia.pdf\")\n",
    "plt.show()"
   ]
  },
  {
   "attachments": {},
   "cell_type": "markdown",
   "metadata": {},
   "source": [
    "### Plot results"
   ]
  },
  {
   "cell_type": "code",
   "execution_count": null,
   "metadata": {},
   "outputs": [],
   "source": [
    "timestep_common = 1e-3\n",
    "t_begin = 0.0\n",
    "t_end = 10\n",
    "begin_idx = int(t_begin/timestep_common)\n",
    "end_idx= int(t_end/timestep_common)\n",
    "time = np.linspace(t_begin, t_end, num=end_idx-begin_idx)\n",
    "\n",
    "#plot parameters\n",
    "width = 12\n",
    "height = 4\n",
    "\n",
    "def plot_node_volt_abs(varname_dpsim, varname_psat, ts_dpsim_sp, ts_dpsim_dp, ts_dpsim_emt, \n",
    "                       ts_dpsim_sp_low_inertia, ts_dpsim_dp_low_inertia, ts_dpsim_emt_low_inertia, \n",
    "                       ts_psat, nominal_voltage, timestep_common=1e-3):\n",
    "    \n",
    "    #convert dpsim voltage to magnitude value and per-unit for comparison with psat\n",
    "    dpsim_sp_values_abs_pu = ts_dpsim_sp[varname_dpsim].interpolate(timestep_common).abs().values[begin_idx:end_idx]/nominal_voltage\n",
    "    dpsim_sp_low_inertia_values_abs_pu = ts_dpsim_sp_low_inertia[varname_dpsim].interpolate(timestep_common).abs().values[begin_idx:end_idx]/nominal_voltage\n",
    "    dpsim_dp_values_abs_pu = ts_dpsim_dp[varname_dpsim].interpolate(timestep_common).abs().values[begin_idx:end_idx]/nominal_voltage\n",
    "    dpsim_dp_low_inertia_values_abs_pu = ts_dpsim_dp_low_inertia[varname_dpsim].interpolate(timestep_common).abs().values[begin_idx:end_idx]/nominal_voltage\n",
    "    dpsim_emt_values_abs_pu = ts_dpsim_emt[varname_dpsim+\"_0\"].interpolate(timestep_common).values[begin_idx:end_idx]/nominal_voltage\n",
    "    dpsim_emt_low_inertia_values_abs_pu = ts_dpsim_emt_low_inertia[varname_dpsim+\"_0\"].interpolate(timestep_common).abs().values[begin_idx:end_idx]/nominal_voltage\n",
    "    psat_values = ts_psat[varname_psat].interpolate(timestep_common).values[begin_idx:end_idx]\n",
    "    \n",
    "    plt.figure(figsize=(width, height))\n",
    "    plt.plot(time, dpsim_sp_values_abs_pu, label='SP - DPsim')\n",
    "    plt.plot(time, dpsim_dp_values_abs_pu, label='DP - DPsim')\n",
    "    plt.plot(time, psat_values, '--', label='PSAT')\n",
    "    plt.legend(loc='lower right')\n",
    "    plt.xlabel('time (s)')\n",
    "    plt.grid()\n",
    "    #plt.ylim([1.058, 1.062])\n",
    "    #plt.xlim([0.95, 1.2])\n",
    "    plt.show()\n",
    "    \n",
    "    plt.figure(figsize=(width, height))\n",
    "    plt.plot(time, dpsim_emt_values_abs_pu * dpsimpy.PEAK1PH_TO_RMS3PH, label='EMT - DPsim')\n",
    "    plt.plot(time, dpsim_sp_values_abs_pu, '--', label='SP - DPsim')\n",
    "    plt.plot(time, dpsim_dp_values_abs_pu, '--', label='DP - DPsim')\n",
    "    \n",
    "    plt.legend(loc='lower right')\n",
    "    plt.xlabel('time (s)')\n",
    "    plt.grid()\n",
    "    plt.xlim([0.95, 1.3])\n",
    "    plt.show()\n",
    "    \n",
    "    \"\"\"\n",
    "    plt.figure(figsize=(width, height))\n",
    "    plt.plot(time, dpsim_dp_low_inertia_values_abs_pu, label='Low Inertia DP - DPsim')\n",
    "    plt.plot(time, dpsim_sp_low_inertia_values_abs_pu, '--', label='Low Inertia SP - DPsim')\n",
    "    plt.legend(loc='lower right')\n",
    "    plt.xlabel('time (s)')\n",
    "    plt.grid()\n",
    "    plt.xlim([0.82, 2])\n",
    "    plt.show()\n",
    "    \"\"\"\n",
    "    \n",
    "    #calculate RMSE\n",
    "    rmse = np.sqrt(((dpsim_sp_values_abs_pu - psat_values) ** 2).mean())\n",
    "    print('RMSE {:s}  = {:.6f} (pu), which is {:.3f}% of the nominal value = {:.3f} (pu) '.format(varname_dpsim, rmse, rmse/1.0*100, 1.0))"
   ]
  },
  {
   "attachments": {},
   "cell_type": "markdown",
   "metadata": {},
   "source": [
    "#### LV side"
   ]
  },
  {
   "cell_type": "code",
   "execution_count": null,
   "metadata": {},
   "outputs": [],
   "source": [
    "varname_dpsim = 'N1.V'\n",
    "varname_psat = 'V_Bus01'\n",
    "nominal_voltage = 20000\n",
    "plot_node_volt_abs(varname_dpsim, varname_psat, ts_dpsim_sp, ts_dpsim_dp, ts_dpsim_emt, ts_dpsim_sp_low_inertia, ts_dpsim_dp_low_inertia, ts_dpsim_emt_low_inertia, ts_psat, nominal_voltage, timestep_common=1e-3)"
   ]
  },
  {
   "cell_type": "code",
   "execution_count": null,
   "metadata": {},
   "outputs": [],
   "source": [
    "varname_dpsim = 'N2.V'\n",
    "varname_psat = 'V_Bus02'\n",
    "nominal_voltage = 20000\n",
    "plot_node_volt_abs(varname_dpsim, varname_psat, ts_dpsim_sp, ts_dpsim_dp, ts_dpsim_emt, ts_dpsim_sp_low_inertia, ts_dpsim_dp_low_inertia, ts_dpsim_emt_low_inertia, ts_psat, nominal_voltage)"
   ]
  },
  {
   "cell_type": "code",
   "execution_count": null,
   "metadata": {},
   "outputs": [],
   "source": [
    "varname_dpsim = 'N3.V'\n",
    "varname_psat = 'V_Bus03'\n",
    "nominal_voltage = 20000\n",
    "plot_node_volt_abs(varname_dpsim, varname_psat, ts_dpsim_sp, ts_dpsim_dp, ts_dpsim_emt, ts_dpsim_sp_low_inertia, ts_dpsim_dp_low_inertia, ts_dpsim_emt_low_inertia, ts_psat, nominal_voltage)"
   ]
  },
  {
   "cell_type": "code",
   "execution_count": null,
   "metadata": {},
   "outputs": [],
   "source": [
    "varname_dpsim = 'N4.V'\n",
    "varname_psat = 'V_Bus04'\n",
    "nominal_voltage = 20000\n",
    "plot_node_volt_abs(varname_dpsim, varname_psat, ts_dpsim_sp, ts_dpsim_dp, ts_dpsim_emt, ts_dpsim_sp_low_inertia, ts_dpsim_dp_low_inertia, ts_dpsim_emt_low_inertia, ts_psat, nominal_voltage)"
   ]
  },
  {
   "cell_type": "code",
   "execution_count": null,
   "metadata": {},
   "outputs": [],
   "source": [
    "varname_dpsim = 'N5.V'\n",
    "varname_psat = 'V_Bus05'\n",
    "nominal_voltage = 230000\n",
    "plot_node_volt_abs(varname_dpsim, varname_psat, ts_dpsim_sp, ts_dpsim_dp, ts_dpsim_emt, ts_dpsim_sp_low_inertia, ts_dpsim_dp_low_inertia, ts_dpsim_emt_low_inertia, ts_psat, nominal_voltage)"
   ]
  },
  {
   "attachments": {},
   "cell_type": "markdown",
   "metadata": {},
   "source": [
    "#### Low voltage side"
   ]
  },
  {
   "cell_type": "code",
   "execution_count": null,
   "metadata": {},
   "outputs": [],
   "source": [
    "varname_dpsim = 'N6.V'\n",
    "varname_psat = 'V_Bus06'\n",
    "nominal_voltage = 230000\n",
    "plot_node_volt_abs(varname_dpsim, varname_psat, ts_dpsim_sp, ts_dpsim_dp, ts_dpsim_emt, ts_dpsim_sp_low_inertia, ts_dpsim_dp_low_inertia, ts_dpsim_emt_low_inertia, ts_psat, nominal_voltage)"
   ]
  },
  {
   "cell_type": "code",
   "execution_count": null,
   "metadata": {},
   "outputs": [],
   "source": [
    "varname_dpsim = 'N7.V'\n",
    "varname_psat = 'V_Bus07'\n",
    "nominal_voltage = 230000\n",
    "plot_node_volt_abs(varname_dpsim, varname_psat, ts_dpsim_sp, ts_dpsim_dp, ts_dpsim_emt, ts_dpsim_sp_low_inertia, ts_dpsim_dp_low_inertia, ts_dpsim_emt_low_inertia, ts_psat, nominal_voltage)"
   ]
  },
  {
   "cell_type": "code",
   "execution_count": null,
   "metadata": {},
   "outputs": [],
   "source": [
    "varname_dpsim = 'N8.V'\n",
    "varname_psat = 'V_Bus08'\n",
    "nominal_voltage = 230000\n",
    "plot_node_volt_abs(varname_dpsim, varname_psat, ts_dpsim_sp, ts_dpsim_dp, ts_dpsim_emt, ts_dpsim_sp_low_inertia, ts_dpsim_dp_low_inertia, ts_dpsim_emt_low_inertia, ts_psat, nominal_voltage)"
   ]
  },
  {
   "cell_type": "code",
   "execution_count": null,
   "metadata": {},
   "outputs": [],
   "source": [
    "varname_dpsim = 'N9.V'\n",
    "varname_psat = 'V_Bus09'\n",
    "nominal_voltage = 230000\n",
    "plot_node_volt_abs(varname_dpsim, varname_psat, ts_dpsim_sp, ts_dpsim_dp, ts_dpsim_emt, ts_dpsim_sp_low_inertia, ts_dpsim_dp_low_inertia, ts_dpsim_emt_low_inertia, ts_psat, nominal_voltage)"
   ]
  },
  {
   "cell_type": "code",
   "execution_count": null,
   "metadata": {},
   "outputs": [],
   "source": [
    "varname_dpsim = 'N10.V'\n",
    "varname_psat = 'V_Bus10'\n",
    "nominal_voltage = 230000\n",
    "plot_node_volt_abs(varname_dpsim, varname_psat, ts_dpsim_sp, ts_dpsim_dp, ts_dpsim_emt, ts_dpsim_sp_low_inertia, ts_dpsim_dp_low_inertia, ts_dpsim_emt_low_inertia, ts_psat, nominal_voltage)"
   ]
  },
  {
   "cell_type": "code",
   "execution_count": null,
   "metadata": {},
   "outputs": [],
   "source": [
    "varname_dpsim = 'N11.V'\n",
    "varname_psat = 'V_Bus11'\n",
    "nominal_voltage = 230000\n",
    "plot_node_volt_abs(varname_dpsim, varname_psat, ts_dpsim_sp, ts_dpsim_dp, ts_dpsim_emt, ts_dpsim_sp_low_inertia, ts_dpsim_dp_low_inertia, ts_dpsim_emt_low_inertia, ts_psat, nominal_voltage)"
   ]
  },
  {
   "cell_type": "code",
   "execution_count": null,
   "metadata": {},
   "outputs": [],
   "source": []
  }
 ],
 "metadata": {
  "kernelspec": {
   "display_name": "Python 3",
   "language": "python",
   "name": "python3"
  },
  "language_info": {
   "codemirror_mode": {
    "name": "ipython",
    "version": 3
   },
   "file_extension": ".py",
   "mimetype": "text/x-python",
   "name": "python",
   "nbconvert_exporter": "python",
   "pygments_lexer": "ipython3",
   "version": "3.10.11"
  },
  "tests": {
   "skip": true
  },
  "vscode": {
   "interpreter": {
    "hash": "767d51c1340bd893661ea55ea3124f6de3c7a262a8b4abca0554b478b1e2ff90"
   }
  }
 },
 "nbformat": 4,
 "nbformat_minor": 4
}
